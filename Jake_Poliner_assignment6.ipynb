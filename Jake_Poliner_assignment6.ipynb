{
 "cells": [
  {
   "cell_type": "markdown",
   "metadata": {},
   "source": [
    "<h1>Problem 1: Factorials using numpy</h1>\n",
    "<li><b>prod</b> A numpy function that returns the product of all elements in an array\n",
    "<li><b>cumprod</b> A numpy function on an ndarray of size n that returns an array of size n where each element i is the product of all elements from 0 to i\n"
   ]
  },
  {
   "cell_type": "code",
   "execution_count": 165,
   "metadata": {
    "collapsed": true
   },
   "outputs": [],
   "source": [
    "\"\"\"\n",
    "Replace pass with the code that uses ndarray, prod and cumprod \n",
    "to calculate the factorial of n\n",
    "\n",
    "The function should take an integer as an argument and return an integer\n",
    "\n",
    "\"\"\"\n",
    "def factorial(n):\n",
    "    import numpy as np\n",
    "    final_list = range(1,n+1)\n",
    "    return np.prod(np.array(final_list))\n"
   ]
  },
  {
   "cell_type": "code",
   "execution_count": 167,
   "metadata": {},
   "outputs": [],
   "source": [
    "\"\"\"\n",
    "Replace pass with the code that uses ndarray, prod and cumprod to \n",
    "calculate the factorials of all values from 1 to n\n",
    "\n",
    "The function should take an integer as an argument and return an ndarray\n",
    "of size n \n",
    "\n",
    "\"\"\"\n",
    "\n",
    "def all_factorials(n):\n",
    "    import numpy as np\n",
    "    list_of_vals = list(range(1,n+1))\n",
    "    factorials = []\n",
    "    for each in list_of_vals:\n",
    "        factorials.append(factorial(each))\n",
    "    for i in factorials:\n",
    "        list_of_vals.append(i)\n",
    "    return np.array(list_of_vals).reshape(2,n)\n"
   ]
  },
  {
   "cell_type": "markdown",
   "metadata": {},
   "source": [
    "<h1>Problem 2: Percent changes</h1>\n",
    "Write a function that constructs an ndarray from data in a file and \n",
    "returns a 1-period percent change on an ndarray after removing any nan values. Your function must make use of the following functions:\n",
    "<li>np.genfromtxt: https://docs.scipy.org/doc/numpy-1.13.0/reference/generated/numpy.genfromtxt.html\n",
    "<li>np.diff: https://docs.scipy.org/doc/numpy-1.13.0/reference/generated/numpy.diff.html\n",
    "<li>np.isnan: https://docs.scipy.org/doc/numpy-1.13.0/reference/generated/numpy.isnan.html\n",
    "\n",
    "<p>Test your function out using the attached apple.csv file. Your function can assume that the file structure is (date,price)\n",
    "\n",
    "<p>Note that percent change is defined as (p(t)-p(t-1))/p(t-1)\n",
    "\n",
    "<b>Example:</b><br>\n",
    "If the data array is: np.array([1,2,np.NaN,4,8,np.NAN])\n",
    "<br>\n",
    "The output array should be<br>\n",
    "array([ 1.,  1.,  1.])\n"
   ]
  },
  {
   "cell_type": "code",
   "execution_count": 168,
   "metadata": {},
   "outputs": [
    {
     "data": {
      "text/plain": [
       "array([-0.00078596,  0.00977174, -0.01396236, ...,  0.00351193,\n",
       "        0.00673337,  0.00888852])"
      ]
     },
     "execution_count": 168,
     "metadata": {},
     "output_type": "execute_result"
    }
   ],
   "source": [
    "def get_pct_changes(file_name):\n",
    "    import numpy as np\n",
    "    data = np.genfromtxt(file_name, delimiter = ',') #returns just the price column (as ndarray)\n",
    "    #data = np.genfromtxt(file_name,dtype = 'unicode', delimiter = ',')[1:] #drops date,price first row & returns the tuple\n",
    "    data = data[~np.isnan(data)]\n",
    "    \n",
    "    difference_list = np.diff(data)\n",
    "    \n",
    "    denominatorList = []\n",
    "    for each in data[:-1]:\n",
    "        denominatorList.append(each)\n",
    "        \n",
    "    return (difference_list/denominatorList) \n",
    "get_pct_changes('aapl.csv')"
   ]
  },
  {
   "cell_type": "markdown",
   "metadata": {},
   "source": [
    "<h1>Problem 3: Pandas Grouping</h1>\n",
    "Write a program that reads timeseries pricing data from a file into a pandas dataframe and then groups the data as follows:\n",
    "<li>Adds a column, one-day percent change to the file \n",
    "<li>Groups the data into four categories:\n",
    "<ul>\n",
    "<li>\"High+\" if the percent change is greater than 2.5%\n",
    "<li>\"Low+\" if the percent change is positive and less than or equal to 2.5% \n",
    "<li>\"Low-\" if the percent change is negative but greater than or equal to -2.5%\n",
    "<li>\"High-\" if the percent change is less than -2.5%\n",
    "</ul>\n",
    "<li>Report the size and the mean of each of the groups\n",
    "\n"
   ]
  },
  {
   "cell_type": "code",
   "execution_count": 188,
   "metadata": {},
   "outputs": [
    {
     "name": "stdout",
     "output_type": "stream",
     "text": [
      "High+ size: 51| High+ mean: 0.0370125497927\n",
      "Low+ size: 613| Low+ mean: 0.00841255215409\n",
      "Low- size: 551| Low- mean: -0.00743382804913\n",
      "High- size: 44| High+ mean: -0.0347515726822\n"
     ]
    }
   ],
   "source": [
    "datafile = \"aapl.csv\"\n",
    "import pandas as pd\n",
    "import numpy as np\n",
    "df = pd.read_csv('aapl.csv',na_values='null')\n",
    "list_of_pct_change = [0]\n",
    "for i in get_pct_changes(datafile):\n",
    "    list_of_pct_change.append(i)\n",
    "\n",
    "df['one-day_pct_change'] = list_of_pct_change\n",
    "\n",
    "highplus,lowplus,lowminus,highminus = [], [], [], []\n",
    "for each in df['one-day_pct_change']:\n",
    "    if each > .025:\n",
    "        highplus.append(each)\n",
    "    elif each > 0:\n",
    "        lowplus.append(each)\n",
    "    elif each > -.025:\n",
    "        lowminus.append(each)\n",
    "    else:\n",
    "        highminus.append(each)\n",
    "HPlength = len(highplus)\n",
    "LPlength = len(lowplus)\n",
    "LMlength = len(lowminus)\n",
    "HMlength = len(highminus)\n",
    "\n",
    "\n",
    "highplus = np.array(highplus)\n",
    "lowplus = np.array(lowplus)\n",
    "lowminus = np.array(lowminus)\n",
    "highminus = np.array(highminus)\n",
    "\n",
    "print('High+ size: ' + str (HPlength) + \"| High+ mean: \" + str(highplus.mean()))\n",
    "print('Low+ size: ' + str (LPlength) + \"| Low+ mean: \" + str(lowplus.mean()))\n",
    "print('Low- size: ' + str (LMlength) + \"| Low- mean: \" + str(lowminus.mean()))\n",
    "print('High- size: ' + str (HMlength) + \"| High+ mean: \" + str(highminus.mean()))"
   ]
  },
  {
   "cell_type": "code",
   "execution_count": null,
   "metadata": {
    "collapsed": true
   },
   "outputs": [],
   "source": []
  }
 ],
 "metadata": {
  "kernelspec": {
   "display_name": "Python 3",
   "language": "python",
   "name": "python3"
  },
  "language_info": {
   "codemirror_mode": {
    "name": "ipython",
    "version": 3
   },
   "file_extension": ".py",
   "mimetype": "text/x-python",
   "name": "python",
   "nbconvert_exporter": "python",
   "pygments_lexer": "ipython3",
   "version": "3.6.5"
  }
 },
 "nbformat": 4,
 "nbformat_minor": 2
}
