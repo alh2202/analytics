{
 "cells": [
  {
   "cell_type": "code",
   "execution_count": null,
   "metadata": {},
   "outputs": [],
   "source": [
    "Data Pre-Processing\n",
    "Datetime_objects\n",
    "Data visualization\n",
    "Mapping Basics\n",
    "zipcode.geojson\n",
    "Text mining part 1\n",
    "text mining part 2\n",
    "twitter api - 1\n",
    "yelp api -1\n",
    "#what is in data zip?\n"
   ]
  }
 ],
 "metadata": {
  "kernelspec": {
   "display_name": "Python 3",
   "language": "python",
   "name": "python3"
  },
  "language_info": {
   "codemirror_mode": {
    "name": "ipython",
    "version": 3
   },
   "file_extension": ".py",
   "mimetype": "text/x-python",
   "name": "python",
   "nbconvert_exporter": "python",
   "pygments_lexer": "ipython3",
   "version": "3.6.5"
  }
 },
 "nbformat": 4,
 "nbformat_minor": 2
}
