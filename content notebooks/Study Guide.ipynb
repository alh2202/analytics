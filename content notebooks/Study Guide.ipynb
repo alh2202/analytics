{
 "cells": [
  {
   "cell_type": "code",
   "execution_count": 1,
   "metadata": {},
   "outputs": [
    {
     "ename": "SyntaxError",
     "evalue": "invalid syntax (<ipython-input-1-44d6652c6130>, line 2)",
     "output_type": "error",
     "traceback": [
      "\u001b[0;36m  File \u001b[0;32m\"<ipython-input-1-44d6652c6130>\"\u001b[0;36m, line \u001b[0;32m2\u001b[0m\n\u001b[0;31m    21//3(.0) division returns int if (.0) then float\u001b[0m\n\u001b[0m                     ^\u001b[0m\n\u001b[0;31mSyntaxError\u001b[0m\u001b[0;31m:\u001b[0m invalid syntax\n"
     ]
    }
   ],
   "source": [
    "type(x)\n",
    "21//3(.0) division returns int if (.0) then float\n",
    "x[0::2]#0 until the end 2 characters at a time x[::-1] reverses the string\n",
    "period_loc = x.find('.'), x[:period_loc] #returns up to the period\n",
    "z=(x==y) #False because x and y are not the same #strings with value are always true\n",
    "x = [], x.insert(0,'h') # will insert h at position 0\n",
    "x.extend([1,h,2])#adds values in that order to the back of the list \n",
    "x.remove(3) #removes first 3 items\n",
    "x = ((1,2), ['a','b'],3) #tuple is an immutable object, does not support item assignments\n",
    "x = range(10,100,5) /n list(x) #item beginning at 10, up to 100, increment by 5\n",
    "del(mktcaps['GOOG']) #Removes GOOG from dictionary mktcaps #.key() and .values \n",
    "try: except e: print('why')"
   ]
  },
  {
   "cell_type": "code",
   "execution_count": null,
   "metadata": {},
   "outputs": [],
   "source": [
    "#if json\n",
    "try: response = requests.get(\"http://www.epicurious.com/search/Tofu+Chili\")\n",
    "response.status_code #404 means page not found #200 means gucci\n",
    "response.content.decode('utf-8')#string\n",
    "#JSON: javascript object notation, standard for serializing data objects\n",
    "json.loads('string that becomes other stuff') #web apis have a request and a response\n",
    "#response either an html page of a json object\n",
    "#html has parameters (unique access key) required by the server to figure out what data to send back\n",
    "response.json()['geometry']['location']['lat]'#decodes\n",
    "root = etree.XML(data_string) #for element in root.iter(): #for child in root: for thing in child\n",
    "print(root.find('Book/Authors/Author[@Residence=\"New York City\"]/First_Name').text)\n"
   ]
  },
  {
   "cell_type": "code",
   "execution_count": 2,
   "metadata": {},
   "outputs": [
    {
     "ename": "SyntaxError",
     "evalue": "invalid syntax (<ipython-input-2-c61df7962161>, line 5)",
     "output_type": "error",
     "traceback": [
      "\u001b[0;36m  File \u001b[0;32m\"<ipython-input-2-c61df7962161>\"\u001b[0;36m, line \u001b[0;32m5\u001b[0m\n\u001b[0;31m    div_tag = results_page.find('div'), div_tag.find('a') prints the below\u001b[0m\n\u001b[0m                                                               ^\u001b[0m\n\u001b[0;31mSyntaxError\u001b[0m\u001b[0;31m:\u001b[0m invalid syntax\n"
     ]
    }
   ],
   "source": [
    "#web scrapping\n",
    "results_page = BeautifulSoup(response.content,'lxml')\n",
    "print(results_page.prettify())\n",
    "all_a_tags = results_page.find_all('a')\n",
    "div_tag = results_page.find('div'), div_tag.find('a') prints the below\n",
    "#<a data-reactid=\"5\" href=\"/\" itemprop=\"url\" title=\"Epicurious\">Epicurious</a>\n",
    "results_page.find_all('article',class_=\"recipe-content-card\") #in this class find all\n",
    "results_page.find('article',{'class':'recipe-content-card'}).get_text() #only text"
   ]
  },
  {
   "cell_type": "code",
   "execution_count": null,
   "metadata": {},
   "outputs": [],
   "source": [
    "import requests\n",
    "from bs4 import BeautifulSoup\n",
    "recipe_list = list()\n",
    "url = \"http://www.epicurious.com/search/\" + \"Chicken\"\n",
    "page = requests.get(url)\n",
    "soup = BeautifulSoup(page.content,'lxml')\n",
    "recipes = soup.find_all('article',class_='recipe-content-card')\n",
    "#example \n",
    "for recipe in recipes:\n",
    "    a_tag = recipe.find('a')\n",
    "    name = a_tag.get_text()\n",
    "    link = 'http://www.epicurious.com' + a_tag.get('href')\n",
    "    print(name,link)\n",
    "soup.find_all('article',{'class':'recipe-content-card','data-has-quickview':\"false\"})"
   ]
  },
  {
   "cell_type": "code",
   "execution_count": null,
   "metadata": {},
   "outputs": [],
   "source": [
    "#logging into a web server\n",
    "with open ('file') as f: contents = f.read().split('\\n'), payload = dictionary\n",
    "with requests.session() as s: response = s.get(\"link\")\n",
    "    payload['wpLoginToken'] = get_login_token(response)\n",
    "    #Send the login request\n",
    "    response_post = s.post('https://en.wikipedia.org/w/index.php?title=Special:UserLogin&action=submitlogin&type=login',\n",
    "                           data=payload)"
   ]
  },
  {
   "cell_type": "code",
   "execution_count": null,
   "metadata": {},
   "outputs": [],
   "source": [
    "#numpy\n",
    "np.array(['array'])#all elements same datatype but could be a complex one\n",
    "ax = np.array([[1,2,3,4],[5,6,7,8.3]])\n",
    "ax.dtype \n",
    "output: array([[1. , 2. , 3. , 4. ],\n",
    "               [5. , 6. , 7. , 8.3]])\n",
    "x = np.array([13,24,21.2,17.6,21.7],'float')\n",
    "print(x.sum(),x.mean(),x.std(),sep='\\n')\n",
    "#indexing for a list of lists: x[1][3] indexing for an array ax[1:2,3:4](#slicing)\n",
    "ax.reshape(#row,#column)\n",
    "ay = ax.transpose()\n",
    "datetime.datetime.now()\n",
    "ax =[x,y], ay=[list(i) for i in zip(*ax)] #zip makes it into a tuple\n",
    "a = [1,2,3,4,5,6,7,8][\"Even\" if val%2 == 0 else \"Odd\" for val in a] #prints odd v even\n",
    "ax[ax<7] #selector operator, can be constructed on a diff array\n",
    "np.any(ax>30),np.all(ax>-1) returns a true or false\n",
    "np.logical_and(ax>9, bonus<40) #also would work with an OR\n",
    "np.mean(bonus[(gender=='F') & (bonus < 100000) ]) #mean bonus for all f emp less than #\n",
    "ax.sum(axis=0)#sums columns #axis=1 will sum the rows, \n",
    "ax[:,np.newaxis] #takes column makes it into a row\n",
    "#broadcasting \n",
    "np.ones([3,3])#array of ones, 3x3, on each: np.sqrt(ax) np.exp(ax)\n",
    "np.random.normal(size=100) np.random.exponential(1.0,size=(6,3))\n",
    "#np.random.randint(-10,10,size=(9,9))"
   ]
  },
  {
   "cell_type": "code",
   "execution_count": 3,
   "metadata": {},
   "outputs": [
    {
     "ename": "SyntaxError",
     "evalue": "invalid syntax (<ipython-input-3-a6a0cefdde8b>, line 5)",
     "output_type": "error",
     "traceback": [
      "\u001b[0;36m  File \u001b[0;32m\"<ipython-input-3-a6a0cefdde8b>\"\u001b[0;36m, line \u001b[0;32m5\u001b[0m\n\u001b[0;31m    pd.series will take np operations\u001b[0m\n\u001b[0m                 ^\u001b[0m\n\u001b[0;31mSyntaxError\u001b[0m\u001b[0;31m:\u001b[0m invalid syntax\n"
     ]
    }
   ],
   "source": [
    "#pandas\n",
    "for i in x: print(i,x[i])#i's in the following loop are values in x, not locations in x!\n",
    "months = pd.Series(nums,index=names), months['Mar'] #returns 3, names lists all months\n",
    "months.index #assigns each month an index .iloc stands for index location\n",
    "pd.series will take np operations\n",
    "#get_loc can find the 'nearest' or next ('backfill') or use the most recent ('pad') \n",
    "row = gs_price_data.index.get_loc(dt,method=\"pad\") #'nearest', 'pad', 'backfill'\n",
    "x.mean(), .std() or .pct_change()\n",
    "#columns can contain data of different types\n",
    "#can contain an index (or indices)\n",
    "df.columns=['c1','c2','c3']#names the columns\n",
    "df.index = ['a','b']#names the rows\n",
    "data = np.zeros((2,3))#array of zeros of size 2,3\n",
    "dates = [date(2018,10,2),date(2018,10,3)] #formats like this 2018-10-02\n",
    "df.set_index('row_label',inplace=True)#uses an existing column as an index\n",
    "type(df['AAPL']) #pandas.core.series.series\n",
    "df['IONS'] = np.NaN #adds new column of all Nan\n",
    "df['Mult3'] =np.where(df['c1']%3==0,1,0) \n",
    "df.loc[:,'c2':'c4'] #prints all rows, columns c2:c4\n",
    "df.loc['r3','c3'] = 99 #sets value #df_new #prints w adjustment\n",
    "df.groupby('B').size() #group by distinct values in B and return #\n",
    "\n",
    "def GroupColFunc(df, ind, col):\n",
    "    if df[col].loc[ind] < 0:\n",
    "        return 'Negative'\n",
    "    else:\n",
    "        return 'Positive'\n",
    "\n",
    "GroupColFunc(people,'Joe','a')\n",
    "\n",
    "grouped = people.groupby(lambda x: GroupColFunc(people, x, 'a'))\n",
    "grouped\n",
    "print(grouped.size())\n",
    "\n",
    "\n"
   ]
  },
  {
   "cell_type": "code",
   "execution_count": null,
   "metadata": {},
   "outputs": [],
   "source": [
    "#pandas cont\n",
    "foo = lambda x,y: x+y\n",
    "foo(2,3) #concat can handle column mismatches\n",
    "sorted(x,key=lambda x: x[1]) #sorts by second element in x\n"
   ]
  }
 ],
 "metadata": {
  "kernelspec": {
   "display_name": "Python 3",
   "language": "python",
   "name": "python3"
  },
  "language_info": {
   "codemirror_mode": {
    "name": "ipython",
    "version": 3
   },
   "file_extension": ".py",
   "mimetype": "text/x-python",
   "name": "python",
   "nbconvert_exporter": "python",
   "pygments_lexer": "ipython3",
   "version": "3.6.5"
  }
 },
 "nbformat": 4,
 "nbformat_minor": 2
}
