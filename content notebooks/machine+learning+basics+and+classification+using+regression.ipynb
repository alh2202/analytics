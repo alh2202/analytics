{
 "cells": [
  {
   "cell_type": "markdown",
   "metadata": {},
   "source": [
    "<h1>Machine learning</h1>\n",
    "<li>Creating programs that learn\n",
    "<li>The \"learned\" knowledge is not explicitly contained in the program\n",
    "<li>The program is designed to learn using <b><span style=\"color:darkred\">real world data</span></b>"
   ]
  },
  {
   "cell_type": "markdown",
   "metadata": {},
   "source": [
    "<h2>Basic ideas</h2>\n",
    "<li>The program contains a learning algorithm\n",
    "<li>The program is given data\n",
    "<li>The program applies the learning algorithm to the data and figures stuff out!"
   ]
  },
  {
   "cell_type": "markdown",
   "metadata": {},
   "source": [
    "<h2>Terminology</h2>\n",
    "<li><span style=\"color:darkblue\">Feature</span>: A (measurable) property of the learning domain\n",
    "<li><span style=\"color:darkblue\">Feature set</span>: The set of features that are useful for learning in a given domain and a given problem\n",
    "<ul>\n",
    "<li>gender, age, income, other demographic data for predicting credit risk\n",
    "<li>position of pupil, size of nose, presence/absence of dimples in facial data for facial recognition\n",
    "<li>color, intensity of pixels in image data for image recognition\n",
    "<li>moving averages, departures, technical indicators, price in stock price prediction\n",
    "</ul>\n",
    "<li><span style=\"color:darkblue\">Input features</span>: The observable (useful) features in the domain\n",
    "<li><span style=\"color:darkblue\">Output features</span>: A feature that is being learned or predicted\n",
    "<ul>\n",
    "<li>In stock price prediction: moving averages, departures, technical indicators may be input features and the future return the output feature\n",
    "<li>In face recognition: various observable facial features are the input feature and the person (name?) the output feature\n",
    "</ul>\n",
    "<li><span style=\"color:darkblue\">Independent variables</span>: Synonymous with input feature, used in statistical learning\n",
    "<li><span style=\"color:darkblue\">Dependent variables</span>: Synonymous with output feature in prediction problems\n"
   ]
  },
  {
   "cell_type": "markdown",
   "metadata": {},
   "source": [
    "<h2>Types of learning</h2>\n",
    "<li><span style=\"color:darkblue\">Supervised learning</span>: The data set contains paired input and output features and the machine learns how to get the output from the given input. In supervised learning, both input as well as output features are used in learning\n",
    "<li><span style=\"color:darkblue\">Unsupervised learning</span>: The data set contains features and the machine tries to induce concepts or knowledge from this feature set. Typically by organizing the data into \"like\" clusters. In unsupervised learning, only input features are used in learning"
   ]
  },
  {
   "cell_type": "markdown",
   "metadata": {},
   "source": [
    "<h1>Examples of machine learning algorithms</h1>\n",
    "<li><span style=\"color:darkblue\">Regression</span>: The machine learns a mathematical relationship between the input and output features. Regression is a supervised learning technique\n",
    "<li><span style=\"color:darkblue\">Classification and regression trees (CART)</span>: The machine learns a set of rules that relate the input and output features. CART is a supervised learning technique\n",
    "<li><span style=\"color:darkblue\">Clustering</span>: Clustering algorithms group the input feature set into \"like\" groups, usually using a distance metric. Clustering algorithms are unsupervised learning techniques\n",
    "<li><span style=\"color:darkblue\">Neural networks</span>: Used for \"deep learning\". Designed to mimic the brain, neural networks are directed, weighted, multi-layered graphs. The first layer is an input layer that corresponds to the input feature set and the final layer is an output layer that corresponds to the output feature set. The graph contains one or more hidden layers and uses an algorithm to compute the weights on the edges to learn the relationship between input and output features. Neural networks are supervised learning techniques "
   ]
  },
  {
   "cell_type": "markdown",
   "metadata": {},
   "source": [
    "<h1>Machine learning using Regression</h1>\n",
    "<li>The machine learns a mathematical relationship between the input feature set and output feature values\n",
    "<li>All data must be numerical\n",
    "<li>There is an implied sequence in both independent variable values as well as dependent variable values\n"
   ]
  },
  {
   "cell_type": "markdown",
   "metadata": {},
   "source": [
    "<h3>Types of regression</h3>\n",
    "<span style=\"color:darkblue\">Linear regression</span>: Learns a mathematical linear relationship between input and output values\n",
    "<li>Linear regression fits a line to the data\n",
    "<li>Single output values\n",
    "<li>Estimates a function of the form:$$ y = { \\alpha + \\beta_1}x_1 + {\\beta_2}x_2 + ..... + {\\beta_n}x_n + {\\epsilon} $$\n",
    "<li>The x values are independent variables\n",
    "<li>The y value is the dependent variable\n",
    "<li>The alpha is a constant intercept term\n",
    "<li>The betas are the feature weights\n",
    "<li>The epsilon is an error term\n"
   ]
  },
  {
   "cell_type": "markdown",
   "metadata": {},
   "source": [
    "<span style=\"color:darkblue\">Logistic regression</span><li>Predicts a categorical dependent variable value\n",
    "<li>Binomial logistic regression predicts two category values (0 or 1)\n",
    "<li>Typically, the function predicts:\n",
    "<ul> <li>1 if $$ { \\alpha + \\beta_1}x_1 + {\\epsilon} > 0 $$\n",
    "<li>0 otherwise"
   ]
  },
  {
   "cell_type": "markdown",
   "metadata": {},
   "source": [
    "<h1>Classification using regression</h1>\n",
    "<li>sklearn has a logistic regression package but\n",
    "<li>we will use linear regression to predict binomial categories\n",
    "<li>because it is richer for analysis\n",
    "<li>And examine some of the ways in which we evaluate our ML result\n"
   ]
  },
  {
   "cell_type": "markdown",
   "metadata": {},
   "source": [
    "<h3>The data</h3>\n",
    "<li>Rocks vs Mines (https://archive.ics.uci.edu/ml/machine-learning-databases/undocumented/connectionist-bench/sonar/sonar.all-dat)\n",
    "<li>Though the data is about underwater mines, imagine:\n",
    "<ol>\n",
    "<li>You're looking out at a number of fields that have rock like objects strewn all over the place\n",
    "<li>Some of those objects are actually mines\n",
    "<li>You have special mine detecting equipment \n",
    "<li>The equipment sends sound waves at different frequencies, the waves hit the objects, and report back some sort of measurements\n",
    "<li>Lucky (for you), you have prior sonar data along with whether a rock like object was a rock or a mine \n",
    "<li>You can use this to get your \"machine\" to learn how to identify rocks and mines\n",
    "<li>And then test the results by sending your army across the field - and get an estimate of what it will cost you!"
   ]
  },
  {
   "cell_type": "code",
   "execution_count": null,
   "metadata": {
    "collapsed": true
   },
   "outputs": [],
   "source": []
  },
  {
   "cell_type": "markdown",
   "metadata": {},
   "source": [
    "<h2>Read the data</h2>"
   ]
  },
  {
   "cell_type": "markdown",
   "metadata": {},
   "source": [
    "<h3>Data set 1: Rocks vs. Mines</h3>\n",
    "<li>Independent variables: sonar soundings at different frequencies\n",
    "<li>Dependent variable (target): Rock or Mine"
   ]
  },
  {
   "cell_type": "code",
   "execution_count": null,
   "metadata": {},
   "outputs": [],
   "source": [
    "import pandas as pd\n",
    "from pandas import DataFrame\n",
    "url=\"https://archive.ics.uci.edu/ml/machine-learning-databases/undocumented/connectionist-bench/sonar/sonar.all-data\"\n",
    "df = pd.read_csv(url,header=None)\n",
    "df.describe()"
   ]
  },
  {
   "cell_type": "code",
   "execution_count": null,
   "metadata": {},
   "outputs": [],
   "source": [
    "df.info()"
   ]
  },
  {
   "cell_type": "markdown",
   "metadata": {},
   "source": [
    "<h4>The data</h4>\n",
    "<li>60 float64 columns. These are the sonar readings and will form our <span style=\"color:blue\">feature set</span>\n",
    "<li>One object column. This will be our target/output/dependent variable"
   ]
  },
  {
   "cell_type": "markdown",
   "metadata": {},
   "source": [
    "<h2>Generate a few summary statistics</h2>"
   ]
  },
  {
   "cell_type": "markdown",
   "metadata": {},
   "source": [
    "<h4>See all columns</h4>"
   ]
  },
  {
   "cell_type": "code",
   "execution_count": null,
   "metadata": {},
   "outputs": [],
   "source": [
    "pd.options.display.max_columns=70\n",
    "df.describe()"
   ]
  },
  {
   "cell_type": "markdown",
   "metadata": {},
   "source": [
    "<h4>Examine the distribution of the data in column 4</h4>"
   ]
  },
  {
   "cell_type": "markdown",
   "metadata": {},
   "source": [
    "<li>Quartile 1: from .0067 to .03805\n",
    "<li>Quartile 2: from .03805 to .0625\n",
    "<li>Quartile 3: from .0625 to .100275\n",
    "<li>Quartile 4: from .100275 to .401\n",
    "\n",
    "<h4>Quartile 4 is much larger than the other quartiles. This raises the possibility of outliers</h4>"
   ]
  },
  {
   "cell_type": "markdown",
   "metadata": {},
   "source": [
    "<h4> A Quantile - Quantile (qq) plot can help identify outliers</h4>\n",
    "<li>y-axis contains values\n",
    "<li>x-axis is the cumulative normal density function plotted as a straight line (-3 to +3)\n",
    "<li>y-axis is the values ordered from lowest to highest\n",
    "<li>the closer the curve is to the line, the more it reflects a normal distribution"
   ]
  },
  {
   "cell_type": "code",
   "execution_count": null,
   "metadata": {},
   "outputs": [],
   "source": [
    "import numpy as np \n",
    "import pylab \n",
    "import scipy.stats as stats\n",
    "import matplotlib\n",
    "import matplotlib.pyplot as plt\n",
    "matplotlib.style.use('seaborn')\n",
    "%matplotlib inline\n",
    "   \n",
    "stats.probplot(df[4], dist=\"norm\", plot=pylab)\n",
    "pylab.show()"
   ]
  },
  {
   "cell_type": "markdown",
   "metadata": {},
   "source": [
    "<h4>Examine the dependent variable</h4>"
   ]
  },
  {
   "cell_type": "code",
   "execution_count": null,
   "metadata": {},
   "outputs": [],
   "source": [
    "df[60].unique()\n"
   ]
  },
  {
   "cell_type": "markdown",
   "metadata": {},
   "source": [
    "<h4>Examine correlations</h4>"
   ]
  },
  {
   "cell_type": "code",
   "execution_count": null,
   "metadata": {},
   "outputs": [],
   "source": [
    "df.corr()\n"
   ]
  },
  {
   "cell_type": "code",
   "execution_count": null,
   "metadata": {},
   "outputs": [],
   "source": [
    "import matplotlib.pyplot as plot\n",
    "plot.pcolor(df.corr(),cmap='coolwarm') #https://matplotlib.org/examples/color/colormaps_reference.html\n",
    "plot.show()"
   ]
  },
  {
   "cell_type": "code",
   "execution_count": null,
   "metadata": {},
   "outputs": [],
   "source": [
    "df.corr()[0].plot()\n"
   ]
  },
  {
   "cell_type": "markdown",
   "metadata": {},
   "source": [
    "<h4>Highly correlated items = not good!</h4>\n",
    "<h4>Low correlated items = good </h4>\n",
    "<h4>Correlations with target (dv) = good (high predictive power)</h4>"
   ]
  },
  {
   "cell_type": "markdown",
   "metadata": {},
   "source": [
    "<h2>Training a classifier on Rocks vs Mines</h2>\n",
    "<li><span style=\"color:blue\">scikit-learn</span>: A Python machine learning library\n",
    "<li>!pip install sklearn --upgrade\n",
    "<li>Make sure you have the latest version!"
   ]
  },
  {
   "cell_type": "code",
   "execution_count": 1,
   "metadata": {},
   "outputs": [
    {
     "name": "stdout",
     "output_type": "stream",
     "text": [
      "Requirement already up-to-date: sklearn in /anaconda3/lib/python3.6/site-packages (0.0)\r\n",
      "Requirement already satisfied, skipping upgrade: scikit-learn in /anaconda3/lib/python3.6/site-packages (from sklearn) (0.19.1)\r\n"
     ]
    }
   ],
   "source": [
    "!pip install sklearn --upgrade"
   ]
  },
  {
   "cell_type": "code",
   "execution_count": 2,
   "metadata": {},
   "outputs": [
    {
     "data": {
      "text/html": [
       "<div>\n",
       "<style scoped>\n",
       "    .dataframe tbody tr th:only-of-type {\n",
       "        vertical-align: middle;\n",
       "    }\n",
       "\n",
       "    .dataframe tbody tr th {\n",
       "        vertical-align: top;\n",
       "    }\n",
       "\n",
       "    .dataframe thead th {\n",
       "        text-align: right;\n",
       "    }\n",
       "</style>\n",
       "<table border=\"1\" class=\"dataframe\">\n",
       "  <thead>\n",
       "    <tr style=\"text-align: right;\">\n",
       "      <th></th>\n",
       "      <th>0</th>\n",
       "      <th>1</th>\n",
       "      <th>2</th>\n",
       "      <th>3</th>\n",
       "      <th>4</th>\n",
       "      <th>5</th>\n",
       "      <th>6</th>\n",
       "      <th>7</th>\n",
       "      <th>8</th>\n",
       "      <th>9</th>\n",
       "      <th>...</th>\n",
       "      <th>50</th>\n",
       "      <th>51</th>\n",
       "      <th>52</th>\n",
       "      <th>53</th>\n",
       "      <th>54</th>\n",
       "      <th>55</th>\n",
       "      <th>56</th>\n",
       "      <th>57</th>\n",
       "      <th>58</th>\n",
       "      <th>59</th>\n",
       "    </tr>\n",
       "  </thead>\n",
       "  <tbody>\n",
       "    <tr>\n",
       "      <th>count</th>\n",
       "      <td>208.000000</td>\n",
       "      <td>208.000000</td>\n",
       "      <td>208.000000</td>\n",
       "      <td>208.000000</td>\n",
       "      <td>208.000000</td>\n",
       "      <td>208.000000</td>\n",
       "      <td>208.000000</td>\n",
       "      <td>208.000000</td>\n",
       "      <td>208.000000</td>\n",
       "      <td>208.000000</td>\n",
       "      <td>...</td>\n",
       "      <td>208.000000</td>\n",
       "      <td>208.000000</td>\n",
       "      <td>208.000000</td>\n",
       "      <td>208.000000</td>\n",
       "      <td>208.000000</td>\n",
       "      <td>208.000000</td>\n",
       "      <td>208.000000</td>\n",
       "      <td>208.000000</td>\n",
       "      <td>208.000000</td>\n",
       "      <td>208.000000</td>\n",
       "    </tr>\n",
       "    <tr>\n",
       "      <th>mean</th>\n",
       "      <td>0.029164</td>\n",
       "      <td>0.038437</td>\n",
       "      <td>0.043832</td>\n",
       "      <td>0.053892</td>\n",
       "      <td>0.075202</td>\n",
       "      <td>0.104570</td>\n",
       "      <td>0.121747</td>\n",
       "      <td>0.134799</td>\n",
       "      <td>0.178003</td>\n",
       "      <td>0.208259</td>\n",
       "      <td>...</td>\n",
       "      <td>0.016069</td>\n",
       "      <td>0.013420</td>\n",
       "      <td>0.010709</td>\n",
       "      <td>0.010941</td>\n",
       "      <td>0.009290</td>\n",
       "      <td>0.008222</td>\n",
       "      <td>0.007820</td>\n",
       "      <td>0.007949</td>\n",
       "      <td>0.007941</td>\n",
       "      <td>0.006507</td>\n",
       "    </tr>\n",
       "    <tr>\n",
       "      <th>std</th>\n",
       "      <td>0.022991</td>\n",
       "      <td>0.032960</td>\n",
       "      <td>0.038428</td>\n",
       "      <td>0.046528</td>\n",
       "      <td>0.055552</td>\n",
       "      <td>0.059105</td>\n",
       "      <td>0.061788</td>\n",
       "      <td>0.085152</td>\n",
       "      <td>0.118387</td>\n",
       "      <td>0.134416</td>\n",
       "      <td>...</td>\n",
       "      <td>0.012008</td>\n",
       "      <td>0.009634</td>\n",
       "      <td>0.007060</td>\n",
       "      <td>0.007301</td>\n",
       "      <td>0.007088</td>\n",
       "      <td>0.005736</td>\n",
       "      <td>0.005785</td>\n",
       "      <td>0.006470</td>\n",
       "      <td>0.006181</td>\n",
       "      <td>0.005031</td>\n",
       "    </tr>\n",
       "    <tr>\n",
       "      <th>min</th>\n",
       "      <td>0.001500</td>\n",
       "      <td>0.000600</td>\n",
       "      <td>0.001500</td>\n",
       "      <td>0.005800</td>\n",
       "      <td>0.006700</td>\n",
       "      <td>0.010200</td>\n",
       "      <td>0.003300</td>\n",
       "      <td>0.005500</td>\n",
       "      <td>0.007500</td>\n",
       "      <td>0.011300</td>\n",
       "      <td>...</td>\n",
       "      <td>0.000000</td>\n",
       "      <td>0.000800</td>\n",
       "      <td>0.000500</td>\n",
       "      <td>0.001000</td>\n",
       "      <td>0.000600</td>\n",
       "      <td>0.000400</td>\n",
       "      <td>0.000300</td>\n",
       "      <td>0.000300</td>\n",
       "      <td>0.000100</td>\n",
       "      <td>0.000600</td>\n",
       "    </tr>\n",
       "    <tr>\n",
       "      <th>25%</th>\n",
       "      <td>0.013350</td>\n",
       "      <td>0.016450</td>\n",
       "      <td>0.018950</td>\n",
       "      <td>0.024375</td>\n",
       "      <td>0.038050</td>\n",
       "      <td>0.067025</td>\n",
       "      <td>0.080900</td>\n",
       "      <td>0.080425</td>\n",
       "      <td>0.097025</td>\n",
       "      <td>0.111275</td>\n",
       "      <td>...</td>\n",
       "      <td>0.008425</td>\n",
       "      <td>0.007275</td>\n",
       "      <td>0.005075</td>\n",
       "      <td>0.005375</td>\n",
       "      <td>0.004150</td>\n",
       "      <td>0.004400</td>\n",
       "      <td>0.003700</td>\n",
       "      <td>0.003600</td>\n",
       "      <td>0.003675</td>\n",
       "      <td>0.003100</td>\n",
       "    </tr>\n",
       "    <tr>\n",
       "      <th>50%</th>\n",
       "      <td>0.022800</td>\n",
       "      <td>0.030800</td>\n",
       "      <td>0.034300</td>\n",
       "      <td>0.044050</td>\n",
       "      <td>0.062500</td>\n",
       "      <td>0.092150</td>\n",
       "      <td>0.106950</td>\n",
       "      <td>0.112100</td>\n",
       "      <td>0.152250</td>\n",
       "      <td>0.182400</td>\n",
       "      <td>...</td>\n",
       "      <td>0.013900</td>\n",
       "      <td>0.011400</td>\n",
       "      <td>0.009550</td>\n",
       "      <td>0.009300</td>\n",
       "      <td>0.007500</td>\n",
       "      <td>0.006850</td>\n",
       "      <td>0.005950</td>\n",
       "      <td>0.005800</td>\n",
       "      <td>0.006400</td>\n",
       "      <td>0.005300</td>\n",
       "    </tr>\n",
       "    <tr>\n",
       "      <th>75%</th>\n",
       "      <td>0.035550</td>\n",
       "      <td>0.047950</td>\n",
       "      <td>0.057950</td>\n",
       "      <td>0.064500</td>\n",
       "      <td>0.100275</td>\n",
       "      <td>0.134125</td>\n",
       "      <td>0.154000</td>\n",
       "      <td>0.169600</td>\n",
       "      <td>0.233425</td>\n",
       "      <td>0.268700</td>\n",
       "      <td>...</td>\n",
       "      <td>0.020825</td>\n",
       "      <td>0.016725</td>\n",
       "      <td>0.014900</td>\n",
       "      <td>0.014500</td>\n",
       "      <td>0.012100</td>\n",
       "      <td>0.010575</td>\n",
       "      <td>0.010425</td>\n",
       "      <td>0.010350</td>\n",
       "      <td>0.010325</td>\n",
       "      <td>0.008525</td>\n",
       "    </tr>\n",
       "    <tr>\n",
       "      <th>max</th>\n",
       "      <td>0.137100</td>\n",
       "      <td>0.233900</td>\n",
       "      <td>0.305900</td>\n",
       "      <td>0.426400</td>\n",
       "      <td>0.401000</td>\n",
       "      <td>0.382300</td>\n",
       "      <td>0.372900</td>\n",
       "      <td>0.459000</td>\n",
       "      <td>0.682800</td>\n",
       "      <td>0.710600</td>\n",
       "      <td>...</td>\n",
       "      <td>0.100400</td>\n",
       "      <td>0.070900</td>\n",
       "      <td>0.039000</td>\n",
       "      <td>0.035200</td>\n",
       "      <td>0.044700</td>\n",
       "      <td>0.039400</td>\n",
       "      <td>0.035500</td>\n",
       "      <td>0.044000</td>\n",
       "      <td>0.036400</td>\n",
       "      <td>0.043900</td>\n",
       "    </tr>\n",
       "  </tbody>\n",
       "</table>\n",
       "<p>8 rows × 60 columns</p>\n",
       "</div>"
      ],
      "text/plain": [
       "               0           1           2           3           4           5   \\\n",
       "count  208.000000  208.000000  208.000000  208.000000  208.000000  208.000000   \n",
       "mean     0.029164    0.038437    0.043832    0.053892    0.075202    0.104570   \n",
       "std      0.022991    0.032960    0.038428    0.046528    0.055552    0.059105   \n",
       "min      0.001500    0.000600    0.001500    0.005800    0.006700    0.010200   \n",
       "25%      0.013350    0.016450    0.018950    0.024375    0.038050    0.067025   \n",
       "50%      0.022800    0.030800    0.034300    0.044050    0.062500    0.092150   \n",
       "75%      0.035550    0.047950    0.057950    0.064500    0.100275    0.134125   \n",
       "max      0.137100    0.233900    0.305900    0.426400    0.401000    0.382300   \n",
       "\n",
       "               6           7           8           9      ...              50  \\\n",
       "count  208.000000  208.000000  208.000000  208.000000     ...      208.000000   \n",
       "mean     0.121747    0.134799    0.178003    0.208259     ...        0.016069   \n",
       "std      0.061788    0.085152    0.118387    0.134416     ...        0.012008   \n",
       "min      0.003300    0.005500    0.007500    0.011300     ...        0.000000   \n",
       "25%      0.080900    0.080425    0.097025    0.111275     ...        0.008425   \n",
       "50%      0.106950    0.112100    0.152250    0.182400     ...        0.013900   \n",
       "75%      0.154000    0.169600    0.233425    0.268700     ...        0.020825   \n",
       "max      0.372900    0.459000    0.682800    0.710600     ...        0.100400   \n",
       "\n",
       "               51          52          53          54          55          56  \\\n",
       "count  208.000000  208.000000  208.000000  208.000000  208.000000  208.000000   \n",
       "mean     0.013420    0.010709    0.010941    0.009290    0.008222    0.007820   \n",
       "std      0.009634    0.007060    0.007301    0.007088    0.005736    0.005785   \n",
       "min      0.000800    0.000500    0.001000    0.000600    0.000400    0.000300   \n",
       "25%      0.007275    0.005075    0.005375    0.004150    0.004400    0.003700   \n",
       "50%      0.011400    0.009550    0.009300    0.007500    0.006850    0.005950   \n",
       "75%      0.016725    0.014900    0.014500    0.012100    0.010575    0.010425   \n",
       "max      0.070900    0.039000    0.035200    0.044700    0.039400    0.035500   \n",
       "\n",
       "               57          58          59  \n",
       "count  208.000000  208.000000  208.000000  \n",
       "mean     0.007949    0.007941    0.006507  \n",
       "std      0.006470    0.006181    0.005031  \n",
       "min      0.000300    0.000100    0.000600  \n",
       "25%      0.003600    0.003675    0.003100  \n",
       "50%      0.005800    0.006400    0.005300  \n",
       "75%      0.010350    0.010325    0.008525  \n",
       "max      0.044000    0.036400    0.043900  \n",
       "\n",
       "[8 rows x 60 columns]"
      ]
     },
     "execution_count": 2,
     "metadata": {},
     "output_type": "execute_result"
    }
   ],
   "source": [
    "import numpy as np\n",
    "import pandas as pd\n",
    "import matplotlib.pyplot as plt\n",
    "from pandas import DataFrame\n",
    "%matplotlib inline\n",
    "url=\"https://archive.ics.uci.edu/ml/machine-learning-databases/undocumented/connectionist-bench/sonar/sonar.all-data\"\n",
    "df = pd.read_csv(url,header=None)\n",
    "df.describe()"
   ]
  },
  {
   "cell_type": "markdown",
   "metadata": {},
   "source": [
    "<h4>Convert labels R and M to 0 and 1</h4>"
   ]
  },
  {
   "cell_type": "code",
   "execution_count": 3,
   "metadata": {},
   "outputs": [],
   "source": [
    "df[60]=np.where(df[60]=='R',0,1)"
   ]
  },
  {
   "cell_type": "markdown",
   "metadata": {},
   "source": [
    "<h2>Training and testing</h2>\n",
    "<li><span style=\"color:blue\">Training dataset</span>: The model is \"fit\" using a training sample\n",
    "<li><span style=\"color:blue\">Testing dataset</span>: The \"fitted\" model is evaluated on a testing sample\n",
    "<li><span style=\"color:blue\">validation dataset</span>: Sometimes, a dataset is used to \"fine tune\" model parameters after training but before testing"
   ]
  },
  {
   "cell_type": "markdown",
   "metadata": {},
   "source": [
    "<li>We'll use a training and testing dataset\n",
    "<li>And separate out the feature set and target value for each dataset"
   ]
  },
  {
   "cell_type": "code",
   "execution_count": 4,
   "metadata": {},
   "outputs": [
    {
     "data": {
      "text/plain": [
       "69     0\n",
       "118    1\n",
       "110    1\n",
       "80     0\n",
       "41     0\n",
       "180    1\n",
       "40     0\n",
       "144    1\n",
       "12     0\n",
       "14     0\n",
       "28     0\n",
       "6      0\n",
       "94     0\n",
       "184    1\n",
       "49     0\n",
       "84     0\n",
       "4      0\n",
       "187    1\n",
       "31     0\n",
       "100    1\n",
       "11     0\n",
       "133    1\n",
       "54     0\n",
       "164    1\n",
       "62     0\n",
       "186    1\n",
       "55     0\n",
       "59     0\n",
       "177    1\n",
       "196    1\n",
       "      ..\n",
       "102    1\n",
       "131    1\n",
       "77     0\n",
       "34     0\n",
       "9      0\n",
       "83     0\n",
       "108    1\n",
       "173    1\n",
       "188    1\n",
       "178    1\n",
       "78     0\n",
       "154    1\n",
       "89     0\n",
       "135    1\n",
       "207    1\n",
       "113    1\n",
       "61     0\n",
       "32     0\n",
       "46     0\n",
       "15     0\n",
       "86     0\n",
       "156    1\n",
       "79     0\n",
       "107    1\n",
       "20     0\n",
       "8      0\n",
       "137    1\n",
       "65     0\n",
       "158    1\n",
       "172    1\n",
       "Name: 60, Length: 145, dtype: int64"
      ]
     },
     "execution_count": 4,
     "metadata": {},
     "output_type": "execute_result"
    }
   ],
   "source": [
    "from sklearn.model_selection import train_test_split\n",
    "train, test = train_test_split(df, test_size = 0.3)\n",
    "x_train = train.iloc[0:,0:60]\n",
    "y_train = train[60]\n",
    "x_test = test.iloc[0:,0:60]\n",
    "y_test = test[60]\n",
    "y_train"
   ]
  },
  {
   "cell_type": "markdown",
   "metadata": {},
   "source": [
    "<h2>Build the model and fit the training data</h2>\n",
    "<li>The linear regression package is in sklearn's linear_model library\n",
    "<li>We create a linear regression model object\n",
    "<li>And give it our training data to \"fit\" the model"
   ]
  },
  {
   "cell_type": "code",
   "execution_count": 5,
   "metadata": {},
   "outputs": [
    {
     "data": {
      "text/plain": [
       "LinearRegression(copy_X=True, fit_intercept=True, n_jobs=1, normalize=False)"
      ]
     },
     "execution_count": 5,
     "metadata": {},
     "output_type": "execute_result"
    }
   ],
   "source": [
    "from sklearn import linear_model\n",
    "model = linear_model.LinearRegression()\n",
    "model.fit(x_train,y_train)\n"
   ]
  },
  {
   "cell_type": "markdown",
   "metadata": {},
   "source": [
    "<h3>Get predictions</h3>\n",
    "<li>Our predictions can be interpreted as \"probabilities\" that the predicted value is 1 (a mine)\n",
    "<li>We can decide on a \"threshold\" value that assigns either a 1 or a 0 to each test case"
   ]
  },
  {
   "cell_type": "code",
   "execution_count": 6,
   "metadata": {},
   "outputs": [
    {
     "data": {
      "text/plain": [
       "array([ 0.93739706,  0.79091204,  1.50579964,  1.24864174,  0.29316194,\n",
       "        0.25791765,  0.15873241,  0.56709637, -0.07384675,  0.33923206,\n",
       "        0.93496216, -0.23923206,  1.33230096,  0.872897  ,  1.17906525,\n",
       "        0.18105233,  0.68366895,  1.23486331,  0.53470363,  0.34332278,\n",
       "        0.62037471,  1.16661167,  0.5684828 ,  0.77712971,  1.12261478,\n",
       "        0.28395589,  0.66753409,  0.76838415,  0.70850087,  1.29242011,\n",
       "        0.3304911 ,  0.59173605,  0.00248568,  1.06156317,  0.11087628,\n",
       "        0.28233792,  0.81083438,  0.73241748, -0.63461217,  1.21245926,\n",
       "       -0.10214254,  1.47830008,  0.66496845,  0.62435131,  0.65676883,\n",
       "        0.62176696,  0.10781846,  0.41919698,  0.78308962,  1.08791355,\n",
       "        0.89728333,  0.10882855, -0.11408614, -0.3736911 ,  0.2085716 ,\n",
       "        1.42627502,  2.32549048,  1.18061102,  1.61544083, -0.04401302,\n",
       "        0.73893014,  0.40656025,  0.97514478])"
      ]
     },
     "execution_count": 6,
     "metadata": {},
     "output_type": "execute_result"
    }
   ],
   "source": [
    "testing_predictions  = model.predict(x_test)\n",
    "testing_predictions"
   ]
  },
  {
   "cell_type": "code",
   "execution_count": 7,
   "metadata": {},
   "outputs": [
    {
     "data": {
      "text/plain": [
       "array([1., 1., 1., 1., 0., 0., 0., 1., 0., 0., 1., 0., 1., 1., 1., 0., 1.,\n",
       "       1., 1., 0., 1., 1., 1., 1., 1., 0., 1., 1., 1., 1., 0., 1., 0., 1.,\n",
       "       0., 0., 1., 1., 0., 1., 0., 1., 1., 1., 1., 1., 0., 0., 1., 1., 1.,\n",
       "       0., 0., 0., 0., 1., 1., 1., 1., 0., 1., 0., 1.])"
      ]
     },
     "execution_count": 7,
     "metadata": {},
     "output_type": "execute_result"
    }
   ],
   "source": [
    "def get_classification(predictions,threshold):\n",
    "    classes = np.zeros_like(testing_predictions)\n",
    "    for i in range(len(classes)):\n",
    "        if predictions[i] > threshold:\n",
    "            classes[i] = 1\n",
    "    return classes\n",
    "\n",
    "get_classification(testing_predictions,0.5)"
   ]
  },
  {
   "cell_type": "code",
   "execution_count": null,
   "metadata": {},
   "outputs": [],
   "source": []
  },
  {
   "cell_type": "markdown",
   "metadata": {},
   "source": [
    "<h2>Evaluating the model</h2>\n",
    "<li><b>Confusion matrices</b>"
   ]
  },
  {
   "cell_type": "markdown",
   "metadata": {},
   "source": [
    "<h3>Confusion matrix and the threshold</h3>\n",
    "<li>A confusion matrix evaluates each data point in the testing dataset to see which of the following categories it falls into: \n",
    "<ol>\n",
    "<li><span style=\"color:blue\">true positive</span>: model predicts a mine (1) and it is a mine\n",
    "<li><span style=\"color:blue\">false positive</span>: model predicts a mine but it is a rock (0)\n",
    "<li><span style=\"color:blue\">true negative</span>: model predicts a rock and it is a rock\n",
    "<li><span style=\"color:blue\">false negative</span>: model predicts a rock and it is actually a mine\n",
    "</ol>\n",
    "<li>It then reports the number (or proportion) of cases in each category"
   ]
  },
  {
   "cell_type": "code",
   "execution_count": 8,
   "metadata": {},
   "outputs": [
    {
     "data": {
      "text/plain": [
       "array([[14, 12],\n",
       "       [ 9, 28]])"
      ]
     },
     "execution_count": 8,
     "metadata": {},
     "output_type": "execute_result"
    }
   ],
   "source": [
    "from sklearn.metrics import confusion_matrix\n",
    "confusion_matrix(y_test,get_classification(testing_predictions,0.5))"
   ]
  },
  {
   "cell_type": "code",
   "execution_count": 9,
   "metadata": {},
   "outputs": [
    {
     "name": "stdout",
     "output_type": "stream",
     "text": [
      "14 12 9 28\n"
     ]
    }
   ],
   "source": [
    "tn, fp, fn, tp = confusion_matrix(y_test,get_classification(testing_predictions,0.5)).ravel()\n",
    "print(tn, fp, fn, tp)"
   ]
  },
  {
   "cell_type": "markdown",
   "metadata": {},
   "source": [
    "<h3>Confusion matrix metrics</h3>\n",
    "Using the results of the confusion matrix, we can calculate a number of metrics that will help evaluate the model\n",
    "<ol>\n",
    "<li><span style=\"color:blue\">true positive rate</span> or <span style=\"color:blue\">sensitivity</span> or <span style=\"color:blue\">recall</span>\n",
    "<li><span style=\"color:blue\">true negative rate</span> or <span style=\"color:blue\">specificity</span>\n",
    "<li><span style=\"color:blue\">false positive rate</span> or <span style=\"color:blue\">fall out</span>\n",
    "<li><span style=\"color:blue\">precision</span> or <span style=\"color:blue\">positive predictive value</span>\n",
    "<li><span style=\"color:blue\">f-score</span>\n",
    "<li><span style=\"color:blue\">accuracy</span>\n",
    "<li><span style=\"color:blue\">misclassification rate</span>\n",
    "\n",
    "\n",
    "</ol>"
   ]
  },
  {
   "cell_type": "markdown",
   "metadata": {},
   "source": [
    "<h3>True Positive rate/sensitivity/recall</h3>\n",
    "True Positive Rate is the proportion of positive cases that are correctly identified as positive\n",
    "$$ tpr = \\frac{tp}{(tp + fn)} $$\n",
    "Sensitivity is a measure of how good our model is in identifying the positive condition. A value of 1, for example, will mean that every positive value (every mine) was correctly idenfified by the model. \n",
    "<li>Percentage of persons with a disease correctly identified as having that disease\n",
    "<li>Percentage of \"fake news\" items correctly identified as fake news\n",
    "<li>Percentage of consumers who will click on an ad\n",
    "<li>Percentage of customers who will move to a new cell phone carrier at the end of their contract"
   ]
  },
  {
   "cell_type": "code",
   "execution_count": 10,
   "metadata": {},
   "outputs": [
    {
     "name": "stdout",
     "output_type": "stream",
     "text": [
      "Percentage of mines correctly identified as mines: 0.7567567567567568\n"
     ]
    }
   ],
   "source": [
    "tpr = tp/(tp+fn)\n",
    "print(\"Percentage of mines correctly identified as mines:\",tpr)"
   ]
  },
  {
   "cell_type": "markdown",
   "metadata": {},
   "source": [
    "<h3>True Negative Rate or Specificity</h3>\n",
    "True Negative Rate is the proportion of negative cases that are correctly identified as negative\n",
    "$$ tpr = \\frac{tn}{(tn + fp)} $$\n",
    "<li>Proportion of real news stories that are correctly identified as real news\n",
    "<li>Proportion of healthy people that are correctly identified as healthy\n"
   ]
  },
  {
   "cell_type": "code",
   "execution_count": 11,
   "metadata": {},
   "outputs": [
    {
     "name": "stdout",
     "output_type": "stream",
     "text": [
      "0.5384615384615384\n"
     ]
    }
   ],
   "source": [
    "tnr = tn/(tn+fp)\n",
    "print(tnr)"
   ]
  },
  {
   "cell_type": "markdown",
   "metadata": {},
   "source": [
    "<h3>false positive rate or \"fall out\"</h3>\n",
    "The false positive rate is the proportion of rocks that have been identified as mines\n",
    "$$ fpr = \\frac{fp}{(fp + tn)} $$\n",
    "\n",
    "<li>Proportion of true news items that are identified as fake news\n",
    "<li>Proportion of consumers who won't use a discount but are identified as target discount users\n",
    "<li>Proportion of rocks that have been identified as mines"
   ]
  },
  {
   "cell_type": "code",
   "execution_count": 12,
   "metadata": {},
   "outputs": [
    {
     "name": "stdout",
     "output_type": "stream",
     "text": [
      "0.46153846153846156\n"
     ]
    }
   ],
   "source": [
    "fpr = fp/(fp+tn)\n",
    "print(fpr)"
   ]
  },
  {
   "cell_type": "markdown",
   "metadata": {},
   "source": [
    "<h3>Precision</h3>\n",
    "Precision measures the proportion of cases identified as positive that are actually positive\n",
    "$$ precision = \\frac{tp}{(tp + fp)} $$\n",
    "<li>Proportion of news items that are actually fake from amongst all the news items that are identified as fake\n",
    "<li>Proportion of \"churners\" that are actual churners from amongst all customers identifed as churners\n",
    "<li>Proportion of actual mines amongst all things that are identified as mines"
   ]
  },
  {
   "cell_type": "code",
   "execution_count": 13,
   "metadata": {},
   "outputs": [
    {
     "name": "stdout",
     "output_type": "stream",
     "text": [
      "0.7\n"
     ]
    }
   ],
   "source": [
    "precision = tp/(tp+fp)\n",
    "print(precision)"
   ]
  },
  {
   "cell_type": "markdown",
   "metadata": {},
   "source": [
    "<h3>f-score</h3>\n",
    "<li>Precision tells us how well our model discriminates amongst cases it identifies as positive. A precision of 1 would mean that if our model says something is positive, it is definitely a positive. \n",
    "<li>Recall tells us how good the model is at finding positives (a recall of 1 would mean it has found all positives). <li>Precision does not tell us how good we are at finding positives while recall does not tell us how good our model is at disciminating\n",
    "<li>The f-score combines the two into a single score\n",
    "$$ F = 2\\frac{precision * recall}{(precision + recall)} $$\n"
   ]
  },
  {
   "cell_type": "code",
   "execution_count": 14,
   "metadata": {},
   "outputs": [
    {
     "name": "stdout",
     "output_type": "stream",
     "text": [
      "0.7272727272727273\n"
     ]
    }
   ],
   "source": [
    "f = precision*tpr/(precision+tpr)*2\n",
    "print(f)"
   ]
  },
  {
   "cell_type": "markdown",
   "metadata": {},
   "source": [
    "<h3>accuracy</h3>\n",
    "Accuracy measures how accurately the model classifies things as positive or negative (mines or rocks)\n",
    "$$accuracy = \\frac{tp + tn}{(tp+tn+fp+fn)} $$\n",
    "An accuracy of 1 would mean that our model has classified everything correctly"
   ]
  },
  {
   "cell_type": "code",
   "execution_count": 15,
   "metadata": {},
   "outputs": [
    {
     "name": "stdout",
     "output_type": "stream",
     "text": [
      "0.6666666666666666\n"
     ]
    }
   ],
   "source": [
    "accuracy = (tp+tn)/(tp+tn+fp+fn)\n",
    "print(accuracy)"
   ]
  },
  {
   "cell_type": "markdown",
   "metadata": {},
   "source": [
    "<h3>misclassification rate</h3>\n",
    "Misclassifican rate is the inverse of accuracy. What proportion of the cases are misclassified?\n",
    "$$ misclassificationRate = \\frac{fp + fn}{(tp+tn+fp+fn)} $$\n"
   ]
  },
  {
   "cell_type": "code",
   "execution_count": 16,
   "metadata": {},
   "outputs": [
    {
     "name": "stdout",
     "output_type": "stream",
     "text": [
      "0.3333333333333333\n"
     ]
    }
   ],
   "source": [
    "misclassification_rate = (fp + fn)/(tp+fp+tn+fn)\n",
    "print(misclassification_rate)"
   ]
  },
  {
   "cell_type": "markdown",
   "metadata": {},
   "source": [
    "<h3>Examining our results</h3>\n"
   ]
  },
  {
   "cell_type": "code",
   "execution_count": 17,
   "metadata": {},
   "outputs": [
    {
     "name": "stdout",
     "output_type": "stream",
     "text": [
      "Precision:\t\t\t0.70 identified as mines are mines\n",
      "Recall/TPR:\t\t\t0.76 proportion of actual mines identified\n",
      "False Positive Rate:\t\t0.46 proportion of rocks identified as mines\n",
      "f-score:\t\t\t0.73 tradeoff between precision and recall\n",
      "Accuracy:\t\t\t0.67 how well the model has classified\n"
     ]
    }
   ],
   "source": [
    "def c_m_analysis(true,pred,threshold):\n",
    "    tn, fp, fn, tp = confusion_matrix(true,get_classification(pred,threshold)).ravel()\n",
    "    precision = tp/(tp+fp)\n",
    "    recall = tp/(tp+fn)\n",
    "    fpr = fp/(fp+tn)\n",
    "    f_score = 2*precision*tpr/(precision+tpr)\n",
    "    accuracy = (tp+tn)/(tp+tn+fp+fn)\n",
    "    print(\"Precision:\\t\\t\\t%1.2f identified as mines are mines\"%(precision))\n",
    "    print(\"Recall/TPR:\\t\\t\\t%1.2f proportion of actual mines identified\"%(recall))\n",
    "    print(\"False Positive Rate:\\t\\t%1.2f proportion of rocks identified as mines\"%fpr)\n",
    "    print(\"f-score:\\t\\t\\t%1.2f tradeoff between precision and recall\"%(f_score))\n",
    "    print(\"Accuracy:\\t\\t\\t%1.2f how well the model has classified\"%(accuracy))\n",
    "\n",
    "c_m_analysis(y_test,testing_predictions,0.5)"
   ]
  },
  {
   "cell_type": "markdown",
   "metadata": {},
   "source": [
    "<h3>Threshold</h3>\n",
    "<li>Our (regression) model is calculating continuous values between 0 and 1\n",
    "<li>We're using a threshold of 0.5 to decide whether something is a rock or a mine\n",
    "<li>What happens if we use a different threshold value?"
   ]
  },
  {
   "cell_type": "code",
   "execution_count": 18,
   "metadata": {},
   "outputs": [
    {
     "name": "stdout",
     "output_type": "stream",
     "text": [
      "Precision:\t\t\t0.63 identified as mines are mines\n",
      "Recall/TPR:\t\t\t0.84 proportion of actual mines identified\n",
      "False Positive Rate:\t\t0.69 proportion of rocks identified as mines\n",
      "f-score:\t\t\t0.69 tradeoff between precision and recall\n",
      "Accuracy:\t\t\t0.62 how well the model has classified\n"
     ]
    }
   ],
   "source": [
    "c_m_analysis(y_test,testing_predictions,0.25)"
   ]
  },
  {
   "cell_type": "code",
   "execution_count": 19,
   "metadata": {},
   "outputs": [
    {
     "name": "stdout",
     "output_type": "stream",
     "text": [
      "Precision:\t\t\t0.58 identified as mines are mines\n",
      "Recall/TPR:\t\t\t0.41 proportion of actual mines identified\n",
      "False Positive Rate:\t\t0.42 proportion of rocks identified as mines\n",
      "f-score:\t\t\t0.65 tradeoff between precision and recall\n",
      "Accuracy:\t\t\t0.48 how well the model has classified\n"
     ]
    }
   ],
   "source": [
    "c_m_analysis(y_test,testing_predictions,0.75)"
   ]
  },
  {
   "cell_type": "markdown",
   "metadata": {},
   "source": [
    "As the threshold increases:\n",
    "<li>precision goes up\n",
    "<li>recall goes down\n",
    "<li>false positive rate goes down\n",
    "<li>Why? See below!"
   ]
  },
  {
   "cell_type": "code",
   "execution_count": 20,
   "metadata": {},
   "outputs": [
    {
     "data": {
      "text/plain": [
       "<matplotlib.legend.Legend at 0x1a1d57af28>"
      ]
     },
     "execution_count": 20,
     "metadata": {},
     "output_type": "execute_result"
    },
    {
     "data": {
      "image/png": "[encoded data removed]",
      "text/plain": [
       "<Figure size 432x288 with 1 Axes>"
      ]
     },
     "metadata": {},
     "output_type": "display_data"
    }
   ],
   "source": [
    "mines = list()\n",
    "rocks = list()\n",
    "actual = np.array(y_test)\n",
    "for i in range(len(y_test)):\n",
    "    \n",
    "    if actual[i]:\n",
    "        mines.append(testing_predictions[i])\n",
    "    else:\n",
    "        rocks.append(testing_predictions[i])\n",
    "df_m = pd.DataFrame(mines)\n",
    "df_r = pd.DataFrame(rocks)\n",
    "fig, ax = plt.subplots()\n",
    "a_heights, a_bins = np.histogram(df_m)\n",
    "b_heights, b_bins = np.histogram(df_r, bins=a_bins)\n",
    "width = (a_bins[1] - a_bins[0])/3\n",
    "mines_bars = ax.bar(a_bins[:-1], a_heights, width=width, facecolor='cornflowerblue')\n",
    "rocks_bars = ax.bar(b_bins[:-1]+width, b_heights, width=width, facecolor='seagreen')\n",
    "plt.legend([mines_bars,rocks_bars], [\"Mines\", \"Rocks\"], loc='upper right', prop={'size':20})\n"
   ]
  },
  {
   "cell_type": "markdown",
   "metadata": {},
   "source": [
    "<h2>Trading off true positive rate and false positive rate</h2>"
   ]
  },
  {
   "cell_type": "markdown",
   "metadata": {},
   "source": [
    "<h2>ROC: Receiver Order Characteristic</h2>\n",
    "<li>An ROC curve shows the performance of a binary classifier as the threshold varies \n",
    "<li>It contrasts\n",
    "<ul>\n",
    "<li>False positive rate (FPR) Fall out/false alarm on the x-axis\n",
    "<li>True Positive rate (TPR) Sensitivity/recall on the y-axis\n",
    "</ul>\n",
    "<li>Each (fpr,tpr) coordinate is calculated for each threshold value and a curve plotted\n",
    "<li>An <span style=\"color:blue\">area under the curve (auc)</span> is calculated. \n",
    "<li>AUC gives us an estimate of how stable our model is to changes in threshold values\n",
    "\n"
   ]
  },
  {
   "cell_type": "markdown",
   "metadata": {},
   "source": [
    "<h2>Drawing the ROC Curve</h2>\n",
    "<li>sklearn has a function roc_curve that does this for us"
   ]
  },
  {
   "cell_type": "code",
   "execution_count": 21,
   "metadata": {},
   "outputs": [],
   "source": [
    "from sklearn.metrics import roc_curve, auc"
   ]
  },
  {
   "cell_type": "markdown",
   "metadata": {},
   "source": [
    "<h4>Out-sample ROC curve</h4>"
   ]
  },
  {
   "cell_type": "code",
   "execution_count": 22,
   "metadata": {},
   "outputs": [
    {
     "data": {
      "image/png": "[encoded data removed]",
      "text/plain": [
       "<Figure size 432x288 with 1 Axes>"
      ]
     },
     "metadata": {},
     "output_type": "display_data"
    }
   ],
   "source": [
    "#training_predictions = model.predict(x_train)\n",
    "#(fpr, tpr, thresholds) = roc_curve(y_train,training_predictions)\n",
    "\n",
    "testing_predictions = model.predict(x_test)\n",
    "(fpr, tpr, thresholds) = roc_curve(y_test,testing_predictions)\n",
    "\n",
    "area = auc(fpr,tpr)\n",
    "plt.clf() #Clear the current figure\n",
    "plt.plot(fpr,tpr,label=\"Out-Sample ROC Curve with area = %1.2f\"%area)\n",
    "\n",
    "plt.plot([0, 1], [0, 1], 'k')\n",
    "plt.xlim([0.0, 1.0])\n",
    "plt.ylim([0.0, 1.0])\n",
    "plt.xlabel('False Positive Rate')\n",
    "plt.ylabel('True Positive Rate')\n",
    "plt.title('Out sample ROC rocks versus mines')\n",
    "plt.legend(loc=\"lower right\")\n",
    "plt.show()"
   ]
  },
  {
   "cell_type": "markdown",
   "metadata": {},
   "source": [
    "<h2>Precision vs. Recall</h2>\n",
    "<li>Precision tells us how well we're discriminating within the positively identified  cases\n",
    "<li>Recall tells us what proportion of actual positive cases we've identified as positive\n",
    "<li>Obviously, we'd like both numbers to be close to 1!\n",
    "<li>The precision-recall curve tells us how well we're doing on both factors for different threshold values\n",
    "<li>We can also compute an <span style=\"color:blue\">average precision (AP) metric</span>\n",
    "<ul>\n",
    "<li>AP computes a score at each threshold point\n",
    "<li>Each score is the precision at that point multiplied by the change in recall from the previous threshold point\n",
    "<li>These are then summed up to give a weighted average\n",
    "<li>"
   ]
  },
  {
   "cell_type": "code",
   "execution_count": 23,
   "metadata": {},
   "outputs": [
    {
     "data": {
      "text/plain": [
       "Text(0.5,1,'2-class Precision-Recall curve: AP=0.60')"
      ]
     },
     "execution_count": 23,
     "metadata": {},
     "output_type": "execute_result"
    },
    {
     "data": {
      "image/png": "[encoded data removed]",
      "text/plain": [
       "<Figure size 432x288 with 1 Axes>"
      ]
     },
     "metadata": {},
     "output_type": "display_data"
    }
   ],
   "source": [
    "from sklearn.metrics import precision_recall_curve\n",
    "import matplotlib.pyplot as plt\n",
    "from sklearn.metrics import average_precision_score\n",
    "\n",
    "#precision, recall, thresholds = precision_recall_curve(y_train, training_predictions)\n",
    "#average_precision = average_precision_score(y_train, training_predictions)\n",
    "\n",
    "\n",
    "precision, recall, thresholds = precision_recall_curve(y_test, testing_predictions)\n",
    "average_precision = average_precision_score(y_test, testing_predictions)\n",
    "\n",
    "step_kwargs = ({'step' : 'post'})\n",
    "\n",
    "plt.step(recall, precision, color='b', alpha=0.2,\n",
    "         where='post')\n",
    "plt.fill_between(recall, precision, alpha=0.2, color='b', **step_kwargs)\n",
    "\n",
    "plt.xlabel('Recall')\n",
    "plt.ylabel('Precision')\n",
    "plt.ylim([0.0, 1.05])\n",
    "plt.xlim([0.0, 1.0])\n",
    "plt.title('2-class Precision-Recall curve: AP={0:0.2f}'.format(average_precision))"
   ]
  },
  {
   "cell_type": "markdown",
   "metadata": {
    "collapsed": true
   },
   "source": [
    "<h2>So, what threshold should we actually use?</h2>\n",
    "<li>ROC curves and precision-recall curves give you a sense for how good your classifier is and how sensitive it is to changes in threshold\n"
   ]
  },
  {
   "cell_type": "markdown",
   "metadata": {},
   "source": [
    "<h3>Example: Let's say</h3>\n",
    "<li>Everything classified as a rock needs to be checked with a hand scanner at $200/scan</li> \n",
    "<li>Everything classified as a mine needs to be defused at \\$1000 if it is a real mine or \\$300 if it turns out to be a rock</li>\n",
    "\n"
   ]
  },
  {
   "cell_type": "code",
   "execution_count": 24,
   "metadata": {},
   "outputs": [
    {
     "name": "stdout",
     "output_type": "stream",
     "text": [
      "41200 36200 21500\n"
     ]
    }
   ],
   "source": [
    "tn, fp, fn, tp = confusion_matrix(y_test,get_classification(testing_predictions,.1)).ravel()\n",
    "cost1 = (tn+fn) * 200 + 1000 * tp + 300 * fp\n",
    "tn, fp, fn, tp = confusion_matrix(y_test,get_classification(testing_predictions,.5)).ravel()\n",
    "cost2 = (tn+fn) * 200 + 1000 * tp + 300 * fp\n",
    "tn, fp, fn, tp = confusion_matrix(y_test,get_classification(testing_predictions,.9)).ravel()\n",
    "cost3 = (tn+fn) * 200 + 1000 * tp + 300 * fp\n",
    "print(cost1,cost2,cost3)"
   ]
  },
  {
   "cell_type": "markdown",
   "metadata": {},
   "source": [
    "<h3>Example: Let's say</h3>\n",
    "<li>Everything classified as a rock will be assumed a rock and if wrong, will cost $5000 in injuries</li> \n",
    "<li>Everything classified as a mine will be left as is (no one will walk on it!)</li>\n"
   ]
  },
  {
   "cell_type": "code",
   "execution_count": 25,
   "metadata": {},
   "outputs": [
    {
     "name": "stdout",
     "output_type": "stream",
     "text": [
      "20000 45000 135000\n"
     ]
    }
   ],
   "source": [
    "tn, fp, fn, tp = confusion_matrix(y_test,get_classification(testing_predictions,.1)).ravel()\n",
    "cost1 = 5000 * fn\n",
    "tn, fp, fn, tp = confusion_matrix(y_test,get_classification(testing_predictions,.5)).ravel()\n",
    "cost2 = 5000 * fn\n",
    "tn, fp, fn, tp = confusion_matrix(y_test,get_classification(testing_predictions,.9)).ravel()\n",
    "cost3 = 5000 * fn\n",
    "print(cost1,cost2,cost3)"
   ]
  },
  {
   "cell_type": "markdown",
   "metadata": {},
   "source": [
    "<h2>Bottom line. Depends on factors from your domain</h2>"
   ]
  },
  {
   "cell_type": "code",
   "execution_count": null,
   "metadata": {},
   "outputs": [],
   "source": []
  }
 ],
 "metadata": {
  "anaconda-cloud": {},
  "kernelspec": {
   "display_name": "Python 3",
   "language": "python",
   "name": "python3"
  },
  "language_info": {
   "codemirror_mode": {
    "name": "ipython",
    "version": 3
   },
   "file_extension": ".py",
   "mimetype": "text/x-python",
   "name": "python",
   "nbconvert_exporter": "python",
   "pygments_lexer": "ipython3",
   "version": "3.6.5"
  }
 },
 "nbformat": 4,
 "nbformat_minor": 1
}
