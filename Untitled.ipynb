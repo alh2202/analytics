{
 "cells": [
  {
   "cell_type": "code",
   "execution_count": 1,
   "metadata": {},
   "outputs": [
    {
     "ename": "SyntaxError",
     "evalue": "invalid syntax (<ipython-input-1-51c1ce36153c>, line 5)",
     "output_type": "error",
     "traceback": [
      "\u001b[0;36m  File \u001b[0;32m\"<ipython-input-1-51c1ce36153c>\"\u001b[0;36m, line \u001b[0;32m5\u001b[0m\n\u001b[0;31m    print(BeautifulSoup(text).find_all('div',class=\"special\").get_text())\u001b[0m\n\u001b[0m                                                 ^\u001b[0m\n\u001b[0;31mSyntaxError\u001b[0m\u001b[0;31m:\u001b[0m invalid syntax\n"
     ]
    }
   ],
   "source": [
    "from bs4 import BeautifulSoup\n",
    "\n",
    "text='<div class=\"special\"><a href=\"http://www.epicurious.com\">Special link</a>'\n",
    "\n",
    "print(BeautifulSoup(text).find_all('div',class=\"special\").get_text())"
   ]
  },
  {
   "cell_type": "code",
   "execution_count": null,
   "metadata": {},
   "outputs": [],
   "source": [
    "<div class_=\"main-section\">\n",
    "<h2>All links</h2>\n",
    "<a class=\"prev-link\" href=\"/oldpage/data.html\">old page</a>\n",
    "<a class=\"next-link\" href=\"/subpage/data.html\">Next Page</a>\n",
    "</div>\n",
    "\n",
    "The following code grabs the link embedded \n",
    "behind the marked up text \"Next Page\" and opens the linked page, \n",
    "but an essential part of the code is missing. \n",
    "Fill in the correct code that should go in the blank section\n",
    "\n",
    " \n",
    "\n",
    "(IMPORTANT: Wherever possible, use single quotes for strings \n",
    " and don't use any extra spaces or the autograder will get confused. \n",
    " But, don't worry, this question will also be graded manually!)\n",
    "\n",
    " \n",
    "\n",
    "from bs4 import BeautifulSoup\n",
    "import requests\n",
    "page_data = BeautifulSoup(requests.get(\"http://www.highway61.com\").content,'lxml))\n",
    "next_page_link = 'http://www.highway61.com'+'/subpage/data.html'_____________________________________________\n",
    "next_page = BeautifulSoup(requests.get(next_page_link).content,'lxml'))"
   ]
  }
 ],
 "metadata": {
  "kernelspec": {
   "display_name": "Python 3",
   "language": "python",
   "name": "python3"
  },
  "language_info": {
   "codemirror_mode": {
    "name": "ipython",
    "version": 3
   },
   "file_extension": ".py",
   "mimetype": "text/x-python",
   "name": "python",
   "nbconvert_exporter": "python",
   "pygments_lexer": "ipython3",
   "version": "3.6.5"
  }
 },
 "nbformat": 4,
 "nbformat_minor": 2
}
