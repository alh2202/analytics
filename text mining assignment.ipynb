{
 "cells": [
  {
   "cell_type": "markdown",
   "metadata": {},
   "source": [
    "<h1>Document Similarity using LSI</h1>"
   ]
  },
  {
   "cell_type": "markdown",
   "metadata": {},
   "source": [
    "<h4>In this assignment we’re going to practice document similarity. Here’s\n",
    "what you need to do:</h4>\n",
    "<ol>\n",
    "<li>From Wikipedia’s List of musicians page (https://en.wikipedia.org/wiki/Lists_of_musicians), pick five lists of\n",
    "musicians (e.g., List of big band musicians). You can pick any five\n",
    "you like but make sure that the list has the words “musicians” in\n",
    "it and that the list has at least 30 musicians listed\n",
    "<li>Collect the urls of all the musicians on those five pages and place them in a list\n",
    "<li>Grab the content of each musician in the list and place them in a list (of documents)\n",
    "<li>Build an LSI model using this data. This is your \"reference\" data set\n",
    "<li>Now grab another list of musicians from wikipedia and create a new list of documents using the detail from each musicians page. This is your \"musician\" data set\n",
    "<li>For each musician in the new list, find the musician in the reference data set that is the closest in similarity. \n",
    "<li>Print a table that contains each musician from the musician data set and the most similar musician from the reference data set\n",
    "</ol>\n",
    "<h4>Use the code below to build your solution"
   ]
  },
  {
   "cell_type": "markdown",
   "metadata": {},
   "source": [
    "<p><span style=\"color:blue\">get_musicians</span>: A function that, given a \"list of musicians\" url, returns a list containing the names of the musicians and the urls for their wikipedia pages\n",
    "<p>non_musician_finder tries its best to remove links that are not musician links from the page (not perfect, but good enough!)"
   ]
  },
  {
   "cell_type": "code",
   "execution_count": 1,
   "metadata": {
    "collapsed": true
   },
   "outputs": [],
   "source": [
    "def get_musicians(url):\n",
    "    from bs4 import BeautifulSoup\n",
    "    import requests\n",
    "    page_soup = BeautifulSoup(requests.get(url).content,'lxml')\n",
    "    li_tags = page_soup.find_all('li')\n",
    "    all_musicians = list()\n",
    "    for tag in li_tags:\n",
    "        if tag.get('id'):\n",
    "            continue\n",
    "\n",
    "        try:\n",
    "            tag.find('sup',class_=\"reference\")\n",
    "            link = tag.find('a').get('href')\n",
    "            name = tag.find('a').get_text()\n",
    "            if \"/wiki/\" in link and non_musician_finder(link):\n",
    "                all_musicians.append((name,\"https://en.wikipedia.org\" + link))\n",
    "        except:\n",
    "            pass\n",
    "    return all_musicians\n",
    "\n",
    "def non_musician_finder(link):\n",
    "    non_musician_words = ['Category','Template','Portal','List','File','Template','Special','Main','Help','User']\n",
    "    for word in non_musician_words:\n",
    "        if word in link:\n",
    "            return False\n",
    "    return True"
   ]
  },
  {
   "cell_type": "markdown",
   "metadata": {},
   "source": [
    "<h4>testing the function</h4>\n",
    "<li>Note that Wikipedia does not have a standard for its page design so this code may not work with every list"
   ]
  },
  {
   "cell_type": "code",
   "execution_count": 2,
   "metadata": {},
   "outputs": [
    {
     "data": {
      "text/plain": [
       "[('16 Horsepower', 'https://en.wikipedia.org/wiki/16_Horsepower'),\n",
       " ('Ryan Adams', 'https://en.wikipedia.org/wiki/Ryan_Adams'),\n",
       " ('Jill Andrews', 'https://en.wikipedia.org/wiki/Jill_Andrews'),\n",
       " ('The Autumn Defense', 'https://en.wikipedia.org/wiki/The_Autumn_Defense'),\n",
       " ('Backyard Tire Fire', 'https://en.wikipedia.org/wiki/Backyard_Tire_Fire'),\n",
       " ('Del Barber', 'https://en.wikipedia.org/wiki/Del_Barber'),\n",
       " ('Eef Barzelay', 'https://en.wikipedia.org/wiki/Eef_Barzelay'),\n",
       " (\"Bear's Den\", 'https://en.wikipedia.org/wiki/Bear%27s_Den_(band)'),\n",
       " ('Rico Bell', 'https://en.wikipedia.org/wiki/Rico_Bell'),\n",
       " ('Blitzen Trapper', 'https://en.wikipedia.org/wiki/Blitzen_Trapper'),\n",
       " ('Blue Rodeo', 'https://en.wikipedia.org/wiki/Blue_Rodeo'),\n",
       " ('Bosque Brown', 'https://en.wikipedia.org/wiki/Bosque_Brown'),\n",
       " ('The Bottle Rockets', 'https://en.wikipedia.org/wiki/The_Bottle_Rockets'),\n",
       " ('BR549', 'https://en.wikipedia.org/wiki/BR549'),\n",
       " ('Jim Bryson', 'https://en.wikipedia.org/wiki/Jim_Bryson'),\n",
       " ('Richard Buckner',\n",
       "  'https://en.wikipedia.org/wiki/Richard_Buckner_(musician)'),\n",
       " ('Caitlin Cary', 'https://en.wikipedia.org/wiki/Caitlin_Cary'),\n",
       " ('Neko Case', 'https://en.wikipedia.org/wiki/Neko_Case'),\n",
       " ('Cross Canadian Ragweed',\n",
       "  'https://en.wikipedia.org/wiki/Cross_Canadian_Ragweed'),\n",
       " ('The Deep Dark Woods', 'https://en.wikipedia.org/wiki/The_Deep_Dark_Woods'),\n",
       " ('The Devil Makes Three',\n",
       "  'https://en.wikipedia.org/wiki/The_Devil_Makes_Three_(band)'),\n",
       " ('Tim Easton', 'https://en.wikipedia.org/wiki/Tim_Easton'),\n",
       " ('Carrie Elkin', 'https://en.wikipedia.org/wiki/Carrie_Elkin'),\n",
       " ('Elliott Brood', 'https://en.wikipedia.org/wiki/Elliott_Brood'),\n",
       " ('Alejandro Escovedo', 'https://en.wikipedia.org/wiki/Alejandro_Escovedo'),\n",
       " ('Jay Farrar', 'https://en.wikipedia.org/wiki/Jay_Farrar'),\n",
       " ('Fifth on the Floor', 'https://en.wikipedia.org/wiki/Fifth_on_the_Floor'),\n",
       " ('Rosie Flores', 'https://en.wikipedia.org/wiki/Rosie_Flores'),\n",
       " ('Freakwater', 'https://en.wikipedia.org/wiki/Freakwater'),\n",
       " ('Robbie Fulks', 'https://en.wikipedia.org/wiki/Robbie_Fulks'),\n",
       " ('Mary Gauthier', 'https://en.wikipedia.org/wiki/Mary_Gauthier'),\n",
       " ('Giant Sand', 'https://en.wikipedia.org/wiki/Giant_Sand'),\n",
       " ('Golden Smog', 'https://en.wikipedia.org/wiki/Golden_Smog'),\n",
       " ('The Gourds', 'https://en.wikipedia.org/wiki/The_Gourds'),\n",
       " ('Grievous Angels', 'https://en.wikipedia.org/wiki/Grievous_Angels'),\n",
       " ('The Guthries', 'https://en.wikipedia.org/wiki/The_Guthries'),\n",
       " ('Sarah Lee Guthrie',\n",
       "  'https://en.wikipedia.org/wiki/Sarah_Lee_Guthrie_%26_Johnny_Irion'),\n",
       " ('Hacienda Brothers', 'https://en.wikipedia.org/wiki/Hacienda_Brothers'),\n",
       " ('Wayne Hancock', 'https://en.wikipedia.org/wiki/Wayne_Hancock'),\n",
       " ('The Handsome Family', 'https://en.wikipedia.org/wiki/The_Handsome_Family'),\n",
       " ('Thomas Hansen', 'https://en.wikipedia.org/wiki/Thomas_Hansen_(musician)'),\n",
       " ('Hazeldine', 'https://en.wikipedia.org/wiki/Hazeldine'),\n",
       " ('Patterson Hood', 'https://en.wikipedia.org/wiki/Patterson_Hood'),\n",
       " ('I See Hawks In L.A.', 'https://en.wikipedia.org/wiki/I_See_Hawks_In_L.A.'),\n",
       " ('Jason Isbell', 'https://en.wikipedia.org/wiki/Jason_Isbell'),\n",
       " ('The Jayhawks', 'https://en.wikipedia.org/wiki/The_Jayhawks'),\n",
       " ('Jolene', 'https://en.wikipedia.org/wiki/Jolene_(band)'),\n",
       " ('Graham Lindsey', 'https://en.wikipedia.org/wiki/Graham_Lindsey'),\n",
       " ('The Little Willies', 'https://en.wikipedia.org/wiki/The_Little_Willies'),\n",
       " ('Lydia Loveless', 'https://en.wikipedia.org/wiki/Lydia_Loveless'),\n",
       " ('Carolyn Mark', 'https://en.wikipedia.org/wiki/Carolyn_Mark'),\n",
       " ('The Mastersons', 'https://en.wikipedia.org/wiki/The_Mastersons'),\n",
       " ('Chris Mills', 'https://en.wikipedia.org/wiki/Chris_Mills_(musician)'),\n",
       " ('Milton Mapes', 'https://en.wikipedia.org/wiki/Milton_Mapes'),\n",
       " ('Elizabeth Mitchell',\n",
       "  'https://en.wikipedia.org/wiki/Elizabeth_Mitchell_(musician)'),\n",
       " ('John Moreland', 'https://en.wikipedia.org/wiki/John_Moreland'),\n",
       " ('James McMurtry', 'https://en.wikipedia.org/wiki/James_McMurtry'),\n",
       " (\"Old 97's\", 'https://en.wikipedia.org/wiki/Old_97%27s'),\n",
       " ('Old Crow Medicine Show',\n",
       "  'https://en.wikipedia.org/wiki/Old_Crow_Medicine_Show'),\n",
       " ('Mark Olson', 'https://en.wikipedia.org/wiki/Mark_Olson_(musician)'),\n",
       " ('Lindi Ortega', 'https://en.wikipedia.org/wiki/Lindi_Ortega'),\n",
       " ('Gram Parsons', 'https://en.wikipedia.org/wiki/Gram_Parsons'),\n",
       " ('Joe Pernice', 'https://en.wikipedia.org/wiki/Joe_Pernice'),\n",
       " ('Richmond Fontaine', 'https://en.wikipedia.org/wiki/Richmond_Fontaine'),\n",
       " ('Jason Ringenberg', 'https://en.wikipedia.org/wiki/Jason_Ringenberg'),\n",
       " ('Bruce Robison', 'https://en.wikipedia.org/wiki/Bruce_Robison'),\n",
       " ('Carrie Rodriguez', 'https://en.wikipedia.org/wiki/Carrie_Rodriguez'),\n",
       " ('Roman Candle', 'https://en.wikipedia.org/wiki/Roman_Candle_(band)'),\n",
       " ('Justin Rutledge', 'https://en.wikipedia.org/wiki/Justin_Rutledge'),\n",
       " ('Matthew Ryan', 'https://en.wikipedia.org/wiki/Matthew_Ryan_(musician)'),\n",
       " ('Scud Mountain Boys', 'https://en.wikipedia.org/wiki/Scud_Mountain_Boys'),\n",
       " ('Souled American', 'https://en.wikipedia.org/wiki/Souled_American'),\n",
       " ('Split Lip Rayfield', 'https://en.wikipedia.org/wiki/Split_Lip_Rayfield'),\n",
       " ('Jesse Sykes', 'https://en.wikipedia.org/wiki/Jesse_Sykes'),\n",
       " ('Jesse Sykes & the Sweet Hereafter',\n",
       "  'https://en.wikipedia.org/wiki/Jesse_Sykes'),\n",
       " ('Tarnation', 'https://en.wikipedia.org/wiki/Tarnation_(band)'),\n",
       " (\"Three O'Clock Train\",\n",
       "  'https://en.wikipedia.org/wiki/Three_O%27Clock_Train'),\n",
       " ('Tres Chicas', 'https://en.wikipedia.org/wiki/Tres_Chicas'),\n",
       " ('Jeff Tweedy', 'https://en.wikipedia.org/wiki/Jeff_Tweedy'),\n",
       " ('Two Cow Garage', 'https://en.wikipedia.org/wiki/Two_Cow_Garage'),\n",
       " ('Ugly Casanova', 'https://en.wikipedia.org/wiki/Ugly_Casanova'),\n",
       " ('Uncle Tupelo', 'https://en.wikipedia.org/wiki/Uncle_Tupelo'),\n",
       " ('Suzie Ungerleider', 'https://en.wikipedia.org/wiki/Suzie_Ungerleider'),\n",
       " ('Townes Van Zandt', 'https://en.wikipedia.org/wiki/Townes_Van_Zandt'),\n",
       " ('The Waco Brothers', 'https://en.wikipedia.org/wiki/The_Waco_Brothers'),\n",
       " ('Water Liars', 'https://en.wikipedia.org/wiki/Water_Liars'),\n",
       " ('Whiskeytown', 'https://en.wikipedia.org/wiki/Whiskeytown'),\n",
       " ('Larkin, Colin', 'https://en.wikipedia.org/wiki/Colin_Larkin_(writer)')]"
      ]
     },
     "execution_count": 2,
     "metadata": {},
     "output_type": "execute_result"
    }
   ],
   "source": [
    "url = \"https://en.wikipedia.org/wiki/List_of_alternative_country_musicians\"\n",
    "get_musicians(url)"
   ]
  },
  {
   "cell_type": "markdown",
   "metadata": {},
   "source": [
    "<h4>get_musician_text(url): returns the page text of the wikipedia page associated with a musician</h4>\n",
    "<li>Since we're not sure if this will always work, we use a try ... except to catch exceptions\n",
    "<li>If it doesn't work, the function returns None\n",
    "<li>We will need to delete this (musician, url) pair from our musicians list"
   ]
  },
  {
   "cell_type": "code",
   "execution_count": 3,
   "metadata": {
    "collapsed": true
   },
   "outputs": [],
   "source": [
    "def get_musician_text(url):\n",
    "    from bs4 import BeautifulSoup\n",
    "    import requests\n",
    "    all_text = ''\n",
    "    try:\n",
    "        page_soup = BeautifulSoup(requests.get(url).content,'lxml')\n",
    "        for p_tag in page_soup.find_all('p'):\n",
    "            all_text += p_tag.get_text()\n",
    "    except:\n",
    "        return None\n",
    "    return all_text\n"
   ]
  },
  {
   "cell_type": "markdown",
   "metadata": {},
   "source": [
    "<h4>testing get_musician_text</h4>"
   ]
  },
  {
   "cell_type": "code",
   "execution_count": 4,
   "metadata": {},
   "outputs": [
    {
     "data": {
      "text/plain": [
       "'James Douglas Morrison (December 8, 1943 – July 3, 1971) was an American singer, songwriter, and poet, best remembered as the lead singer of the Doors.[1] Due to his poetic lyrics, distinctive voice, wild personality, performances, and the dramatic circumstances surrounding his life and early death, Morrison is regarded by both music critics and fans as one of the most iconic and influential frontmen in rock music history.Morrison co-founded the Doors during the summer of 1965 in Venice, California. The band spent two years in obscurity until shooting to prominence with their #1 single in the United States, \"Light My Fire\", taken from their self-titled debut album. Morrison recorded a total of six studio albums with the Doors, all of which sold well and received critical acclaim. Though the Doors recorded two more albums after his death, the loss of Morrison was crippling to the band, and they disbanded in 1973. In 1993, Morrison, as a member of the Doors, was inducted into the Rock and Roll Hall of Fame.Since his death, his fame has endured as one of popular culture\\'s most rebellious and oft-displayed icons, representing the generation gap and youth counterculture.[2] He was also well known for improvising spoken word poetry passages while the band played live. Morrison was ranked #47 on Rolling Stone\\'s list of the \"100 Greatest Singers of All Time\",[3] and number 22 on Classic Rock magazine\\'s \"50 Greatest Singers in Rock\".[4] Ray Manzarek, who co-founded The Doors with him, said Morrison \"embodied hippie counterculture rebellion\".[5] Morrison was sometimes referred to by other nicknames, such as \"The Lizard King\", \"Mr. Mojo Risin\" and \"King of Orgasmic Rock\".[6]Morrison developed an alcohol dependency during the 1960s,[7][8] which at times affected his performances on stage.[9] He died at the age of 27 in Paris. As no autopsy was performed, the exact cause of Morrison\\'s death remains unknown to this day.[10]James Douglas Morrison was born on December 8, 1943 in Melbourne, Florida, the son of Clara Virginia (née Clarke) and Rear Admiral George Stephen Morrison, USN,[11] who commanded United States naval forces during the Gulf of Tonkin incident, which provided the pretext for the US involvement in the Vietnam War in 1965. Morrison had a younger sister, Anne Robin, who was born in 1947 in Albuquerque, New Mexico; and a younger brother, Andrew Lee Morrison, who was born in 1948 in Los Altos, California.His ancestors were Scottish, Irish, and English.[12][13] In 1947, when he was four years old, Morrison allegedly witnessed a car accident in the desert, during which a truck overturned and some Native Americans were lying injured at the side of the road. He referred to this incident in The Doors\\' song \"Peace Frog\" on their 1970 album Morrison Hotel, as well as in the spoken word performances \"Dawn\\'s Highway\" and \"Ghost Song\" on the posthumous 1978 album An American Prayer. Morrison believed this incident to be the most formative event of his life,[14] and made repeated references to it in the imagery in his songs, poems, and interviews.His family does not recall this incident happening in the way he told it. According to the Morrison biography No One Here Gets Out Alive, Morrison\\'s family did drive past a car accident on an Indian reservation when he was a child, and he was very upset by it. The book The Doors, written by the surviving members of the Doors, explains how different Morrison\\'s account of the incident was from that of his father. This book quotes his father as saying, \"We went by several Indians. It did make an impression on him [the young James]. He always thought about that crying Indian.\" This is contrasted sharply with Morrison\\'s tale of \"Indians scattered all over the highway, bleeding to death.\" In the same book, his sister is quoted as saying, \"He enjoyed telling that story and exaggerating it. He said he saw a dead Indian by the side of the road, and I don\\'t even know if that\\'s true.\"[15]Raised a military brat, Morrison spent part of his childhood in San Diego, completed third grade at Fairfax County Elementary School Fairfax County, Virginia, and attended Charles H. Flato Elementary School in Kingsville, Texas while his father was stationed at NAS Kingsville in 1952. He continued at St. John\\'s Methodist School in Albuquerque, New Mexico, and then Longfellow School Sixth Grade Graduation Program from San Diego, California.[16]In 1957, Morrison attended Alameda High School in Alameda, California for his freshman and first semester of his sophomore year.[17] He finished high school in Alexandria, Virginia, graduating from George Washington High School (now George Washington Middle School) in June 1961.[16] Cass Elliot also attended the school contemporaneously.[18]A voracious reader from an early age, Morrison was particularly inspired by the writings of several philosophers and poets. He was influenced by Friedrich Nietzsche, whose views on aesthetics, morality, and the Apollonian and Dionysian duality would appear in his conversation, poetry and songs. Some of his formative influences were Plutarch\\'s Parallel Lives and the works of the French Symbolist poet Arthur Rimbaud, whose style would later influence the form of Morrison\\'s short prose poems. He was also influenced by William S. Burroughs, Jack Kerouac, Allen Ginsberg, Lawrence Ferlinghetti, Charles Baudelaire, Molière, Franz Kafka, Honoré de Balzac and Jean Cocteau, along with most of the French existentialist philosophers.[15][19][20] His senior year English teacher said, \"Jim read as much and probably more than any student in class, but everything he read was so offbeat I had another teacher (who was going to the Library of Congress) check to see if the books Jim was reporting on actually existed. I suspected he was making them up, as they were English books on sixteenth- and seventeenth-century demonology. I\\'d never heard of them, but they existed, and I\\'m convinced from the paper he wrote that he read them, and the Library of Congress would\\'ve been the only source.\"[21] Morrison went to live with his paternal grandparents in Clearwater, Florida, where he attended classes at St. Petersburg College (then known as a junior college).In 1962, he transferred to Florida State University (FSU) in Tallahassee, where he appeared in a school recruitment film.[22] While attending Florida State University, Morrison was arrested for a prank following a home football game.[23]In January 1964, Morrison moved to Los Angeles to attend the University of California, Los Angeles (UCLA). Shortly thereafter on August 2, 1964, Morrison\\'s father, George Stephen Morrison, commanded a carrier division of the United States fleet during the Gulf of Tonkin Incident, which resulted in the United States\\' rapid escalation of the Vietnam War. At UCLA, Morrison enrolled in Jack Hirschman\\'s class on Antonin Artaud in the Comparative Literature program within the UCLA English Department. Artaud\\'s brand of surrealist theatre had a profound impact on Morrison\\'s dark poetic sensibility of cinematic theatricality.[24] Morrison completed his undergraduate degree at UCLA\\'s film school within the Theater Arts department of the College of Fine Arts in 1965.[25] At the time of the graduation ceremony, he went to Venice, and his diploma was mailed to his mother at Coronado.[26] He made several short films while attending UCLA. First Love, the first of these films, made with Morrison\\'s classmate and roommate Max Schwartz, was released to the public when it appeared in a documentary about the film Obscura.[27] During these years, while living in Venice Beach, he became friends with writers at the Los Angeles Free Press, for which he advocated until his death in 1971. He conducted a lengthy and in-depth interview with Bob Chorush and Andy Kent, both working for the Free Press at the time (approximately December 6–8, 1970), and was planning on visiting the headquarters of the busy newspaper shortly before leaving for Paris.[28]In the summer of 1965, after graduating with a bachelor\\'s degree from the UCLA film school, Morrison led a bohemian lifestyle in Venice Beach. Living on the rooftop of a building inhabited by his old UCLA cinematography friend, Dennis Jakobs, he wrote the lyrics of many of the early songs the Doors would later perform live and record on albums, the most notable being \"Moonlight Drive\" and \"Hello, I Love You\".[citation needed] According to Jakobs, he lived on canned beans and LSD for several months.[citation needed] Morrison and fellow UCLA student, Ray Manzarek, were the first two members of the Doors, forming the group during that summer. They had met months earlier as cinematography students. The now-legendary story claims that Manzarek was lying on the beach at Venice one day, where he accidentally encountered Morrison.[29] He was impressed with Morrison\\'s poetic lyrics, claiming that they were \"rock group\" material. Subsequently, guitarist Robby Krieger and drummer John Densmore joined. Krieger auditioned at Densmore\\'s recommendation and was then added to the lineup. All three musicians shared a common interest in the Maharishi Mahesh Yogi\\'s meditation practices at the time, attending scheduled classes, but Morrison was not involved in these series of classes.[30]The Doors took their name from the title of Aldous Huxley\\'s book The Doors of Perception (a reference to the unlocking of doors of perception through psychedelic drug use). Huxley\\'s own title was a quotation from William Blake\\'s The Marriage of Heaven and Hell, in which Blake wrote: \"If the doors of perception were cleansed everything would appear to man as it is, infinite.\" Although Morrison was known as the lyricist of the group, Krieger also made significant lyrical contributions, writing or co-writing some of the group\\'s biggest hits, including \"Light My Fire\", \"Love Me Two Times\", \"Love Her Madly\", and \"Touch Me\".[31] On the other hand, Morrison, who didn\\'t write most songs using an instrument, would come up with vocal melodies for his own lyrics, with the other band members contributing chords and rhythm. Morrison did not play an instrument live (except for maracas and tambourine for most shows, and harmonica on a few occasions) or in the studio (excluding maracas, tambourine, handclaps, and whistling). However, he did play the grand piano on \"Orange County Suite\" and a Moog synthesizer on \"Strange Days\".In June 1966, Morrison and the Doors were the opening act at the Whisky a Go Go in the last week of the residency of Van Morrison\\'s band Them.[32] Van\\'s influence on Jim\\'s developing stage performance was later noted by Brian Hinton in his book Celtic Crossroads: The Art of Van Morrison: \"Jim Morrison learned quickly from his near namesake\\'s stagecraft, his apparent recklessness, his air of subdued menace, the way he would improvise poetry to a rock beat, even his habit of crouching down by the bass drum during instrumental breaks.\"[33] On the final night, the two Morrisons and their two bands jammed together on \"Gloria\".[34][35][36] In November 1966, Morrison and the Doors produced a promotional film for \"Break on Through (To the Other Side)\", which was their first single release. The film featured the four members of the group playing the song on a darkened set with alternating views and close-ups of the performers while Morrison lip-synched the lyrics. Morrison and the Doors continued to make short music films, including \"The Unknown Soldier\", \"Moonlight Drive\", and \"People Are Strange\".The Doors achieved national recognition after signing with Elektra Records in 1967.[37] The single \"Light My Fire\" spent three weeks at number one on the Billboard Hot 100 chart in July/August 1967. This was a far cry from the Doors playing warm up for Simon and Garfunkel and playing at a high school as they did in Connecticut that same year.[38] Later, the Doors appeared on The Ed Sullivan Show, a popular Sunday night variety series that had introduced the Beatles and Elvis Presley to the United States. Ed Sullivan requested two songs from the Doors for the show, \"People Are Strange\" and \"Light My Fire\". Sullivan\\'s censors insisted that the Doors change the lyrics of the song \"Light My Fire\" from \"Girl we couldn\\'t get much higher\" to \"Girl we couldn\\'t get much better\" for the television viewers; this was reportedly due to what was perceived as a reference to drugs in the original lyrics. After giving assurances of compliance to the producer in the dressing room, the band agreed, \"we\\'re not changing a word,\" and proceeded to sing the song with the original lyrics. Sullivan was not happy and he refused to shake hands with Morrison or any other band member after their performance. Sullivan had a show producer tell the band that they would never appear on The Ed Sullivan Show again. Morrison reportedly said to the producer, in a defiant tone, \"Hey man. We just \\'did\\' the Sullivan Show!\"[39]By the release of their second album, Strange Days, the Doors had become one of the most popular rock bands in the United States. Their blend of blues and dark psychedelic rock included a number of original songs and distinctive cover versions, such as their rendition of \"Alabama Song\", from Bertolt Brecht and Kurt Weill\\'s opera, Rise and Fall of the City of Mahagonny. The band also performed a number of extended concept works, including the songs \"The End\", \"When the Music\\'s Over\", and \"Celebration of the Lizard\". In 1966, photographer Joel Brodsky took a series of black-and-white photos of Morrison, in a photo shoot known as \"The Young Lion\" photo session. These photographs are considered among the most iconic images of Jim Morrison and are frequently used as covers for compilation albums, books, and other memorabilia of the Doors and Morrison.[40][41] In late 1967 at an infamous concert in New Haven, Connecticut, he was arrested on stage, an incident that further added to his mystique and emphasized his rebellious image.In 1968, the Doors released their third studio album, Waiting for the Sun. The band performed on July 5 at the Hollywood Bowl, this performance became famous with the DVD: Live at the Hollywood Bowl. It\\'s also this year that the band played, for the first time, in Europe. Their fourth album, The Soft Parade, was released in 1969. It was the first album where the individual band members were given credit on the inner sleeve for the songs they had written. Previously, each song on their albums had been credited simply to \"the Doors\". On September 6 and 7, 1968, the Doors played four performances at the Roundhouse, London, England with Jefferson Airplane which was filmed by Granada for a television documentary The Doors are Open directed by John Sheppard. Around this time, Morrison—who had long been a heavy drinker—started showing up for recording sessions visibly inebriated.[42] He was also frequently late for live performances.By early 1969, the formerly svelte singer had gained weight, grown a beard and mustache, and had begun dressing more casually—abandoning the leather pants and concho belts for slacks, jeans, and T-shirts. During a concert of March 1, 1969, at the Dinner Key Auditorium in Miami, Morrison attempted to spark a riot in the audience, in part by screaming \"You wanna see my cock?\" and other obscenities. He failed, but six warrants for his arrest were issued by the Dade County Police department three days later for indecent exposure, among other things.[43] Consequently, many of the Doors\\' scheduled concerts were canceled.[44][45] In September 1970, Morrison was convicted of indecent exposure and profanity.[6] Morrison, who attended the sentencing \"in a wool jacket adorned with Indian designs\", silently listened as he was sentenced to six months in prison and had to pay a $500 fine.[6] Morrison remained free on a $50,000 bond.[6] At the sentencing, Judge Murray Goodman told Morrison that he was a \"person graced with a talent\" admired by many of his peers.[6]In 2007 Florida Governor Charlie Crist suggested the possibility of a posthumous pardon for Morrison, which was announced as successful on December 9, 2010.[46][47] Drummer John Densmore denied Morrison ever exposed himself on stage that night.[48]Following The Soft Parade, the Doors released Morrison Hotel. After a lengthy break, the group reconvened in October 1970 to record what would become their final album with Morrison, titled L.A. Woman. Shortly after the recording sessions for the album began, producer Paul A. Rothchild—who had overseen all of their previous recordings—left the project. Engineer Bruce Botnick took over as producer.Morrison began writing in earnest during his adolescence. At UCLA he studied the related fields of theater, film, and cinematography.[49] He self-published two separate volumes of his poetry in 1969, titled The Lords / Notes on Vision and The New Creatures. The Lords consists primarily of brief descriptions of places, people, events and Morrison\\'s thoughts on cinema. The New Creatures verses are more poetic in structure, feel and appearance. These two books were later combined into a single volume titled The Lords and The New Creatures. These were the only writings published during Morrison\\'s lifetime. Morrison befriended Beat poet Michael McClure, who wrote the afterword for Danny Sugerman\\'s biography of Morrison, No One Here Gets Out Alive. McClure and Morrison reportedly collaborated on a number of unmade film projects, including a film version of McClure\\'s infamous play The Beard, in which Morrison would have played Billy the Kid.[50] After his death, a further two volumes of Morrison\\'s poetry were published. The contents of the books were selected and arranged by Morrison\\'s friend, photographer Frank Lisciandro, and girlfriend Pamela Courson\\'s parents, who owned the rights to his poetry.The Lost Writings of Jim Morrison Volume I is titled Wilderness, and, upon its release in 1988, became an instant New York Times Bestseller. Volume II, The American Night, released in 1990, was also a success. Morrison recorded his own poetry in a professional sound studio on two separate occasions. The first was in March 1969 in Los Angeles and the second was on December 8, 1970. The latter recording session was attended by Morrison\\'s personal friends and included a variety of sketch pieces. Some of the segments from the 1969 session were issued on the bootleg album The Lost Paris Tapes and were later used as part of the Doors\\' An American Prayer album,[51] released in 1978. The album reached #54 on the music charts. Some poetry recorded from the December 1970 session remains unreleased to this day and is in the possession of the Courson family. Morrison\\'s best-known but seldom seen cinematic endeavor is HWY: An American Pastoral, a project he started in 1969. Morrison financed the venture and formed his own production company in order to maintain complete control of the project. Paul Ferrara, Frank Lisciandro, and Babe Hill assisted with the project. Morrison played the main character, a hitchhiker turned killer/car thief. Morrison asked his friend, composer/pianist Fred Myrow, to select the soundtrack for the film.[52]Morrison\\'s early life was the semi-nomadic existence typical of military families.[53] Jerry Hopkins recorded Morrison\\'s brother, Andy, explaining that his parents had determined never to use physical corporal punishment such as spanking on their children. They instead instilled discipline and levied punishment by the military tradition known as dressing down. This consisted of yelling at and berating the children until they were reduced to tears and acknowledged their failings. Once Morrison graduated from UCLA, he broke off most contact with his family. By the time Morrison\\'s music ascended to the top of the charts (in 1967) he had not been in communication with his family for more than a year and falsely claimed that his parents and siblings were dead (or claiming, as it has been widely misreported, that he was an only child).This misinformation was published as part of the materials distributed with the Doors\\' self-titled debut album. Admiral Morrison was not supportive of his son\\'s career choice in music. One day, an acquaintance brought over a record thought to have Jim on the cover. The record was the Doors\\' self-titled debut. The young man played the record for Morrison\\'s father and family. Upon hearing the record, Morrison\\'s father wrote him a letter telling him \"to give up any idea of singing or any connection with a music group because of what I consider to be a complete lack of talent in this direction.\"[54] In a letter to the Florida Probation and Parole Commission District Office dated October 2, 1970, Morrison\\'s father acknowledged the breakdown in family communications as the result of an argument over his assessment of his son\\'s musical talents. He said he could not blame his son for being reluctant to initiate contact and that he was proud of him nonetheless.[55]Morrison spoke fondly of his Irish and Scottish ancestry and was inspired by Celtic mythology in his poetry and songs.[56][57] Celtic Family Magazine revealed in its 2016 Spring Issue his Morrison clan was originally from the Isle of Lewis, Scotland, while his Irish side, the Clelland clan whom married into the Morrison line were from County Down, Ireland.[58]Morrison\\'s first major love affair was with Mary Werbelow, whom he met on the beach in Florida. The relationship lasted several years, inspiring many of the songs on the first two Doors albums including the 11-minute ballad \"The End\" which Ray Manzarek said was originally \"a short goodbye love song to Mary\" calling her \"Jim\\'s first love\". Werbelow has remained out of view to rock historians with one exception, a 2005 interview with the St. Petersburg Times where she said Morrison spoke to her before a photo shoot for the Doors\\' fourth album and told her the first three albums were about her.[59][60][61][62]Morrison spent nearly the entirety of his adult life with a woman named Pamela Courson after meeting her while both attended university.[63] They met[64] and she encouraged him to develop his poetry. At times, Courson used the surname \"Morrison\" with his apparent consent, or at least lack of concern.[citation needed] She was buried as Pamela Susan Morrison. After Courson\\'s death in 1974, and after her parents petitioned the court for inheritance of Morrison\\'s estate, the probate court in California decided that she and Morrison had once had what qualified as a common-law marriage, despite neither having applied for such status, and common-law marriage not being recognized in California. Morrison\\'s will lists him as \"an unmarried person\" but listed Courson as the sole heir. They had previously obtained marriage licenses in Colorado in 1967 and in Los Angeles in 1968.[65][66] The Doors\\' keyboardist Ray Manzarek described Courson as Morrison\\'s \"other half\". Morrison spoke to Courson through his lyrics and his poetry and dedicated his published poetry book The New Creatures to her. Songs like \"Love Street\", \"Queen of the Highway\", \"Blue Sunday\", and \"Indian Summer\" as well as many of his poems were said to be written about her.[67][68]Morrison also reportedly regularly had sex with fans (\"groupies\") such as Pamela Des Barres[69][70] and Josépha Karcz, who wrote a novel about their night together, and had numerous short flings with other musicians, as well as writers and photographers involved in the music business. They included Nico, the singer associated with the Velvet Underground, a one-night stand with singer Grace Slick of Jefferson Airplane, an on-again, off-again relationship with 16 Magazine\\'s Gloria Stavers as well as an alleged alcohol-fueled encounter with Janis Joplin. Nico also wanted to marry Morrison and they cut their thumbs in the desert with a knife and let their blood mingle. Nico said, \"We exchanged blood. I carry his blood inside me.\"[71]David Crosby said many years later Morrison treated Joplin meanly at a party at the Calabasas, California, home of John Davidson while Davidson was out of town.[72][73][74] She reportedly hit him over the head with a bottle of whiskey in retaliation during a fight in front of witnesses.[72][73][74][75]In 1965, Judy Huddleston met Morrison and claimed she had a four-year on-and-off relationship with him that she chronicled in her book Love Him Madly: An Intimate Memoir of Jim Morrison [76][77] and an out-of-print book called This is the End My Only Friend: Living & Dying with Jim Morrison, which was updated as Like He Was God.[78]In 1970, Morrison participated in a Celtic Pagan handfasting ceremony with rock critic author Patricia Kennealy. The couple signed a document declaring themselves wed,[79] but none of the necessary paperwork for a legal marriage was filed with the state. Kennealy discussed her experiences with Morrison in her autobiography Strange Days: My Life With and Without Jim Morrison. In an interview reported in the book Rock Wives, Kennealy reveals that she and Jim Morrison were wed, sort of, in a witch ceremony in 1970, but that he turned \"really cold\" when Kennealy became pregnant—maybe, she speculates, because he had \"20 paternity suits pending against him.\" She was asked if Morrison took the ceremony seriously and she answered \"probably not too seriously\".[80][81]In July 1971, Janet Erwin documented in her journal having dated Morrison during the last few weeks before he traveled to Paris. She wrote the essay \"Your Ballroom Days Are Over.\" On a couple of their nights together there were strong aftershocks from the 1971 San Fernando earthquake; one aftershock measured 5.0 on the Richter magnitude scale.[82]At the time of Morrison\\'s death there were at least three paternity actions pending against him,[83] although no claims were made against his estate by any of the putative paternity claimants. Pamela Des Barres later said in her autobiography I\\'m with the Band: Confessions of a Groupie that Morrison \"turned out to be very much a one-woman man\", referring to his relationship with Pamela Courson.[69]Morrison joined Pamela Courson in Paris in March 1971, at an apartment he had rented on the rue Beautreillis (in the 4th arrondissement of Paris on the Right Bank). In letters he described going for long walks through the city, alone.[84] During this time, he shaved his beard and lost some of the weight he had gained in the previous months.[85] He died on July 3, 1971 at age 27.[86][87][88][excessive citations] He was found by Courson in a bathtub at his apartment. The official cause of death was listed as heart failure,[89][better\\xa0source\\xa0needed] although no autopsy was performed, as it was not required by French law.After his death, a notebook of poetry written by Morrison was recovered entitled Paris Journal[90] which amongst other personal details, contains the allegorical foretelling of a man who will be left grieving and having to abandon his belongings, due to a police investigation into a death connected to the Chinese opium trade. Weeping, he left his pad on orders from police and furnishings hauled away, all records and mementos, and reporters calculating tears & curses for the press: \"I hope the Chinese junkies get you\" and they will for the [opium] poppy rules the world.[90][91][92][93]The concluding stanzas of this poem convey disappointment for someone with whom he had had an intimate relationship and contain a further invocation of Billy/the killer Hitchhiker, a common character in Morrison\\'s body of work. This is my poem for you, Great flowing funky flower\\'d beast, Great perfumed wreck of hell...Someone new in your knickers & who would that be? You know, You know more, than you let on...Tell them you came & saw & look\\'d into my eyes & saw the shadow of the guard receding, Thoughts in time & out of season The Hitchhiker stood by the side of the road & levelled his thumb in the calm calculus of reason.[90][91]In 2013 another of Morrison\\'s notebooks from Paris, found alongside the Paris Journal in the same box, known as the 127 Fascination box,[94] sold for $250,000 at auction.[90][95] This box of personal belongings similarly contained a home movie of Pamela Courson dancing in an unspecified cemetery in Corsica, the only film so far recovered to have been filmed by Morrison.[96][97] The box also housed a number of older notebooks and journals and may initially have included the \"Steno Pad\" and the falsely titled The Lost Paris Tapes bootleg, if they had not been separated from the primary collection and sold by Philippe Dalecky with this promotional title. Avid listeners familiar with the voices of Morrison\\'s friends and colleagues later determined that, contrary to the story advanced by Dalecky that this was Morrison\\'s final recording made with busking Parisian musicians, the Lost Paris Tapes are in fact, of \"Jomo & The Smoothies\"—Morrison, friend Michael McClure and producer Paul Rothchild loose jamming in Los Angeles, well before Paris 1971.[93]Morrison was buried in Père Lachaise Cemetery in Paris,[98] one of the city\\'s most visited tourist attractions, where Irish playwright Oscar Wilde, French cabaret singer Edith Piaf, and many other poets and artists are also buried. The grave had no official marker until French officials placed a shield over it, which was stolen in 1973. The grave was listed in the cemetery directory with Morrison\\'s name incorrectly arranged as \"Douglas James Morrison.\"In 1981, Croatian sculptor Mladen Mikulin[99] voluntarily placed a bust of his own design and a new gravestone with Morrison\\'s name at the grave to commemorate the tenth anniversary of Morrison\\'s death; the bust was defaced through the years by cemetery vandals, and later stolen in 1988.[100] Mikulin made another bust of Morrison in 1989,[101] and a bronze portrait of him in 2001;[102] neither piece is at the gravesite.In the early-1990s, Morrison\\'s father, George Stephen Morrison, after a consultation with E. Nicholas Genovese, Professor of Classics and Humanities, San Diego State University, placed a flat stone on the grave. The bronze plaque thereon bears the Greek inscription: ΚΑΤΑ ΤΟΝ ΔΑΙΜΟΝΑ ΕΑΥΤΟΥ, literally meaning \"according to his own daemon, i.e., guiding spirit,\" to convey the sentiment \"True to Himself.\"[103][104][105][106]As a naval family, the Morrisons moved frequently. As a consequence, Morrison\\'s early education was routinely disrupted as he moved from school to school. Nonetheless, he was drawn to the study of literature, poetry, religion, philosophy and psychology, among other fields.[107] Biographers have consistently pointed to a number of writers and philosophers who influenced Morrison\\'s thinking and, perhaps, his behavior.[15][19][20][108][109][110] While still in his adolescence, Morrison discovered the works of German philosopher Friedrich Nietzsche.[8] He was also drawn to the poetry of William Blake, Charles Baudelaire, and Arthur Rimbaud.[109] Beat Generation writers such as Jack Kerouac and libertine writers such as the Marquis de Sade also had a strong influence on Morrison\\'s outlook and manner of expression; Morrison was eager to experience the life described in Kerouac\\'s On the Road.[111][112] He was similarly drawn to the work of French writer Louis-Ferdinand Céline.[110] Céline\\'s book, Voyage Au Bout de la Nuit (Journey to the End of the Night) and Blake\\'s Auguries of Innocence both echo through one of Morrison\\'s early songs, \"End of the Night\".[109]Morrison later met and befriended Michael McClure, a well-known beat poet. McClure had enjoyed Morrison\\'s lyrics but was even more impressed by his poetry and encouraged him to further develop his craft.[113] Morrison\\'s vision of performance was colored by the works of 20th-century French playwright Antonin Artaud[114] (author of Theater and its Double) and by Julian Beck\\'s Living Theater.[115][116]Other works relating to religion, mysticism, ancient myth and symbolism were of lasting interest, particularly Joseph Campbell\\'s The Hero with a Thousand Faces. James Frazer\\'s The Golden Bough also became a source of inspiration and is reflected in the title and lyrics of the song \"Not to Touch the Earth\".[citation needed] Morrison was particularly attracted to the myths and religions of Native American cultures.[117]While he was still at school, his family moved to New Mexico where he got to see some of the places and artifacts important to the American Southwest Indigenous cultures. These interests appear to be the source of many references to creatures and places such as lizards, snakes, deserts and \"ancient lakes\" that appear in his songs and poetry. His interpretation and imagination of the practices of Native American ceremonial people (which, based on his readings, he referred to by the anthropological but inaccurate term \"shamans\") influenced his stage routine, notably in seeking trance states and vision through dancing to the point of exhaustion. In particular, Morrison\\'s poem \"The Ghost Song\" was inspired by his readings about the Native American Ghost Dance.Morrison\\'s vocal influences included Elvis Presley and Frank Sinatra, which is evident in his baritone crooning style characteristic of several of the Doors\\' songs. In the 1981 documentary The Doors: A Tribute to Jim Morrison, producer Paul Rothchild relates his first impression of Morrison as being a \"Rock and Roll Bing Crosby\". Sugerman states that Morrison, as a teenager, was such a fan of Presley that he demanded silence when Elvis was on the radio. He states that Sinatra was Morrison\\'s favorite singer.[118]Morrison was and continues to be, one of the most popular and influential singer-songwriters and iconic frontmen in rock history. To this day Morrison is widely regarded as the prototypical rock star: surly, sexy, scandalous, and mysterious.[119] The leather pants he was fond of wearing both onstage and off have since become stereotyped as rock-star apparel.[120][dubious – discuss] In 2011, a Rolling Stone readers\\' pick placed Jim Morrison in fifth place of the magazine\\'s \"Best Lead Singers of All Time\".[121] Iggy and the Stooges are said to have formed after lead singer Iggy Pop was inspired by Morrison while attending a Doors concert in Ann Arbor, Michigan.[122] One of Pop\\'s most popular songs, \"The Passenger\", is said to be based on one of Morrison\\'s poems.[123] After Morrison\\'s death, Pop was considered as a replacement lead singer for the Doors; the surviving Doors gave him some of Morrison\\'s belongings and hired him as a vocalist for a series of shows.Wallace Fowlie, professor emeritus of French literature at Duke University, wrote Rimbaud and Jim Morrison, subtitled \"The Rebel as Poet\\xa0– A Memoir\". In this, he recounts his surprise at receiving a fan letter from Morrison who, in 1968, thanked him for his latest translation of Arthur Rimbaud\\'s verse into English. \"I don\\'t read French easily\", he wrote, \"...your book travels around with me.\" Fowlie went on to give lectures on numerous campuses comparing the lives, philosophies, and poetry of Morrison and Rimbaud. The book The Doors by the remaining Doors quotes Morrison\\'s close friend Frank Lisciandro as saying that too many people took a remark of Morrison\\'s that he was interested in revolt, disorder, and chaos \"to mean that he was an anarchist, a revolutionary, or, worse yet, a nihilist. Hardly anyone noticed that Jim was paraphrasing Rimbaud and the Surrealist poets.\"[124]Layne Staley, the vocalist of Alice in Chains, Eddie Vedder, the vocalist of Pearl Jam, Scott Weiland, the vocalist of Stone Temple Pilots and Velvet Revolver, Julian Casablancas of the Strokes, James LaBrie of Dream Theater, as well as Scott Stapp of Creed and Ville Valo of H.I.M.,[125] have all said that Morrison was their biggest influence and inspiration. Stone Temple Pilots and Velvet Revolver have both covered \"Roadhouse Blues\" by the Doors. Weiland also filled in for Morrison to perform \"Break on Through (To The Other Side)\" with the rest of the Doors. Stapp filled in for Morrison for \"Light My Fire\", \"Riders on the Storm\" and \"Roadhouse Blues\" on VH1 Storytellers. Creed performed their version of \"Roadhouse Blues\" with Robby Krieger for the 1999 Woodstock Festival.Morrison\\'s recital of his poem \"Bird of Prey\" can be heard throughout the song \"Sunset\" by Fatboy Slim. Rock band Bon Jovi featured Morrison\\'s grave in their \"I\\'ll Sleep When I\\'m Dead\" video clip. The band Radiohead mentions Jim Morrison in their song \"Anyone Can Play Guitar\", stating \"I wanna be wanna be wanna be Jim Morrison\". Alice Cooper in the liner notes of the album Killer stated that the song \"Desperado\" is about Jim Morrison. The leather trousers of U2\\'s lead singer Bono\\'s \"The Fly\" persona for the Achtung Baby era and subsequent Zoo TV Tour is attributed to Jim Morrison. In 2012 electronic music producer Skrillex released \"Breakn\\' a Sweat\" which contained vocals from an interview with Jim Morrison.In June 2013, a fossil analysis discovered a large lizard in Myanmar. The extinct reptile was given the moniker Barbaturex morrisoni in honor of Morrison. \"This is a king lizard, and he was the lizard king, so it just fit,\" said Jason Head, a paleontologist at the University of Nebraska–Lincoln.[126]The animated television show The Simpsons has made numerous references to Morrison, including Krusty the Klown singing \"Break on Through\" (\"I Love Lisa\", Season 4); Otto Mann telling Homer that \"me and the admiral do not get along\" (a reference to Morrison and his estranged father, Rear Admiral George Stephen Morrison (\"The Otto Show\", Season 3)); mention of Morrison\\'s grave (\"The Devil Wears Nada\", Season 21). Another reference, \"I am the lizard queen!\" Is bellowed by Lisa Simpson at the end of her encounter with psychedelic theme-ride river water at Duff Gardens (\"Selma\\'s Choice\", Season 4). In another episode, Morrison himself was visually depicted in the form of a hallucination had by Homer Simpson when he was forming a rock band (\"Covercraft\", Season 26)[citation needed]'"
      ]
     },
     "execution_count": 4,
     "metadata": {},
     "output_type": "execute_result"
    }
   ],
   "source": [
    "url = \"https://en.wikipedia.org/wiki/Jim_Morrison\"\n",
    "get_musician_text(url)"
   ]
  },
  {
   "cell_type": "markdown",
   "metadata": {},
   "source": [
    "<p><span style=\"color:blue\">get_all_musicians</span>: A function that, given a list of genres, returns a list containing the names of the musicians and the urls for their wikipedia pages associated with that list of genres\n",
    "<p>The function should return a list of (name,url) pairs for all the musicians in the list of genres\n",
    "<p>You need to:\n",
    "<ol>\n",
    "<li>iterate through the list of genres\n",
    "<li>initialize a list \"all_musicians\"\n",
    "<li>construct a url for the list of musicians (I've done these first three steps for you)\n",
    "<li>call get_musicians for that url\n",
    "<li>extend all_musicians by what get_musicians returns"
   ]
  },
  {
   "cell_type": "code",
   "execution_count": 24,
   "metadata": {
    "collapsed": true
   },
   "outputs": [],
   "source": [
    "def get_all_musicians(genre_list):\n",
    "    all_musicians = list()\n",
    "    for genre in genre_list:\n",
    "        url = 'https://en.wikipedia.org/wiki/List_of_' + genre\n",
    "        all_musicians.extend(get_musicians(url))        \n",
    "        #Your code here\n",
    "    return all_musicians"
   ]
  },
  {
   "cell_type": "markdown",
   "metadata": {},
   "source": [
    "<h4>Example of how to use get_all_musicians</h4>"
   ]
  },
  {
   "cell_type": "code",
   "execution_count": 25,
   "metadata": {},
   "outputs": [
    {
     "name": "stdout",
     "output_type": "stream",
     "text": [
      "647\n"
     ]
    }
   ],
   "source": [
    "genre_list = ['bluegrass_musicians#G','British_blues_musicians','country_blues_musicians','emo_artists']\n",
    "all_musicians = get_all_musicians(genre_list)\n",
    "print(len(all_musicians))"
   ]
  },
  {
   "cell_type": "markdown",
   "metadata": {},
   "source": [
    "<p><span style=\"color:blue\">get_all_musician_docs</span>: A function that, given the list of (musician,url) pairs, returns two lists, a list of musicians and a parallel (same size) list of documents. \n",
    "\n",
    "<p>You need to:\n",
    "\n",
    "<ol>\n",
    "<li>initialize the two lists\n",
    "\n",
    "<li>iterate through the all_musicians list\n",
    "<li>extract the name and the url of the musician\n",
    "<li>get the text using the get_musician_text() function\n",
    "<li>if the function returns None, ignore it and move to the next musician\n",
    "<li>otherwise, append the name ot the musician_names list and the text to the musician_texts list\n",
    "<li>return musician_names and musician_texts\n"
   ]
  },
  {
   "cell_type": "code",
   "execution_count": 26,
   "metadata": {
    "collapsed": true
   },
   "outputs": [],
   "source": [
    "def get_all_musician_docs(all_musicians):\n",
    "    musician_names = list()\n",
    "    musician_texts = list()\n",
    "    for musician in all_musicians:\n",
    "        name = musician[0]\n",
    "        url = musician[1]\n",
    "        if get_musician_text(url):\n",
    "            musician_names.append(name)\n",
    "            musician_texts.append(get_musician_text(url))\n",
    "        #Your code here\n",
    "    return musician_names,musician_texts\n",
    "        "
   ]
  },
  {
   "cell_type": "markdown",
   "metadata": {},
   "source": [
    "<h4>Example of how to use get_all_musician_docs</h4>"
   ]
  },
  {
   "cell_type": "code",
   "execution_count": 27,
   "metadata": {
    "collapsed": true
   },
   "outputs": [],
   "source": [
    "reference_names,reference_docs = get_all_musician_docs(all_musicians)"
   ]
  },
  {
   "cell_type": "code",
   "execution_count": 28,
   "metadata": {},
   "outputs": [
    {
     "name": "stdout",
     "output_type": "stream",
     "text": [
      "644\n"
     ]
    }
   ],
   "source": [
    "print(len(reference_names))"
   ]
  },
  {
   "cell_type": "markdown",
   "metadata": {},
   "source": [
    "<h3>Set up the LSI model</h3>\n",
    "<li>reference_docs is the list of documents\n",
    "<li>construct texts, dictionary, and corpus (see class iPython notebook)\n",
    "<li>construct an LSI model. Use 5 topics initially but you should play around with this number"
   ]
  },
  {
   "cell_type": "code",
   "execution_count": 45,
   "metadata": {},
   "outputs": [],
   "source": [
    "#Code for LSI model goes here\n",
    "from gensim.parsing.preprocessing import STOPWORDS\n",
    "from gensim.similarities.docsim import Similarity\n",
    "from gensim import corpora, models, similarities\n",
    "\n",
    "texts = list()\n",
    "\n",
    "texts = [[word for word in document.lower().split() if word not in STOPWORDS and word.isalnum()] for document in reference_docs]\n",
    "dictionary = corpora.Dictionary(texts)\n",
    "corpus = [dictionary.doc2bow(text) for text in texts]\n",
    "\n",
    "lsi = models.LsiModel(corpus, id2word=dictionary, num_topics=5)"
   ]
  },
  {
   "cell_type": "markdown",
   "metadata": {},
   "source": [
    "<h3>Construct the \"musician\" data set</h3>\n",
    "<h4>Example</h4>"
   ]
  },
  {
   "cell_type": "code",
   "execution_count": 46,
   "metadata": {},
   "outputs": [],
   "source": [
    "musician_genre_list = ['acid_rock_artists']\n",
    "all_musicians = get_all_musicians(musician_genre_list)\n",
    "musician_names,musician_docs = get_all_musician_docs(all_musicians)"
   ]
  },
  {
   "cell_type": "markdown",
   "metadata": {},
   "source": [
    "<h4>find the most similar musicians for each new musician from our reference data set</h4>"
   ]
  },
  {
   "cell_type": "code",
   "execution_count": 47,
   "metadata": {},
   "outputs": [
    {
     "data": {
      "text/plain": [
       "[('The 13th Floor Elevators', 'Pete Fidler'),\n",
       " ('Alice Cooper', 'Kiros'),\n",
       " ('The Amboy Dukes', 'Garden Variety'),\n",
       " ('Amon Düül', 'Joan of Arc'),\n",
       " ('Big Brother and the Holding Company', 'Free'),\n",
       " ('Black Sabbath', 'The Anniversary'),\n",
       " ('Blue Cheer', 'Steamhammer'),\n",
       " ('Blues Magoos', 'Hattie Hart'),\n",
       " ('The Charlatans', 'Ida'),\n",
       " ('Count Five', 'Tommy Ramone'),\n",
       " ('Country Joe and the Fish', 'Rhonda Vincent'),\n",
       " ('Coven', 'Rites of Spring'),\n",
       " ('Cream', 'Cream'),\n",
       " ('Deep Purple', 'The Anniversary'),\n",
       " ('The Deviants', 'Bernie Marsden'),\n",
       " ('The Doors', 'Joan of Arc'),\n",
       " ('The Electric Prunes', 'Bluesology'),\n",
       " ('The Fugs', 'Rites of Spring'),\n",
       " ('Grateful Dead', 'Tommy Ramone'),\n",
       " ('The Great Society', 'Buckethead'),\n",
       " ('The Groundhogs', 'The Groundhogs'),\n",
       " ('Hawkwind', 'Wishbone Ash'),\n",
       " ('Iron Butterfly', 'Joan of Arc'),\n",
       " ('Jefferson Airplane', 'Bluesology'),\n",
       " ('The Jimi Hendrix Experience', 'The Jimi Hendrix Experience'),\n",
       " ('Janis Joplin', 'John Herald'),\n",
       " ('JPT Scare Band', 'Medicine Head'),\n",
       " ('Love', 'Them'),\n",
       " ('MC5', 'Sara Watkins'),\n",
       " ('Moby Grape', 'The Wedding'),\n",
       " ('The Music Machine', 'Earl Scruggs'),\n",
       " ('Quicksilver Messenger Service', 'Sara Watkins'),\n",
       " ('Santana', 'Nude'),\n",
       " ('The Seeds', 'The Jimi Hendrix Experience'),\n",
       " ('Grace Slick', 'Vassar Clements'),\n",
       " ('Steppenwolf', 'Pillar'),\n",
       " ('Tully', 'Jug band'),\n",
       " ('Vanilla Fudge', 'American Football'),\n",
       " ('Wooden Shjips', 'Jug band'),\n",
       " ('Acid rock', 'Mance Lipscomb'),\n",
       " ('Knowles, Christopher', 'Hammie Nixon'),\n",
       " ('McIntyre, Iain', 'Vassar Clements'),\n",
       " ('Prown, Pete', 'Hokum'),\n",
       " ('Wien, Gary', 'Merlefest'),\n",
       " ('Folk', 'Work songs'),\n",
       " ('Funk', 'Rhythm and blues'),\n",
       " ('Hip hop', 'Emo hip hop'),\n",
       " ('Pop', 'Gillian Welch'),\n",
       " ('Rock', 'Washington, D.C.'),\n",
       " ('Soul', 'Washington, D.C.'),\n",
       " ('Trance', 'High Sierra Music Festival'),\n",
       " ('Dub', 'Gillian Welch'),\n",
       " ('Psybient', 'Soul blues'),\n",
       " ('Suomisaundi', 'Ralph Stanley'),\n",
       " ('Breaks', 'Old-time music'),\n",
       " ('House', 'David Grier'),\n",
       " ('Jazz', 'Jazz'),\n",
       " ('Punk', 'Washington, D.C.'),\n",
       " ('Rock', 'Mance Lipscomb'),\n",
       " ('Techno', 'Piano'),\n",
       " ('Trance', 'Arthur Lee \"Red\" Smiley'),\n",
       " ('Chillwave', 'Doug Dillard'),\n",
       " ('Dream-beat', 'Work songs'),\n",
       " ('Goa trance', 'Old-time music'),\n",
       " ('Italian occult psychedelia', 'International Bluegrass Music Museum'),\n",
       " ('Hypnagogic pop', 'Merlefest'),\n",
       " ('Neo-psychedelia', 'Washington, D.C.'),\n",
       " ('Dream pop', 'Benny Martin'),\n",
       " ('Shoegazing', 'Long Island'),\n",
       " ('Paisley Underground', 'Dan Crary'),\n",
       " ('Space rock', 'Dear Ephesus'),\n",
       " ('Stoner rock', 'John Herald'),\n",
       " ('Trip hop', 'Dan Tyminski'),\n",
       " ('Beat Generation', 'Shawn Lane'),\n",
       " ('Cannabis culture', 'Musical improvisation'),\n",
       " ('Counterculture of the 1960s', 'Don Reno'),\n",
       " ('Deadhead', 'Chris Eldridge'),\n",
       " ('Freak scene', 'Long Island'),\n",
       " ('Grebo', 'Coon songs'),\n",
       " ('Hippies', 'Screamo'),\n",
       " ('Jam band', 'Drive Like Jehu'),\n",
       " ('New Age travellers', 'Long Island'),\n",
       " ('Rave culture', 'High Sierra Music Festival'),\n",
       " ('San Francisco Sound', 'Ted Bogan'),\n",
       " ('Second Summer of Love', 'Bill Monroe'),\n",
       " ('Summer of Love', 'Ann Marie Calhoun'),\n",
       " ('UK underground', 'Andy Statman'),\n",
       " ('Palm Desert Scene', 'Tony Furtado'),\n",
       " ('History of LSD', 'Rob Ickes'),\n",
       " ('New Age movement', 'Brennan Gilmore'),\n",
       " ('Progressive music', 'Work songs'),\n",
       " ('Psychedelia', 'Call and response'),\n",
       " ('Psychedelic art', 'Tony Furtado'),\n",
       " ('LSD art', 'Emo hip hop'),\n",
       " ('Psychedelic drug', 'Banjo'),\n",
       " ('Psychedelic era', 'Dobro'),\n",
       " ('Psychedelic experience', 'Dobro'),\n",
       " ('Psychedelic literature', 'Ragtime'),\n",
       " ('Sitar in popular music', 'Rob Ickes')]"
      ]
     },
     "execution_count": 47,
     "metadata": {},
     "output_type": "execute_result"
    }
   ],
   "source": [
    "table_data = list()\n",
    "for index,musician in enumerate(musician_docs):\n",
    "    \n",
    "    #Your similarity code here. Use the in-class notebook as a reference\n",
    "    vec_bow = dictionary.doc2bow(musician.lower().split())\n",
    "    vec_lsi = lsi[vec_bow]\n",
    "    index1 = similarities.MatrixSimilarity(lsi[corpus])\n",
    "    sims = index1[vec_lsi]\n",
    "    \n",
    "    sims = sorted(enumerate(sims), key=lambda item: -item[1])\n",
    "    \n",
    "    most_similar_musician = sims[0][0]\n",
    "    table_data.append((musician_names[index],reference_names[most_similar_musician]))\n",
    "\n",
    "#Write code to print table_data after the for loop ends\n",
    "table_data "
   ]
  },
  {
   "cell_type": "code",
   "execution_count": 48,
   "metadata": {},
   "outputs": [
    {
     "data": {
      "text/plain": [
       "[('The 13th Floor Elevators', 'Tommy Ramone'),\n",
       " ('Alice Cooper', 'Anberlin'),\n",
       " ('The Amboy Dukes', 'Garden Variety'),\n",
       " ('Amon Düül', 'Steamhammer'),\n",
       " ('Big Brother and the Holding Company', 'Free'),\n",
       " ('Black Sabbath', 'Jawbreaker'),\n",
       " ('Blue Cheer', 'Steamhammer'),\n",
       " ('Blues Magoos', 'Hattie Hart'),\n",
       " ('The Charlatans', 'Fragile Rock'),\n",
       " ('Count Five', 'Micky Moody'),\n",
       " ('Country Joe and the Fish', 'Chris Hillman'),\n",
       " ('Coven', 'Free'),\n",
       " ('Cream', 'Cream'),\n",
       " ('Deep Purple', 'Whitesnake'),\n",
       " ('The Deviants', 'Jawbreaker'),\n",
       " ('The Doors', 'Pillar'),\n",
       " ('The Electric Prunes', 'Tommy Ramone'),\n",
       " ('The Fugs', 'Joan of Arc'),\n",
       " ('Grateful Dead', 'Tommy Ramone'),\n",
       " ('The Great Society', 'Whitesnake'),\n",
       " ('The Groundhogs', 'The Groundhogs'),\n",
       " ('Hawkwind', 'Braid'),\n",
       " ('Iron Butterfly', 'Jawbreaker'),\n",
       " ('Jefferson Airplane', 'Chris Rea'),\n",
       " ('The Jimi Hendrix Experience', 'The Jimi Hendrix Experience'),\n",
       " ('Janis Joplin', 'The Animals'),\n",
       " ('JPT Scare Band', 'Moss Icon'),\n",
       " ('Love', 'Free'),\n",
       " ('MC5', 'Free'),\n",
       " ('Moby Grape', 'Marcus Mumford'),\n",
       " ('The Music Machine', 'Ruby Jane Smith'),\n",
       " ('Quicksilver Messenger Service', 'Micky Moody'),\n",
       " ('Santana', 'Nude'),\n",
       " ('The Seeds', 'Foghat'),\n",
       " ('Grace Slick', 'Jessie Baker'),\n",
       " ('Steppenwolf', 'Whitesnake'),\n",
       " ('Tully', 'Marcus Mumford'),\n",
       " ('Vanilla Fudge', 'Wishbone Ash'),\n",
       " ('Wooden Shjips', 'Fragile Rock'),\n",
       " ('Acid rock', 'Rock and roll'),\n",
       " ('Knowles, Christopher', 'Hugh Laurie'),\n",
       " ('McIntyre, Iain', 'Alison Brown'),\n",
       " ('Prown, Pete', 'David Grier'),\n",
       " ('Wien, Gary', 'AllMusic'),\n",
       " ('Folk', 'Laurie Lewis'),\n",
       " ('Funk', 'Ragtime'),\n",
       " ('Hip hop', 'Emo hip hop'),\n",
       " ('Pop', 'Chris Hillman'),\n",
       " ('Rock', 'Washington, D.C.'),\n",
       " ('Soul', 'Ted Bogan'),\n",
       " ('Trance', 'Call and response'),\n",
       " ('Dub', 'Jim Lauderdale'),\n",
       " ('Psybient', 'Jazz'),\n",
       " ('Suomisaundi', 'Ralph Stanley'),\n",
       " ('Breaks', 'Emo hip hop'),\n",
       " ('House', 'Long Island'),\n",
       " ('Jazz', 'Jazz'),\n",
       " ('Punk', 'Washington, D.C.'),\n",
       " ('Rock', 'Rock and roll'),\n",
       " ('Techno', 'Piano'),\n",
       " ('Trance', 'DeFord Bailey'),\n",
       " ('Chillwave', 'Kenny Kosek'),\n",
       " ('Dream-beat', 'Washington, D.C.'),\n",
       " ('Goa trance', 'AllMusic'),\n",
       " ('Italian occult psychedelia', 'American folk music'),\n",
       " ('Hypnagogic pop', 'Emo hip hop'),\n",
       " ('Neo-psychedelia', 'Washington, D.C.'),\n",
       " ('Dream pop', 'John Hartford'),\n",
       " ('Shoegazing', 'Long Island'),\n",
       " ('Paisley Underground', 'Noah Lewis'),\n",
       " ('Space rock', 'Dr. Feelgood'),\n",
       " ('Stoner rock', 'Dr. Feelgood'),\n",
       " ('Trip hop', 'Marcus Mumford'),\n",
       " ('Beat Generation', 'Adia Victoria'),\n",
       " ('Cannabis culture', 'Banjo'),\n",
       " ('Counterculture of the 1960s', 'Ragtime'),\n",
       " ('Deadhead', 'Fragile Rock'),\n",
       " ('Freak scene', 'Mississippi Sheiks'),\n",
       " ('Grebo', 'Screamo'),\n",
       " ('Hippies', 'Washington, D.C.'),\n",
       " ('Jam band', 'Dear Ephesus'),\n",
       " ('New Age travellers', 'Andy Statman'),\n",
       " ('Rave culture', 'Emo hip hop'),\n",
       " ('San Francisco Sound', 'Washington, D.C.'),\n",
       " ('Second Summer of Love', 'Call and response'),\n",
       " ('Summer of Love', 'Eric Weissberg'),\n",
       " ('UK underground', 'Keith Relf'),\n",
       " ('Palm Desert Scene', 'Hokum'),\n",
       " ('History of LSD', 'Hugh Laurie'),\n",
       " ('New Age movement', 'New Jersey'),\n",
       " ('Progressive music', 'AllMusic'),\n",
       " ('Psychedelia', 'Call and response'),\n",
       " ('Psychedelic art', 'Wesley Wilson'),\n",
       " ('LSD art', 'Russ Barenberg'),\n",
       " ('Psychedelic drug', 'Banjo'),\n",
       " ('Psychedelic era', 'Wesley Wilson'),\n",
       " ('Psychedelic experience', 'Harmonica'),\n",
       " ('Psychedelic literature', 'Ragtime'),\n",
       " ('Sitar in popular music', 'Noah Lewis')]"
      ]
     },
     "execution_count": 48,
     "metadata": {},
     "output_type": "execute_result"
    }
   ],
   "source": [
    "# LSI model for num_topics = 10\n",
    "lsi = models.LsiModel(corpus, id2word=dictionary, num_topics=10)\n",
    "table_data = list()\n",
    "for index,musician in enumerate(musician_docs):\n",
    "    \n",
    "    #Your similarity code here. Use the in-class notebook as a reference\n",
    "    vec_bow = dictionary.doc2bow(musician.lower().split())\n",
    "    vec_lsi = lsi[vec_bow]\n",
    "    index1 = similarities.MatrixSimilarity(lsi[corpus])\n",
    "    sims = index1[vec_lsi]\n",
    "    \n",
    "    sims = sorted(enumerate(sims), key=lambda item: -item[1])\n",
    "    \n",
    "    most_similar_musician = sims[0][0]\n",
    "    table_data.append((musician_names[index],reference_names[most_similar_musician]))\n",
    "\n",
    "#Write code to print table_data after the for loop ends\n",
    "table_data"
   ]
  },
  {
   "cell_type": "code",
   "execution_count": 44,
   "metadata": {},
   "outputs": [
    {
     "data": {
      "text/plain": [
       "[('The 13th Floor Elevators', 'Fragile Rock'),\n",
       " ('Alice Cooper', 'The Van Pelt'),\n",
       " ('The Amboy Dukes', 'Garden Variety'),\n",
       " ('Amon Düül', 'Jeff Beck Group'),\n",
       " ('Big Brother and the Holding Company', 'Joan of Arc'),\n",
       " ('Black Sabbath', 'Jawbreaker'),\n",
       " ('Blue Cheer', 'Steamhammer'),\n",
       " ('Blues Magoos', 'Hattie Hart'),\n",
       " ('The Charlatans', 'Fragile Rock'),\n",
       " ('Count Five', 'Micky Moody'),\n",
       " ('Country Joe and the Fish', 'Chris Hillman'),\n",
       " ('Coven', 'Pillar'),\n",
       " ('Cream', 'Cream'),\n",
       " ('Deep Purple', 'Jawbreaker'),\n",
       " ('The Deviants', 'Wishbone Ash'),\n",
       " ('The Doors', 'Joan of Arc'),\n",
       " ('The Electric Prunes', 'Micky Moody'),\n",
       " ('The Fugs', 'Jawbreaker'),\n",
       " ('Grateful Dead', 'Garden Variety'),\n",
       " ('The Great Society', 'Jawbreaker'),\n",
       " ('The Groundhogs', 'The Groundhogs'),\n",
       " ('Hawkwind', 'At the Drive-In'),\n",
       " ('Iron Butterfly', 'Steamhammer'),\n",
       " ('Jefferson Airplane', 'Free'),\n",
       " ('The Jimi Hendrix Experience', 'The Jimi Hendrix Experience'),\n",
       " ('Janis Joplin', 'The Animals'),\n",
       " ('JPT Scare Band', 'Rites of Spring'),\n",
       " ('Love', 'Eric Burdon'),\n",
       " ('MC5', 'Tommy Ramone'),\n",
       " ('Moby Grape', 'Free'),\n",
       " ('The Music Machine', 'Coon songs'),\n",
       " ('Quicksilver Messenger Service', 'Dr. Feelgood'),\n",
       " ('Santana', 'Whitesnake'),\n",
       " ('The Seeds', 'Foghat'),\n",
       " ('Grace Slick', 'Mississippi Sheiks'),\n",
       " ('Steppenwolf', 'Juicy Lucy'),\n",
       " ('Tully', 'Bluesology'),\n",
       " ('Vanilla Fudge', 'Wishbone Ash'),\n",
       " ('Wooden Shjips', 'Thirty Seconds to Mars'),\n",
       " ('Acid rock', 'Rock and roll'),\n",
       " ('Knowles, Christopher', 'Junior Kimbrough'),\n",
       " ('McIntyre, Iain', 'Adia Victoria'),\n",
       " ('Prown, Pete', 'Dobro'),\n",
       " ('Wien, Gary', 'AllMusic'),\n",
       " ('Folk', 'Work songs'),\n",
       " ('Funk', 'Washington, D.C.'),\n",
       " ('Hip hop', 'Emo hip hop'),\n",
       " ('Pop', 'Ida'),\n",
       " ('Rock', 'Washington, D.C.'),\n",
       " ('Soul', 'Bob Brozman'),\n",
       " ('Trance', 'Call and response'),\n",
       " ('Dub', 'Ida'),\n",
       " ('Psybient', 'Jazz'),\n",
       " ('Suomisaundi', 'Coon songs'),\n",
       " ('Breaks', 'Emo hip hop'),\n",
       " ('House', \"Mark O'Connor\"),\n",
       " ('Jazz', 'Jazz'),\n",
       " ('Punk', 'Washington, D.C.'),\n",
       " ('Rock', 'Rock and roll'),\n",
       " ('Techno', 'Washtub bass'),\n",
       " ('Trance', 'DeFord Bailey'),\n",
       " ('Chillwave', 'Coon songs'),\n",
       " ('Dream-beat', 'Spirituals'),\n",
       " ('Goa trance', 'AllMusic'),\n",
       " ('Italian occult psychedelia', 'AllMusic'),\n",
       " ('Hypnagogic pop', 'Emo hip hop'),\n",
       " ('Neo-psychedelia', 'Washington, D.C.'),\n",
       " ('Dream pop', 'Emo hip hop'),\n",
       " ('Shoegazing', 'Long Island'),\n",
       " ('Paisley Underground', 'Micky Moody'),\n",
       " ('Space rock', 'Fire Party'),\n",
       " ('Stoner rock', 'Fire Party'),\n",
       " ('Trip hop', 'Ida'),\n",
       " ('Beat Generation', 'Adia Victoria'),\n",
       " ('Cannabis culture', 'Musical improvisation'),\n",
       " ('Counterculture of the 1960s', 'Washington, D.C.'),\n",
       " ('Deadhead', 'Bernie Leadon'),\n",
       " ('Freak scene', 'Adia Victoria'),\n",
       " ('Grebo', 'Emo hip hop'),\n",
       " ('Hippies', 'Washington, D.C.'),\n",
       " ('Jam band', 'Jug band'),\n",
       " ('New Age travellers', 'Andy Statman'),\n",
       " ('Rave culture', 'Call and response'),\n",
       " ('San Francisco Sound', 'Washington, D.C.'),\n",
       " ('Second Summer of Love', 'Call and response'),\n",
       " ('Summer of Love', 'Adia Victoria'),\n",
       " ('UK underground', 'Keith Relf'),\n",
       " ('Palm Desert Scene', 'Hokum'),\n",
       " ('History of LSD', 'Adia Victoria'),\n",
       " ('New Age movement', 'New Jersey'),\n",
       " ('Progressive music', 'AllMusic'),\n",
       " ('Psychedelia', 'Call and response'),\n",
       " ('Psychedelic art', 'Wesley Wilson'),\n",
       " ('LSD art', 'Boogie-woogie'),\n",
       " ('Psychedelic drug', 'Banjo'),\n",
       " ('Psychedelic era', 'Wesley Wilson'),\n",
       " ('Psychedelic experience', 'Harmonica'),\n",
       " ('Psychedelic literature', \"Mark O'Connor\"),\n",
       " ('Sitar in popular music', 'David Bromberg')]"
      ]
     },
     "execution_count": 44,
     "metadata": {},
     "output_type": "execute_result"
    }
   ],
   "source": [
    "# LSI model for num_topics = 15\n",
    "lsi = models.LsiModel(corpus, id2word=dictionary, num_topics=15)\n",
    "table_data = list()\n",
    "for index,musician in enumerate(musician_docs):\n",
    "    \n",
    "    #Your similarity code here. Use the in-class notebook as a reference\n",
    "    vec_bow = dictionary.doc2bow(musician.lower().split())\n",
    "    vec_lsi = lsi[vec_bow]\n",
    "    index1 = similarities.MatrixSimilarity(lsi[corpus])\n",
    "    sims = index1[vec_lsi]\n",
    "    \n",
    "    sims = sorted(enumerate(sims), key=lambda item: -item[1])\n",
    "    \n",
    "    most_similar_musician = sims[0][0]\n",
    "    table_data.append((musician_names[index],reference_names[most_similar_musician]))\n",
    "\n",
    "#Write code to print table_data after the for loop ends\n",
    "table_data "
   ]
  }
 ],
 "metadata": {
  "anaconda-cloud": {},
  "kernelspec": {
   "display_name": "Python 3",
   "language": "python",
   "name": "python3"
  },
  "language_info": {
   "codemirror_mode": {
    "name": "ipython",
    "version": 3
   },
   "file_extension": ".py",
   "mimetype": "text/x-python",
   "name": "python",
   "nbconvert_exporter": "python",
   "pygments_lexer": "ipython3",
   "version": "3.6.5"
  }
 },
 "nbformat": 4,
 "nbformat_minor": 2
}
