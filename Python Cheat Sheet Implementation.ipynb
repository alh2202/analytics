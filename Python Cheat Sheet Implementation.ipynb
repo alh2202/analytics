{
 "cells": [
  {
   "cell_type": "markdown",
   "metadata": {},
   "source": [
    "# From the Python 3 Cheat Sheet"
   ]
  },
  {
   "cell_type": "code",
   "execution_count": null,
   "metadata": {},
   "outputs": [],
   "source": [
    "#base types\n",
    "int can be positive or negative, but no decimal points\n",
    "float has decimals\n",
    "bool True False\n",
    "str is for String\n",
    "    \\n = escaped a new line\n",
    "    \\' = escaped"
   ]
  },
  {
   "cell_type": "code",
   "execution_count": 4,
   "metadata": {},
   "outputs": [
    {
     "name": "stdout",
     "output_type": "stream",
     "text": [
      "One\n",
      "Two\n",
      "I'm\n",
      "X\tY\tZ\n",
      "1\t2\t3\n"
     ]
    }
   ],
   "source": [
    "print(\"One\\nTwo\")\n",
    "#new line is added\n",
    "\n",
    "print(\"I\\'m\")\n",
    "#how to print an apostrophe\n",
    "\n",
    "print(\"\"\"X\\tY\\tZ\n",
    "1\\t2\\t3\"\"\")\n",
    "#\\t is a tab to move over the next entry\n",
    "\n"
   ]
  },
  {
   "cell_type": "code",
   "execution_count": null,
   "metadata": {},
   "outputs": [],
   "source": [
    "#identifiers\n",
    "\n",
    "lower and upper case are diff, thats kinda it"
   ]
  },
  {
   "cell_type": "code",
   "execution_count": null,
   "metadata": {},
   "outputs": [],
   "source": [
    "#variable assignment\n",
    "\n",
    "x,y,z=1,2,3\n",
    "#a way to concatenate assigning names"
   ]
  },
  {
   "cell_type": "code",
   "execution_count": null,
   "metadata": {},
   "outputs": [],
   "source": []
  }
 ],
 "metadata": {
  "kernelspec": {
   "display_name": "Python 3",
   "language": "python",
   "name": "python3"
  },
  "language_info": {
   "codemirror_mode": {
    "name": "ipython",
    "version": 3
   },
   "file_extension": ".py",
   "mimetype": "text/x-python",
   "name": "python",
   "nbconvert_exporter": "python",
   "pygments_lexer": "ipython3",
   "version": "3.6.5"
  }
 },
 "nbformat": 4,
 "nbformat_minor": 2
}
