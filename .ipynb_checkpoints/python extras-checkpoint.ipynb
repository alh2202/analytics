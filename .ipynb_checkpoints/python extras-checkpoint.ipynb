{
 "cells": [
  {
   "cell_type": "markdown",
   "metadata": {},
   "source": [
    "<h2>The unpacking operator explained</h2>\n",
    "The unpacking operator takes any iterable (list, tuple, dictionary keys), and returns the elements of that iterable separately. \n",
    "<p>\n",
    "If the iterable contains n elements, n objects will be returned\n"
   ]
  },
  {
   "cell_type": "code",
   "execution_count": null,
   "metadata": {},
   "outputs": [],
   "source": [
    "def foo(a,b,c):\n",
    "    return (a+b)/c\n",
    "\n",
    "x=[4,6,2]\n",
    "foo(x) #this doesn't work because foo expects three arguments"
   ]
  },
  {
   "cell_type": "code",
   "execution_count": null,
   "metadata": {},
   "outputs": [],
   "source": [
    "foo(*x) #this works because a=4, b = 6, c = 2"
   ]
  },
  {
   "cell_type": "code",
   "execution_count": null,
   "metadata": {},
   "outputs": [],
   "source": [
    "y = [1,2,3,4]\n",
    "foo(*y) #This doesn't work because foo expects 3 arguments, but 4 were given"
   ]
  },
  {
   "cell_type": "markdown",
   "metadata": {},
   "source": [
    "<h3>You can also use the ** operator on dictionaries</h3>\n",
    "<li>** is the \"mapping\" operator"
   ]
  },
  {
   "cell_type": "code",
   "execution_count": null,
   "metadata": {},
   "outputs": [],
   "source": [
    "x = {'a':1,'b':2,'c':3}\n",
    "foo(**x) #This extracts the values from the dictionary\n",
    "#foo(*x) #Would extract only the keys"
   ]
  },
  {
   "cell_type": "markdown",
   "metadata": {},
   "source": [
    "<h3>The * operator can be used in function definitions</h3>\n",
    "<li>When you want to write a function with an indeterminate number of arguments"
   ]
  },
  {
   "cell_type": "code",
   "execution_count": null,
   "metadata": {
    "collapsed": true
   },
   "outputs": [],
   "source": [
    "def foo(*x,y=max):\n",
    "    return y(*x)\n",
    "    "
   ]
  },
  {
   "cell_type": "code",
   "execution_count": null,
   "metadata": {},
   "outputs": [],
   "source": [
    "foo(1,2,3,4)"
   ]
  },
  {
   "cell_type": "code",
   "execution_count": null,
   "metadata": {},
   "outputs": [],
   "source": [
    "def product(*x):\n",
    "    r_value = 1\n",
    "    for n in x:\n",
    "        r_value*=n\n",
    "    return r_value\n",
    "product(1,2,3,4)"
   ]
  },
  {
   "cell_type": "code",
   "execution_count": null,
   "metadata": {},
   "outputs": [],
   "source": [
    "product(1,2,3,4,5,6,7)"
   ]
  },
  {
   "cell_type": "markdown",
   "metadata": {},
   "source": [
    "<h2>The dotproduct code explained</h2>"
   ]
  },
  {
   "cell_type": "code",
   "execution_count": null,
   "metadata": {},
   "outputs": [],
   "source": [
    "n=3\n",
    "x = [x**2 for x in range(n)]\n",
    "y = [x**3 for x in range(n)]\n",
    "ax = [x,y]\n",
    "ay = [list(i) for i in zip(*ax)]\n",
    "\n"
   ]
  },
  {
   "cell_type": "code",
   "execution_count": null,
   "metadata": {},
   "outputs": [],
   "source": [
    "ax"
   ]
  },
  {
   "cell_type": "code",
   "execution_count": null,
   "metadata": {},
   "outputs": [],
   "source": [
    "zip(*ax)\n",
    "#This takes ax and pairs values from each sublist\n",
    "#list(zip(*ax))"
   ]
  },
  {
   "cell_type": "code",
   "execution_count": null,
   "metadata": {},
   "outputs": [],
   "source": [
    "ay = [list(i) for i in zip(*ax)]\n",
    "\n",
    "# and\n",
    "\n",
    "ay = list(zip(*ax))\n",
    "\n",
    "#are equivalent. ay is the transpose of ax"
   ]
  },
  {
   "cell_type": "code",
   "execution_count": null,
   "metadata": {},
   "outputs": [],
   "source": [
    "#Note that ax is equivalent to [x,y]\n",
    "#Therefore\n",
    "\n",
    "zip([x,y]) #x is the first argument and y the second\n",
    "\n",
    "#and\n",
    "\n",
    "zip(*ax)\n",
    "\n",
    "#are equivalent"
   ]
  },
  {
   "cell_type": "code",
   "execution_count": null,
   "metadata": {},
   "outputs": [],
   "source": [
    "list(zip(*[x,y,x])) #Will zip elements of x, y and z into tuples of \n",
    "#3 elements each\n"
   ]
  },
  {
   "cell_type": "code",
   "execution_count": null,
   "metadata": {},
   "outputs": [],
   "source": [
    "[x,y,x]"
   ]
  },
  {
   "cell_type": "markdown",
   "metadata": {
    "collapsed": true
   },
   "source": [
    "<h3>The multiplication</h3>\n",
    "<li>We use list comprehension to describe the result\n",
    "<li>The result list contains:\n",
    "<ul>\n",
    "<li>the sum of (each element of a row in ax multiplied by each element of the corresponding column in y)\n",
    "</ul>\n",
    "<li>Or:\n",
    "<ul>\n",
    "<li>sum(a*b for a,b in zip(X_row,Y_col))\n"
   ]
  },
  {
   "cell_type": "code",
   "execution_count": null,
   "metadata": {},
   "outputs": [],
   "source": [
    "[[sum(a*b for a,b in zip(X_row,Y_col)) for Y_col in zip(*ay)] for X_row in ax]"
   ]
  },
  {
   "cell_type": "markdown",
   "metadata": {},
   "source": [
    "<h3>We need to specify where X_row and Y_col come from</h3>\n",
    "<li>X_row comes from ax\n",
    "<li>Y_row comes from a column of ay, so it needs to be extracted using zip\n",
    "<ul>\n",
    "<li>for Y_col in zip(*ay)"
   ]
  },
  {
   "cell_type": "markdown",
   "metadata": {},
   "source": [
    "<span style=\"color:green\">[sum(a*b for a,b in zip(X_row,Y_col)) for Y_col in zip(*ay)]</span> creates one row of the resulting matrix\n",
    "<p>\n",
    "<span style=\"color:blue\">[<span style=\"color:green\">row_creater</span> for X_row in ax] creates all the rows of the resulting matrix</span>"
   ]
  },
  {
   "cell_type": "markdown",
   "metadata": {},
   "source": [
    "<h1>Lambda functions</h1>\n",
    "<li>lambda functions are <span style=\"color:darkgreen\">anonymous, unnamed</span> functions"
   ]
  },
  {
   "cell_type": "code",
   "execution_count": null,
   "metadata": {},
   "outputs": [],
   "source": [
    "y = [('a',3),('b',1),('c',2)]\n",
    "sorted(y,key=lambda x:x[1])"
   ]
  },
  {
   "cell_type": "code",
   "execution_count": null,
   "metadata": {},
   "outputs": [],
   "source": [
    "y = [1,-1,3,-9,2,-5]\n",
    "sorted(y,key=lambda x:x**2)"
   ]
  },
  {
   "cell_type": "markdown",
   "metadata": {},
   "source": [
    "<li>lambda functions don't have names, i.e., they are not added to the namespace\n",
    "<li>they can contain only one expression\n",
    "<li>they do not have a return statement\n",
    "<li>they return the value of the expression"
   ]
  },
  {
   "cell_type": "markdown",
   "metadata": {},
   "source": [
    "<h3>Why lambda functions?</h3>\n",
    "<li>readability: the content of the function is at the place where it is used\n",
    "<li>lexical closure: lambda functions can remember values even when they are not in scope\n"
   ]
  },
  {
   "cell_type": "code",
   "execution_count": null,
   "metadata": {
    "collapsed": true
   },
   "outputs": [],
   "source": [
    "#lpower returns a function not a value\n",
    "def lpower(n):\n",
    "    return lambda x: x**n"
   ]
  },
  {
   "cell_type": "code",
   "execution_count": null,
   "metadata": {
    "collapsed": true
   },
   "outputs": [],
   "source": [
    "#npower returns a value not a function\n",
    "def npower(n):\n",
    "    return x**n"
   ]
  },
  {
   "cell_type": "code",
   "execution_count": null,
   "metadata": {},
   "outputs": [],
   "source": [
    "#I can't do\n",
    "npower(4)\n",
    "\n",
    "#because x is undefined"
   ]
  },
  {
   "cell_type": "code",
   "execution_count": null,
   "metadata": {},
   "outputs": [],
   "source": [
    "#But I can do\n",
    "lpower(4)\n",
    "\n",
    "#because that returns a function"
   ]
  },
  {
   "cell_type": "code",
   "execution_count": null,
   "metadata": {},
   "outputs": [],
   "source": [
    "#The function will remember the 4 and the 3\n",
    "power_4 = lpower(4)\n",
    "power_3 = lpower(3)"
   ]
  },
  {
   "cell_type": "code",
   "execution_count": null,
   "metadata": {},
   "outputs": [],
   "source": [
    "power_4(5)"
   ]
  },
  {
   "cell_type": "code",
   "execution_count": null,
   "metadata": {},
   "outputs": [],
   "source": [
    "power_3(5)"
   ]
  },
  {
   "cell_type": "code",
   "execution_count": null,
   "metadata": {},
   "outputs": [],
   "source": [
    "p = npower(3)"
   ]
  },
  {
   "cell_type": "markdown",
   "metadata": {},
   "source": [
    "Lambda functions are powerful but should be used carefully\n",
    "<p>\n",
    "Generally, when you want to expose the workings of a function (e.g., as a key in a sort function)\n",
    "<p>\n",
    "Or when you pass the function as an argument to another function (e.g., to the apply function in pandas"
   ]
  },
  {
   "cell_type": "code",
   "execution_count": null,
   "metadata": {},
   "outputs": [],
   "source": [
    "#map is a function that maps a function to an iterable\n",
    "x=list([1,2,3,4,5])\n",
    "list(map(lambda x: x**2,x))"
   ]
  },
  {
   "cell_type": "markdown",
   "metadata": {},
   "source": [
    "<h3>Multiple arguments to a lambda function</h3>"
   ]
  },
  {
   "cell_type": "code",
   "execution_count": null,
   "metadata": {},
   "outputs": [],
   "source": [
    "(lambda x,y: x*y)(5,6)"
   ]
  },
  {
   "cell_type": "markdown",
   "metadata": {},
   "source": [
    "<h3>Conditional expressions in a lambda function</h3>"
   ]
  },
  {
   "cell_type": "code",
   "execution_count": null,
   "metadata": {},
   "outputs": [],
   "source": [
    "(lambda x,y: x if x>y else y)(5,6)"
   ]
  },
  {
   "cell_type": "code",
   "execution_count": null,
   "metadata": {
    "collapsed": true
   },
   "outputs": [],
   "source": []
  }
 ],
 "metadata": {
  "kernelspec": {
   "display_name": "Python 3",
   "language": "python",
   "name": "python3"
  },
  "language_info": {
   "codemirror_mode": {
    "name": "ipython",
    "version": 3
   },
   "file_extension": ".py",
   "mimetype": "text/x-python",
   "name": "python",
   "nbconvert_exporter": "python",
   "pygments_lexer": "ipython3",
   "version": "3.6.5"
  }
 },
 "nbformat": 4,
 "nbformat_minor": 2
}
