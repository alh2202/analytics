{
 "cells": [
  {
   "cell_type": "markdown",
   "metadata": {},
   "source": [
    "<h1>Problem 1: Part 1</h1>"
   ]
  },
  {
   "cell_type": "code",
   "execution_count": 21,
   "metadata": {},
   "outputs": [],
   "source": [
    "#part 1\n",
    "def preceding(char):\n",
    "    if char == 'a':\n",
    "        char_number = ord('z')\n",
    "        coded_char = 'z'\n",
    "    elif char == 'A':\n",
    "        char_number == ord('Z')\n",
    "        coded_char = 'Z'\n",
    "    elif ord(char) >= 98 and ord(char) <= 122:\n",
    "        number = ord(char)\n",
    "        number = number -1 \n",
    "        coded_char = chr(number)\n",
    "    elif ord(char) >= 66 and ord(char) <= 90:\n",
    "        number = ord(char)\n",
    "        number = number -1 \n",
    "        coded_char = chr(number)\n",
    "    else:\n",
    "        coded_char = char\n",
    "    \n",
    "    return coded_char"
   ]
  },
  {
   "cell_type": "code",
   "execution_count": 22,
   "metadata": {},
   "outputs": [
    {
     "data": {
      "text/plain": [
       "'!'"
      ]
     },
     "execution_count": 22,
     "metadata": {},
     "output_type": "execute_result"
    }
   ],
   "source": [
    "preceding('!')"
   ]
  },
  {
   "cell_type": "code",
   "execution_count": 23,
   "metadata": {},
   "outputs": [
    {
     "name": "stdout",
     "output_type": "stream",
     "text": [
      "z\n",
      "a\n",
      "!\n"
     ]
    }
   ],
   "source": [
    "print(preceding('a')) #Should print z\n",
    "print(preceding('b')) #Should print a\n",
    "print(preceding('!')) #Should print !"
   ]
  },
  {
   "cell_type": "markdown",
   "metadata": {},
   "source": [
    "<h1>Problem 1: Part 2</h1>\n"
   ]
  },
  {
   "cell_type": "code",
   "execution_count": 51,
   "metadata": {},
   "outputs": [],
   "source": [
    "#part 2\n",
    "def succeeding(char):\n",
    "    if char == 'z':\n",
    "        char_number = ord('a')\n",
    "        coded_char = 'a'\n",
    "    elif char == 'Z':\n",
    "        char_number == ord('A')\n",
    "        coded_char = 'A'\n",
    "    elif ord(char) >= 97 and ord(char) <= 121:\n",
    "        number = ord(char)\n",
    "        number = number +1 \n",
    "        coded_char = chr(number)\n",
    "    elif ord(char) >= 65 and ord(char) <= 89:\n",
    "        number = ord(char)\n",
    "        number = number +1 \n",
    "        coded_char = chr(number)\n",
    "    else:\n",
    "        coded_char = char\n",
    "    \n",
    "    return coded_char    "
   ]
  },
  {
   "cell_type": "code",
   "execution_count": 52,
   "metadata": {},
   "outputs": [
    {
     "name": "stdout",
     "output_type": "stream",
     "text": [
      "a\n",
      "c\n",
      "!\n"
     ]
    }
   ],
   "source": [
    "print(succeeding('z')) #Should print a\n",
    "print(succeeding('b')) #Should print c\n",
    "print(succeeding('!')) #Should print !"
   ]
  },
  {
   "cell_type": "code",
   "execution_count": 53,
   "metadata": {},
   "outputs": [
    {
     "data": {
      "text/plain": [
       "'y'"
      ]
     },
     "execution_count": 53,
     "metadata": {},
     "output_type": "execute_result"
    }
   ],
   "source": [
    "y = 'Aly'\n",
    "y[2]"
   ]
  },
  {
   "cell_type": "markdown",
   "metadata": {},
   "source": [
    "<h1>Problem 1: Part 3</h1>"
   ]
  },
  {
   "cell_type": "code",
   "execution_count": 54,
   "metadata": {},
   "outputs": [
    {
     "data": {
      "text/plain": [
       "'Ij uifsf'"
      ]
     },
     "execution_count": 54,
     "metadata": {},
     "output_type": "execute_result"
    }
   ],
   "source": [
    "def message_coder(message_string,function):\n",
    "    coded_message = ''\n",
    "    \n",
    "    for i in range(0,len(message_string)):\n",
    "        c = function(message_string[i])\n",
    "        coded_message += c\n",
    "        \n",
    "    \n",
    "    \n",
    "    \n",
    "    return coded_message\n",
    "#test\n",
    "message_coder('Hi there', succeeding)"
   ]
  },
  {
   "cell_type": "markdown",
   "metadata": {},
   "source": [
    "<h3>Test <b>preceding</b> and <b>succeeding</b> and <b>message_coder</h3>"
   ]
  },
  {
   "cell_type": "code",
   "execution_count": 55,
   "metadata": {},
   "outputs": [
    {
     "name": "stdout",
     "output_type": "stream",
     "text": [
      "gdkkn cnkkx ydaqz!\n",
      "ifmmp epmmz afcsb!\n"
     ]
    }
   ],
   "source": [
    "print(message_coder('hello dolly zebra!',preceding))# prints 'gdkkn cnkkx ydaqz!’\n",
    "\n",
    "print(message_coder('hello dolly zebra!',succeeding))# prints 'ifmmp epmmz afcsb!’\n"
   ]
  },
  {
   "cell_type": "markdown",
   "metadata": {},
   "source": [
    "<h1>Problem 2: Word Count</h2>"
   ]
  },
  {
   "cell_type": "code",
   "execution_count": 96,
   "metadata": {},
   "outputs": [
    {
     "data": {
      "text/plain": [
       "Counter({'i': 3, 'saw': 1, 'britain': 0})"
      ]
     },
     "execution_count": 96,
     "metadata": {},
     "output_type": "execute_result"
    }
   ],
   "source": [
    "import re\n",
    "from collections import Counter\n",
    "\n",
    "def word_distribution(text_string,word_list=[]):\n",
    "    frequency_dict = dict()\n",
    "    \n",
    "    text_string = text_string.lower()\n",
    "    text_string = re.sub(r'[^\\w\\s]','',text_string)\n",
    "    text_list = text_string.split()\n",
    "    \n",
    "    frequency_dict = Counter()\n",
    "    \n",
    "    l_word_list= [] \n",
    "        \n",
    "    if len(word_list) == 0:\n",
    "        for i in text_list:\n",
    "            frequency_dict[i] += 1\n",
    "            \n",
    "    else:\n",
    "        for i in word_list:\n",
    "            l_word_list.append(i.lower())\n",
    "            \n",
    "        for i in text_list:\n",
    "            if i in l_word_list:\n",
    "                frequency_dict[i] += 1\n",
    "        for i in l_word_list:\n",
    "            if i in text_list:\n",
    "                pass\n",
    "            else: \n",
    "                frequency_dict[i]=0;\n",
    "    return frequency_dict\n",
    "\n",
    "word_distribution('I came, I saw, I conquered!', ['I','saw',\"Britain\"])"
   ]
  },
  {
   "cell_type": "markdown",
   "metadata": {},
   "source": [
    "<h3>Test <b>word_distribution</b></h3>\n"
   ]
  },
  {
   "cell_type": "code",
   "execution_count": 97,
   "metadata": {},
   "outputs": [
    {
     "name": "stdout",
     "output_type": "stream",
     "text": [
      "Counter({'hello': 2, 'you': 2, 'how': 1, 'are': 1, 'please': 1, 'say': 1, 'if': 1, 'dont': 1, 'love': 1, 'me': 1})\n"
     ]
    }
   ],
   "source": [
    "text_string = \"Hello. How are you? Please say hello if you don’t love me!\"\n",
    "print(word_distribution(text_string)) #should print {‘hello’: 2, ‘how’:1, ‘are’:1, ‘you’:2,’please’:1, “don’t”: 1 …}\n"
   ]
  },
  {
   "cell_type": "code",
   "execution_count": 98,
   "metadata": {},
   "outputs": [
    {
     "name": "stdout",
     "output_type": "stream",
     "text": [
      "Counter({'i': 3, 'saw': 1, 'britain': 0})\n"
     ]
    }
   ],
   "source": [
    "text_string = 'I came, I saw, I conquered!'\n",
    "print(word_distribution(text_string,word_list =['I','saw','Britain'])) # prints {‘i’:3,’saw’:1,’britain':0}\n"
   ]
  },
  {
   "cell_type": "code",
   "execution_count": null,
   "metadata": {
    "collapsed": true
   },
   "outputs": [],
   "source": []
  }
 ],
 "metadata": {
  "kernelspec": {
   "display_name": "Python 3",
   "language": "python",
   "name": "python3"
  },
  "language_info": {
   "codemirror_mode": {
    "name": "ipython",
    "version": 3
   },
   "file_extension": ".py",
   "mimetype": "text/x-python",
   "name": "python",
   "nbconvert_exporter": "python",
   "pygments_lexer": "ipython3",
   "version": "3.6.5"
  }
 },
 "nbformat": 4,
 "nbformat_minor": 2
}
