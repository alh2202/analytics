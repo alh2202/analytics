{
 "cells": [
  {
   "cell_type": "markdown",
   "metadata": {},
   "source": [
    "<h1>Problem 1: Factorials using numpy</h1>\n",
    "<li><b>prod</b> A numpy function that returns the product of all elements in an array\n",
    "<li><b>cumprod</b> A numpy function on an ndarray of size n that returns an array of size n where each element i is the product of all elements from 0 to i\n"
   ]
  },
  {
   "cell_type": "code",
   "execution_count": 1,
   "metadata": {},
   "outputs": [
    {
     "data": {
      "text/plain": [
       "720"
      ]
     },
     "execution_count": 1,
     "metadata": {},
     "output_type": "execute_result"
    }
   ],
   "source": [
    "\"\"\"\n",
    "Replace pass with the code that uses ndarray, prod and cumprod \n",
    "to calculate the factorial of n\n",
    "\n",
    "The function should take an integer as an argument and return an integer\n",
    "\n",
    "\"\"\"\n",
    "from numpy import prod\n",
    "def factorial(n):\n",
    "    #inclusive of 1, exclusive of n+1\n",
    "    \n",
    "    x = prod(range(1,n+1))\n",
    "    return x\n",
    "\n",
    "\n",
    "factorial(6)\n"
   ]
  },
  {
   "cell_type": "code",
   "execution_count": null,
   "metadata": {},
   "outputs": [],
   "source": []
  },
  {
   "cell_type": "code",
   "execution_count": 28,
   "metadata": {},
   "outputs": [
    {
     "data": {
      "text/plain": [
       "array([    1,     2,     6,    24,   120,   720,  5040, 40320])"
      ]
     },
     "execution_count": 28,
     "metadata": {},
     "output_type": "execute_result"
    }
   ],
   "source": [
    "\"\"\"\n",
    "Replace pass with the code that uses ndarray, prod and cumprod to \n",
    "calculate the factorials of all values from 1 to n\n",
    "\n",
    "The function should take an integer as an argument and return an ndarray\n",
    "of size n \n",
    "\n",
    "\"\"\"\n",
    "import numpy as np\n",
    "def all_factorials(n):\n",
    "    x = []\n",
    "    for i in range(1,n+1):\n",
    "        x.append(i)\n",
    "    ax = np.array(x)\n",
    "    ay = np.cumprod(ax, axis = 0)  \n",
    "    return ay\n",
    "all_factorials(8)"
   ]
  },
  {
   "cell_type": "code",
   "execution_count": 29,
   "metadata": {},
   "outputs": [
    {
     "data": {
      "text/plain": [
       "array([1, 2, 3])"
      ]
     },
     "execution_count": 29,
     "metadata": {},
     "output_type": "execute_result"
    }
   ],
   "source": [
    "#workspace\n",
    "x = [1,2,3]\n",
    "a = np.array(x)\n",
    "a"
   ]
  },
  {
   "cell_type": "markdown",
   "metadata": {},
   "source": [
    "<h1>Problem 2: Percent changes</h1>\n",
    "Write a function that constructs an ndarray from data in a file and \n",
    "returns a 1-period percent change on an ndarray after removing any nan values. Your function must make use of the following functions:\n",
    "<li>np.genfromtxt: https://docs.scipy.org/doc/numpy-1.13.0/reference/generated/numpy.genfromtxt.html\n",
    "<li>np.diff: https://docs.scipy.org/doc/numpy-1.13.0/reference/generated/numpy.diff.html\n",
    "<li>np.isnan: https://docs.scipy.org/doc/numpy-1.13.0/reference/generated/numpy.isnan.html\n",
    "\n",
    "<p>Test your function out using the attached apple.csv file. Your function can assume that the file structure is (date,price)\n",
    "\n",
    "<p>Note that percent change is defined as (p(t)-p(t-1))/p(t-1)\n",
    "\n",
    "<b>Example:</b><br>\n",
    "If the data array is: np.array([1,2,np.NaN,4,8,np.NAN])\n",
    "<br>\n",
    "The output array should be<br>\n",
    "array([ 1.,  1.,  1.])\n"
   ]
  },
  {
   "cell_type": "code",
   "execution_count": 2,
   "metadata": {},
   "outputs": [],
   "source": [
    "import numpy as np"
   ]
  },
  {
   "cell_type": "code",
   "execution_count": null,
   "metadata": {},
   "outputs": [],
   "source": []
  },
  {
   "cell_type": "code",
   "execution_count": 4,
   "metadata": {},
   "outputs": [
    {
     "data": {
      "text/plain": [
       "array([-0.00078596,  0.00977174, -0.01396236, ...,  0.00351193,\n",
       "        0.00673337,  0.00888852])"
      ]
     },
     "execution_count": 4,
     "metadata": {},
     "output_type": "execute_result"
    }
   ],
   "source": [
    "#workspace\n",
    "#(date, price)\n",
    "from numpy import genfromtxt\n",
    "def get_pct_changes(file_name):\n",
    "    df = np.genfromtxt(file_name,delimiter =\",\")\n",
    "    df = df[~np.isnan(df)]\n",
    "    difflist = np.diff(df)\n",
    "    \n",
    "    denomlist = []\n",
    "    for i in df[:-1]:\n",
    "        denomlist.append(i)\n",
    "            #print('this is working here')\n",
    "    total = difflist/denomlist\n",
    "    #np.diff\n",
    "    #np.isnan\n",
    "    return total\n",
    "get_pct_changes('aapl.csv')"
   ]
  },
  {
   "cell_type": "markdown",
   "metadata": {},
   "source": [
    "<h1>Problem 3: Pandas Grouping</h1>\n",
    "Write a program that reads timeseries pricing data from a file into a pandas dataframe and then groups the data as follows:\n",
    "<li>Adds a column, one-day percent change to the file \n",
    "<li>Groups the data into four categories:\n",
    "<ul>\n",
    "<li>\"High+\" if the percent change is greater than 2.5%\n",
    "<li>\"Low+\" if the percent change is positive and less than or equal to 2.5% \n",
    "<li>\"Low-\" if the percent change is negative but greater than or equal to -2.5%\n",
    "<li>\"High-\" if the percent change is less than -2.5%\n",
    "</ul>\n",
    "<li>Report the size and the mean of each of the groups\n",
    "\n"
   ]
  },
  {
   "cell_type": "code",
   "execution_count": 26,
   "metadata": {},
   "outputs": [
    {
     "name": "stdout",
     "output_type": "stream",
     "text": [
      "High Big: 51; High small: 613; Low Big: 44; Low Small: 551\n",
      "High Big: 0.04; High small: 0.01; Low Big: -0.03; Low Small: -0.01\n"
     ]
    }
   ],
   "source": [
    "datafile = \"aapl.csv\"\n",
    "import pandas as pd\n",
    "import numpy as np\n",
    "df = pd.read_csv('aapl.csv',na_values='null')\n",
    "percent_changes = [0]\n",
    "#df['price'].pct_change()\n",
    "\n",
    "#for i in df['one-day percent change']:\n",
    "for i in get_pct_changes(datafile):\n",
    "    percent_changes.append(i)\n",
    "df['one-day_percent_change'] = percent_changes\n",
    "               \n",
    "high_big =[]\n",
    "high_small = []\n",
    "low_big = []\n",
    "low_small = []\n",
    "\n",
    "for i in df['one-day_percent_change']:\n",
    "    if i > .025:\n",
    "        high_big.append(i)\n",
    "    elif i > 0:\n",
    "        high_small.append(i)\n",
    "    elif i > -.025:\n",
    "        low_small.append(i)\n",
    "    else:\n",
    "        low_big.append(i) \n",
    "a,b,c,d = len(high_big), len(high_small), len(low_big), len(low_small)\n",
    "#print(\"hi:\")\n",
    "#print(high_big)\n",
    "high_big = np.array(high_big)\n",
    "high_small = np.array(high_small)\n",
    "low_big = np.array(low_big)\n",
    "low_small = np.array(low_small)\n",
    "string_len = \"High Big: %i; High small: %i; Low Big: %i; Low Small: %i\" % (a, b, c, d)\n",
    "mean_len = \"High Big: %.2f; High small: %.2f; Low Big: %.2f; Low Small: %.2f\" % (\n",
    "    high_big.mean(), high_small.mean(), low_big.mean(), low_small.mean())\n",
    "\n",
    "print(\"%s\\n%s\" % (string_len, mean_len))"
   ]
  },
  {
   "cell_type": "code",
   "execution_count": null,
   "metadata": {},
   "outputs": [],
   "source": []
  },
  {
   "cell_type": "code",
   "execution_count": null,
   "metadata": {},
   "outputs": [],
   "source": []
  }
 ],
 "metadata": {
  "kernelspec": {
   "display_name": "Python 3",
   "language": "python",
   "name": "python3"
  },
  "language_info": {
   "codemirror_mode": {
    "name": "ipython",
    "version": 3
   },
   "file_extension": ".py",
   "mimetype": "text/x-python",
   "name": "python",
   "nbconvert_exporter": "python",
   "pygments_lexer": "ipython3",
   "version": "3.6.5"
  }
 },
 "nbformat": 4,
 "nbformat_minor": 2
}
