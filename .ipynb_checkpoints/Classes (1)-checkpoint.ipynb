{
 "cells": [
  {
   "cell_type": "markdown",
   "metadata": {},
   "source": [
    "<h1>Python Objects</h1>"
   ]
  },
  {
   "cell_type": "markdown",
   "metadata": {},
   "source": [
    "\n",
    "<li>Objects are data structures. They encapsulate (group together) data and behavior \n",
    "<li>Roughly speaking, they know \"stuff\" about themselves and know how to do \"stuff\" on themselves\n",
    "<li>Python objects are defined using the <b>class</b> keyword\n",
    "<li>Since the programmer can specify the content as well as the behavior of objects,\n",
    "<li>they are really programmer defined data types "
   ]
  },
  {
   "cell_type": "code",
   "execution_count": null,
   "metadata": {},
   "outputs": [],
   "source": [
    "class my_object(object):\n",
    "    pass\n",
    "\n",
    "x = my_object()\n",
    "print(x)\n",
    "\n",
    "#objects know something about themselves, java is objected oriented\n",
    "#python usually is not\n"
   ]
  },
  {
   "cell_type": "code",
   "execution_count": null,
   "metadata": {},
   "outputs": [],
   "source": [
    "class my_object(object):\n",
    "    def my_object_func(self,x):\n",
    "        return x*x\n",
    "y = my_object()\n",
    "y.my_object_func(5)"
   ]
  },
  {
   "cell_type": "markdown",
   "metadata": {},
   "source": [
    "<li><b>self</b>: The first argument in a method refers to the object itself\n",
    "<li>When an object definition changes, any values already defined will not change"
   ]
  },
  {
   "cell_type": "markdown",
   "metadata": {},
   "source": [
    "<h3>Special \"magic\" methods</h3>\n",
    "<li>Functions whose names are sandwiched between pairs of underscores are special\n",
    "<li>Python has specific interpretations for each of them"
   ]
  },
  {
   "cell_type": "code",
   "execution_count": null,
   "metadata": {
    "collapsed": true
   },
   "outputs": [],
   "source": [
    "class foo(object):\n",
    "    def __init__(self,value): #Initialize data members\n",
    "        self.value = value\n",
    "    \n",
    "    def __str__(self): #Provide an str representation for the object\n",
    "        return str(self.value)\n",
    "    \n",
    "    def __repr__(self): #Provide a REPL representation for the object\n",
    "        return \"Object of class: foo\" + str(self.value)\n",
    "    \n",
    "    def __add__(self,other): #Implement the (binary) + operator\n",
    "        return foo(self.value + other.value)\n",
    "    \n",
    "    def __lt__(self,other): #Implement the < operator\n",
    "        return self.value < other.value\n",
    "    \n",
    "    def is_even(self): #User defined method (no underscores)\n",
    "        return self.value%2 == 0"
   ]
  },
  {
   "cell_type": "code",
   "execution_count": null,
   "metadata": {},
   "outputs": [],
   "source": [
    "x = foo(10)\n",
    "y = foo(20)\n",
    "print(x)\n",
    "print(x+y)\n",
    "print(type(x+y))\n"
   ]
  },
  {
   "cell_type": "code",
   "execution_count": null,
   "metadata": {},
   "outputs": [],
   "source": [
    "x+y"
   ]
  },
  {
   "cell_type": "code",
   "execution_count": null,
   "metadata": {},
   "outputs": [],
   "source": [
    "x<y"
   ]
  },
  {
   "cell_type": "code",
   "execution_count": null,
   "metadata": {},
   "outputs": [],
   "source": [
    "x.is_even()"
   ]
  },
  {
   "cell_type": "code",
   "execution_count": null,
   "metadata": {},
   "outputs": [],
   "source": [
    "z=foo(5)\n",
    "sorted([x,y,z])"
   ]
  },
  {
   "cell_type": "markdown",
   "metadata": {},
   "source": [
    "<h2>Inheritance</h2>\n",
    "Objects inherit behavior"
   ]
  },
  {
   "cell_type": "markdown",
   "metadata": {},
   "source": [
    "Let's create a word object with the following properties:\n",
    "<ol>\n",
    "<li>The less than operator returns True if a word is shorter than the comparison word\n",
    "<li>In all other respects, a word behaves exactly like an str\n",
    "<li><b>Note</b>: Inheriting from a basic data type is a terrible idea!"
   ]
  },
  {
   "cell_type": "code",
   "execution_count": null,
   "metadata": {
    "collapsed": true
   },
   "outputs": [],
   "source": [
    "class word(str):  #word now is a specialized type of str\n",
    "    \"\"\"\n",
    "    def __init__(self,v): #init initializes an object of type word\n",
    "        self.value=v\n",
    "    \"\"\"\n",
    "    #We don't need the init method because str already knows how to initialize itself\n",
    "    \n",
    "    def __eq__(self,other): #define the == operator\n",
    "        if len(self) == len(other):\n",
    "            return True\n",
    "        else:\n",
    "            return False\n",
    "\n",
    "    def __lt__(self,other): #define the > operator\n",
    "        if len(self) < len(other):\n",
    "            return True\n",
    "        else:\n",
    "            return False \n",
    "        \n",
    "    def __gt__(self,other):\n",
    "        if len(self) > len(other):\n",
    "            return True\n",
    "        else:\n",
    "            return False"
   ]
  },
  {
   "cell_type": "code",
   "execution_count": null,
   "metadata": {},
   "outputs": [],
   "source": [
    "x=word('hello')\n",
    "y=word('fellow')\n",
    "x+y #Now this will work because word knows how to be a string!"
   ]
  },
  {
   "cell_type": "code",
   "execution_count": null,
   "metadata": {},
   "outputs": [],
   "source": [
    "x<y"
   ]
  },
  {
   "cell_type": "code",
   "execution_count": null,
   "metadata": {},
   "outputs": [],
   "source": [
    "x=\"hello\"\n",
    "y=\"fellow\"\n",
    "x<y"
   ]
  },
  {
   "cell_type": "code",
   "execution_count": null,
   "metadata": {
    "collapsed": true
   },
   "outputs": [],
   "source": []
  }
 ],
 "metadata": {
  "kernelspec": {
   "display_name": "Python 3",
   "language": "python",
   "name": "python3"
  },
  "language_info": {
   "codemirror_mode": {
    "name": "ipython",
    "version": 3
   },
   "file_extension": ".py",
   "mimetype": "text/x-python",
   "name": "python",
   "nbconvert_exporter": "python",
   "pygments_lexer": "ipython3",
   "version": "3.6.5"
  }
 },
 "nbformat": 4,
 "nbformat_minor": 1
}
