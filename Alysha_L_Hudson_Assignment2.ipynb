{
 "cells": [
  {
   "cell_type": "markdown",
   "metadata": {},
   "source": [
    "# Problem 1:\n",
    "The Mad Hatter likes to give tea parties and prefers that they be successful tea parties. A tea party is successful if there are at least 50 guests and at least 10 guests bring tea cakes but not more than 30 guests do so (too many tea cakes, and the guests will get sick. However, if the day of the month is 13, then the party is successful if the number of tea cakes is a non-zero multiple of 13.\n",
    "\n",
    "Write a function that returns True if the party is a success and False if it is not. \n",
    "\n",
    "def successful_tea_party(guests,cakes,date):\n",
    " \n",
    "successful_tea_party(70,20,2) should return True\n",
    "\n",
    "successful_tea_party(70,13,13) should return True\n",
    "\n",
    "successful_tea_party(70,22,13) should return False\n",
    "\n",
    "successful_tea_party(45,30,2) should return False\n"
   ]
  },
  {
   "cell_type": "code",
   "execution_count": 36,
   "metadata": {},
   "outputs": [
    {
     "data": {
      "text/plain": [
       "True"
      ]
     },
     "execution_count": 36,
     "metadata": {},
     "output_type": "execute_result"
    }
   ],
   "source": [
    "def successful_tea_party(guests,cakes,date):\n",
    "    success = False\n",
    "    if date != 13:\n",
    "        if guests >= 50 and cakes>=10 and cakes <= 30:\n",
    "            success = True\n",
    "    else:\n",
    "        if cakes%13 == 0:\n",
    "            success = True\n",
    "    return success\n",
    "\n",
    "successful_tea_party(70,20,2)"
   ]
  },
  {
   "cell_type": "code",
   "execution_count": 33,
   "metadata": {},
   "outputs": [
    {
     "data": {
      "text/plain": [
       "True"
      ]
     },
     "execution_count": 33,
     "metadata": {},
     "output_type": "execute_result"
    }
   ],
   "source": [
    "successful_tea_party(70,13,13)"
   ]
  },
  {
   "cell_type": "code",
   "execution_count": 34,
   "metadata": {},
   "outputs": [
    {
     "data": {
      "text/plain": [
       "False"
      ]
     },
     "execution_count": 34,
     "metadata": {},
     "output_type": "execute_result"
    }
   ],
   "source": [
    "successful_tea_party(70,22,13)\n"
   ]
  },
  {
   "cell_type": "code",
   "execution_count": 35,
   "metadata": {},
   "outputs": [
    {
     "data": {
      "text/plain": [
       "False"
      ]
     },
     "execution_count": 35,
     "metadata": {},
     "output_type": "execute_result"
    }
   ],
   "source": [
    "successful_tea_party(45,30,2)\n"
   ]
  },
  {
   "cell_type": "markdown",
   "metadata": {},
   "source": [
    "# Problem 2"
   ]
  },
  {
   "cell_type": "raw",
   "metadata": {},
   "source": [
    "Pig Latin is a language game in which words are altered according to certain rules. \n",
    "To make the pig latin form of an English word, the initial consonant sound is transposed to the end of the word, and an \"ay\" is affixed. Specifically, there are two rules: \n",
    "\n",
    "If a word begins with a vowel, append \"yay\" to the end of the word. \n",
    "If a word begins with a consonant, remove all the consonants from the beginning up to the first vowel and append them to the end of the word. Finally, append \"ay\" to the end of the word. The letter \"y\" counts as a consonant. If there are no vowels, simply append \"ay\" to the end of the word. \n",
    "Write a function pig_latin that takes a single String word, as an argument and returns a string containing the pig latin translation of the word. You can assume that the argument is always a lower-case string (no input verification is necessary). \n",
    "\n",
    "Hints: Use indexing and slicing. You might also want to use a string of vowels and then use the in operator to check if a letter is a vowel.\n",
    "\n",
    "vowels = 'aeiou'\n",
    "\n",
    "pig_latin(\"dog\") => ogday\n",
    "pig_latin(\"python\") => onpythay\n",
    "pig_latin(\"scratch\") => atchscray\n",
    "pig_latin(\"is\") => isyay\n",
    "pig_latin(\"apple\") => appleyay\n"
   ]
  },
  {
   "cell_type": "code",
   "execution_count": 135,
   "metadata": {},
   "outputs": [
    {
     "name": "stdout",
     "output_type": "stream",
     "text": [
      "Input a word or phrase to translate into pig latin!\n",
      "hi there\n"
     ]
    },
    {
     "data": {
      "text/plain": [
       "'ihay heretay '"
      ]
     },
     "execution_count": 135,
     "metadata": {},
     "output_type": "execute_result"
    }
   ],
   "source": [
    "#alh2202 problem 2\n",
    "#this code works for translating a word but also full sentences\n",
    "#I added the case that \"y\" is already at the end of the word\n",
    "#and that \"y\" is at the beginning of the word\n",
    "def pig_latin(word):\n",
    "    vowels = 'aeiou'\n",
    "    result = word.split()\n",
    "    pigWord = \"\"\n",
    "   \n",
    "    for j in range(0,len(result)):\n",
    "        last_letter = result[j][len(result[j])-1]\n",
    "        \n",
    "        #case that the first letter is a vowel and last letter is already\n",
    "        #a \"y\" there is no need to double count\n",
    "        #exampls of 'if' is \"aly\" = \"alyay\" NOT \"alyyay\" (unnecessary)\n",
    "        if result[j][0].lower() in vowels:\n",
    "            if last_letter is 'y':\n",
    "                pigWord = pigWord+str(result[j][0:])+'ay '\n",
    "                \n",
    "            else:\n",
    "                pigWord = pigWord+str(result[j][0:])+'yay '\n",
    "                \n",
    "        else:\n",
    "            pigWord = pigWord+str(result[j][1:])+str(result[j][0])+'ay '\n",
    "    return pigWord    \n",
    "    \n",
    "    \n",
    "english = input(\"Input a word or phrase to translate into pig latin!\\n\") \n",
    "pig_latin(english)"
   ]
  },
  {
   "cell_type": "code",
   "execution_count": null,
   "metadata": {},
   "outputs": [],
   "source": []
  }
 ],
 "metadata": {
  "kernelspec": {
   "display_name": "Python 3",
   "language": "python",
   "name": "python3"
  },
  "language_info": {
   "codemirror_mode": {
    "name": "ipython",
    "version": 3
   },
   "file_extension": ".py",
   "mimetype": "text/x-python",
   "name": "python",
   "nbconvert_exporter": "python",
   "pygments_lexer": "ipython3",
   "version": "3.6.5"
  }
 },
 "nbformat": 4,
 "nbformat_minor": 2
}
