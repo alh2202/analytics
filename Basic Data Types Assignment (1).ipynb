{
 "cells": [
  {
   "cell_type": "markdown",
   "metadata": {},
   "source": [
    "<h2>Problem 1: Simple string manipulation</h2>"
   ]
  },
  {
   "cell_type": "markdown",
   "metadata": {},
   "source": [
    "Equity data providers often add exchange information to a ticker symbol when reporting pricing or other data (primarily to resolve cross-exchange ambiguities). Reuters uses a coding scheme known as Reuters Instrument Code (RIC) where exchange information is added to the ticker following a dot at the end of the ticker symbol.\n",
    "\n",
    "For example, the RIC IBM.N indicates that a data item corresponds to IBM on the NYSE, IBM.L indicates that a data item corresponds to IBM on the London Stock Exchange, VOD.OQ for Vodafone on the NASDAQ stock exchange, etc.\n",
    "\n",
    "Write a program that takes as input a Reuters RIC and separates out the ticker and the exchange."
   ]
  },
  {
   "cell_type": "code",
   "execution_count": 41,
   "metadata": {},
   "outputs": [
    {
     "name": "stdout",
     "output_type": "stream",
     "text": [
      "Welcome to my first program!\n",
      "Please Enter a Reuters RIC Symbol: GOOG.NYSE\n",
      "The traded exchange for GOOG is NYSE\n"
     ]
    }
   ],
   "source": [
    "#alh2202\n",
    "#Shift enter runs the code\n",
    "print(\"Welcome to my first program!\")\n",
    "RIC = input(\"Please Enter a Reuters RIC Symbol: \")\n",
    "x = RIC.find(\".\")\n",
    "y = len(RIC)\n",
    "\n",
    "stock_ticker = RIC[0:x]\n",
    "stock_exchange = RIC[x+1:y]\n",
    "\n",
    "print(\"The traded exchange for\", stock_ticker, \"is\", stock_exchange)\n",
    "\n"
   ]
  },
  {
   "cell_type": "markdown",
   "metadata": {},
   "source": [
    "<h3>Test your code with the following test examples</h3>\n",
    "\n",
    "<h4>Example 1</h4>\n",
    "Please enter a Reuters RIC symbol: VOD.OQ\n",
    "<br>\n",
    "The traded exchange for VOD is OQ\n",
    "<p>\n",
    "<h4>Example 2</h4>\n",
    "Please enter a Reuters RIC symbol: IBM.L\n",
    "<br>\n",
    "The traded exchange for IBM is L\n",
    "<h4>Example 3</h4>\n",
    "Please enter a Reuters RIC symbol: GOOG.OQ\n",
    "<br>\n",
    "The traded exchange for GOOG is OQ"
   ]
  },
  {
   "cell_type": "markdown",
   "metadata": {},
   "source": [
    "<h2>Problem 2: Simple Arithmetic and string formatting</h2>\n",
    "Write a program that converts an amount given in a foreign currency into USD. Your program should input the foreign currency symbol, the amount in foreign currency being converted, and the exchange rate to USD. Your program should print out the equivalent amount in USD (including the $ symbol). \n",
    "\n",
    "<b>You will need to research string formatting on your own!</b>\n",
    "\n",
    "Example:\n",
    "\n",
    "Please enter the foreign currency symbol: EUR<br>\n",
    "Please enter the amount in EUR: 1.37<br>\n",
    "Please enter the exchange rate (1 EUR to USD): 100.00<br>\n",
    "The equivalent USD amount is: $137.00<br>\n"
   ]
  },
  {
   "cell_type": "code",
   "execution_count": 60,
   "metadata": {},
   "outputs": [
    {
     "name": "stdout",
     "output_type": "stream",
     "text": [
      "Please enter the foreign currency symbol: EUR\n",
      "Please enter the amount in EUR:12\n",
      "Please enter the exchange rate(1 EUR to USD):100\n",
      "1200.00\n",
      "The equivalent USD amount is: $1200.00\n"
     ]
    }
   ],
   "source": [
    "#alh2202\n",
    "foreign_currency = input(\"Please enter the foreign currency symbol: \")\n",
    "amount_in_X = input(\"Please enter the amount in \" + foreign_currency + \":\")\n",
    "exchange_rate = input(\"Please enter the exchange rate(1 \" + foreign_currency + \" to USD):\")\n",
    "\n",
    "x=float(amount_in_X)\n",
    "y=float(exchange_rate)\n",
    "answer = x*y\n",
    "\n",
    "final = format(answer, '.2f')\n",
    "\n",
    "print(\"The equivalent USD amount is: $\"+final)"
   ]
  },
  {
   "cell_type": "code",
   "execution_count": null,
   "metadata": {},
   "outputs": [],
   "source": []
  },
  {
   "cell_type": "code",
   "execution_count": null,
   "metadata": {},
   "outputs": [],
   "source": []
  }
 ],
 "metadata": {
  "kernelspec": {
   "display_name": "Python 3",
   "language": "python",
   "name": "python3"
  },
  "language_info": {
   "codemirror_mode": {
    "name": "ipython",
    "version": 3
   },
   "file_extension": ".py",
   "mimetype": "text/x-python",
   "name": "python",
   "nbconvert_exporter": "python",
   "pygments_lexer": "ipython3",
   "version": "3.6.5"
  }
 },
 "nbformat": 4,
 "nbformat_minor": 2
}
